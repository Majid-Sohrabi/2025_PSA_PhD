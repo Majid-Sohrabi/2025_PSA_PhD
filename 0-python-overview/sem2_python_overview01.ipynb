{
 "cells": [
  {
   "cell_type": "markdown",
   "id": "916bd05d",
   "metadata": {},
   "source": [
    "# Hands on Python\n",
    "\n",
    "Extra material for learning Python:\n",
    "\n",
    "1. [W3school](https://www.w3schools.com/python/default.asp)\n",
    "2. [Python documentation](https://docs.python.org/3/tutorial/)\n",
    "\n",
    "## Import Libraries"
   ]
  },
  {
   "cell_type": "code",
   "execution_count": null,
   "id": "181b98bb",
   "metadata": {},
   "outputs": [],
   "source": [
    "import keyword\n",
    "import sys"
   ]
  },
  {
   "cell_type": "markdown",
   "id": "f0e46f08",
   "metadata": {},
   "source": [
    "## Keywords\n",
    "\n",
    "Keywords are the reserved words in Python and can't be used as an identifier or variables"
   ]
  },
  {
   "cell_type": "code",
   "execution_count": null,
   "id": "16286737",
   "metadata": {},
   "outputs": [],
   "source": [
    "print(keyword.kwlist)  #List of all python keywords"
   ]
  },
  {
   "cell_type": "code",
   "execution_count": null,
   "id": "ca0ac795",
   "metadata": {},
   "outputs": [],
   "source": [
    "len(keyword.kwlist)   # Python contains 36 keywords"
   ]
  },
  {
   "cell_type": "markdown",
   "id": "9d759d12",
   "metadata": {},
   "source": [
    "## Identifiers\n",
    "\n",
    "- Identifier can't start with a digit\n",
    "- Identifier can't use special symbols\n",
    "- Keywords can't be used as identifiers\n",
    "\n",
    "The correct way of defining identifiers are starting with lowercase (a-z) or uppercase (A-Z) followed by numbers."
   ]
  },
  {
   "cell_type": "code",
   "execution_count": null,
   "id": "cf5d9962",
   "metadata": {},
   "outputs": [],
   "source": [
    "1var = 10"
   ]
  },
  {
   "cell_type": "code",
   "execution_count": null,
   "id": "5b276193",
   "metadata": {},
   "outputs": [],
   "source": [
    "val2@ = 35"
   ]
  },
  {
   "cell_type": "code",
   "execution_count": null,
   "id": "afca05d3",
   "metadata": {},
   "outputs": [],
   "source": [
    "import = 125"
   ]
  },
  {
   "cell_type": "code",
   "execution_count": null,
   "id": "f9513b37",
   "metadata": {},
   "outputs": [],
   "source": [
    "val2 = 10"
   ]
  },
  {
   "cell_type": "code",
   "execution_count": null,
   "id": "7523a7fa",
   "metadata": {},
   "outputs": [],
   "source": [
    "val_ = 99"
   ]
  },
  {
   "cell_type": "markdown",
   "id": "75dab19a",
   "metadata": {},
   "source": [
    "## Comments in Python\n",
    "\n",
    "Comments are used for explaining the process or the snippet code. The IDE will not execute the comments."
   ]
  },
  {
   "cell_type": "code",
   "execution_count": null,
   "id": "36ef6baf",
   "metadata": {},
   "outputs": [],
   "source": [
    "# Single line comment\n",
    "val1 = 10  "
   ]
  },
  {
   "cell_type": "code",
   "execution_count": null,
   "id": "9e439f74",
   "metadata": {},
   "outputs": [],
   "source": [
    "# Multiple\n",
    "# line\n",
    "# comment\n",
    "val1 = 10"
   ]
  },
  {
   "cell_type": "code",
   "execution_count": null,
   "id": "a63e7e66",
   "metadata": {},
   "outputs": [],
   "source": [
    "# Multi-line comments (block comments)\n",
    "'''\n",
    "Multiple\n",
    "line\n",
    "comment\n",
    "'''\n",
    "val1 = 10"
   ]
  },
  {
   "cell_type": "code",
   "execution_count": null,
   "id": "af210596",
   "metadata": {},
   "outputs": [],
   "source": [
    "\"\"\"\n",
    "Multiple\n",
    "line\n",
    "comment\n",
    "\"\"\"\n",
    "val1 = 10"
   ]
  },
  {
   "cell_type": "markdown",
   "id": "ed5844e3",
   "metadata": {},
   "source": [
    "## Statements"
   ]
  },
  {
   "cell_type": "code",
   "execution_count": null,
   "id": "cd7da96d",
   "metadata": {},
   "outputs": [],
   "source": [
    "# Single line statement\n",
    "p1 = 10 + 20\n",
    "p1"
   ]
  },
  {
   "cell_type": "code",
   "execution_count": null,
   "id": "820b2787",
   "metadata": {},
   "outputs": [],
   "source": [
    "# Single line statement\n",
    "p2 = ['a' , 'b' , 'c' , 'd']\n",
    "p2"
   ]
  },
  {
   "cell_type": "code",
   "execution_count": null,
   "id": "6f2e9f38",
   "metadata": {},
   "outputs": [],
   "source": [
    "# Multiple line statement\n",
    "p1 = 20 + 30 \\\n",
    "+ 40 + 50 +\\\n",
    "+ 70 + 80\n",
    "p1"
   ]
  },
  {
   "cell_type": "code",
   "execution_count": null,
   "id": "ab4c1071",
   "metadata": {},
   "outputs": [],
   "source": [
    "p1 = 20 + 30 + 40 + 50 + 70 + 80\n",
    "p1"
   ]
  },
  {
   "cell_type": "markdown",
   "id": "c95cae2e",
   "metadata": {},
   "source": [
    "## Indentation\n",
    "\n",
    "Indentation refers to the spaces at the beginning of a code line. It is very important as Python uses indentation to indicate a block of code. If the indentation is not correct we will endup with `IndentationError` error."
   ]
  },
  {
   "cell_type": "code",
   "execution_count": null,
   "id": "a0e1367b",
   "metadata": {},
   "outputs": [],
   "source": [
    "p = 10\n",
    "\n",
    "if p == 10:\n",
    "    print('P is equal to 10') # correct indentation"
   ]
  },
  {
   "cell_type": "code",
   "execution_count": null,
   "id": "07b5e3b0",
   "metadata": {},
   "outputs": [],
   "source": [
    "p = 10\n",
    "\n",
    "if p == 10: \n",
    "print('P is equal to 10') # correct indentation"
   ]
  },
  {
   "cell_type": "code",
   "execution_count": null,
   "id": "526daf48",
   "metadata": {},
   "outputs": [],
   "source": [
    "for i in range(0,5):\n",
    "    print(i)"
   ]
  },
  {
   "cell_type": "code",
   "execution_count": null,
   "id": "912ce53e",
   "metadata": {},
   "outputs": [],
   "source": [
    "for i in range(0,5):\n",
    "print(i)"
   ]
  },
  {
   "cell_type": "code",
   "execution_count": null,
   "id": "c6bb664c",
   "metadata": {},
   "outputs": [],
   "source": [
    "# Correct format but less readable\n",
    "\n",
    "for i in range(0,5): print(i)"
   ]
  },
  {
   "cell_type": "code",
   "execution_count": null,
   "id": "48399659",
   "metadata": {},
   "outputs": [],
   "source": [
    "j = 20\n",
    "for i in range(0, 5):\n",
    "    print(i) # inside the for loop\n",
    "\n",
    "print(j) # outside the for loop"
   ]
  },
  {
   "cell_type": "markdown",
   "id": "4a885e9c",
   "metadata": {},
   "source": [
    "## Functions"
   ]
  },
  {
   "cell_type": "code",
   "execution_count": null,
   "id": "72297591",
   "metadata": {},
   "outputs": [],
   "source": [
    "def evenodd(num):\n",
    "    if num % 2 == 0:\n",
    "        print(\"Even Number\")\n",
    "    else:\n",
    "        print(\"Odd Number\")"
   ]
  },
  {
   "cell_type": "code",
   "execution_count": null,
   "id": "89ca584f",
   "metadata": {},
   "outputs": [],
   "source": [
    "evenodd(3)"
   ]
  },
  {
   "cell_type": "code",
   "execution_count": null,
   "id": "df6b20e7",
   "metadata": {},
   "outputs": [],
   "source": [
    "evenodd(2)"
   ]
  },
  {
   "cell_type": "markdown",
   "id": "ed13221c",
   "metadata": {},
   "source": [
    "## Variables\n",
    "\n",
    "A Python variable is a reserved memory location to store values. A variable is created the moment you first assign a value to it."
   ]
  },
  {
   "cell_type": "code",
   "execution_count": null,
   "id": "25615fa8",
   "metadata": {},
   "outputs": [],
   "source": [
    "p = 30"
   ]
  },
  {
   "cell_type": "code",
   "execution_count": null,
   "id": "45aae076",
   "metadata": {},
   "outputs": [],
   "source": [
    "'''\n",
    "id() function returns the “identity” of the object.\n",
    "The identity of an object - Is an integer\n",
    "                          - Guaranteed to be unique\n",
    "                          - Constant for this object during its lifetime.\n",
    "'''\n",
    "id(p)"
   ]
  },
  {
   "cell_type": "code",
   "execution_count": null,
   "id": "40be96a1",
   "metadata": {},
   "outputs": [],
   "source": [
    "# Memory address of the variable\n",
    "hex(id(p))"
   ]
  },
  {
   "cell_type": "code",
   "execution_count": null,
   "id": "54f6867f",
   "metadata": {},
   "outputs": [],
   "source": [
    "type(p)"
   ]
  },
  {
   "cell_type": "code",
   "execution_count": null,
   "id": "41bac9d3",
   "metadata": {},
   "outputs": [],
   "source": [
    "p = 20\n",
    "p = p + 10 # Variable Overwriting\n",
    "p"
   ]
  },
  {
   "cell_type": "code",
   "execution_count": null,
   "id": "62c43b86",
   "metadata": {},
   "outputs": [],
   "source": [
    "# ID is. still the same\n",
    "id(p)"
   ]
  },
  {
   "cell_type": "markdown",
   "id": "2dc2f180",
   "metadata": {},
   "source": [
    "## Variable Assigment"
   ]
  },
  {
   "cell_type": "code",
   "execution_count": null,
   "id": "b097b1ec",
   "metadata": {},
   "outputs": [],
   "source": [
    "intvar = 10 # Integer variable\n",
    "floatvar = 2.57 # Float Variable\n",
    "strvar = \"Python Language\" # String variable\n",
    "\n",
    "print(intvar)\n",
    "print(floatvar)\n",
    "print(strvar)"
   ]
  },
  {
   "cell_type": "markdown",
   "id": "faaa8914",
   "metadata": {},
   "source": [
    "## Multiple Assignments"
   ]
  },
  {
   "cell_type": "code",
   "execution_count": null,
   "id": "5b5c7d3a",
   "metadata": {},
   "outputs": [],
   "source": [
    "intvar, floatvar, strvar = 10, 2.57, \"Python Language\" # Using commas to separate\n",
    "\n",
    "print(intvar)\n",
    "print(floatvar)\n",
    "print(strvar)"
   ]
  },
  {
   "cell_type": "code",
   "execution_count": null,
   "id": "110fde25",
   "metadata": {},
   "outputs": [],
   "source": [
    "p1 = p2 = p3 = p4 = 44 # All variables pointing to same value\n",
    "\n",
    "print(p1, p2, p3, p4)"
   ]
  },
  {
   "cell_type": "markdown",
   "id": "0e164ae7",
   "metadata": {},
   "source": [
    "## Data Types\n",
    "\n",
    "### Numeric"
   ]
  },
  {
   "cell_type": "code",
   "execution_count": null,
   "id": "6160dfbb",
   "metadata": {},
   "outputs": [],
   "source": [
    "val1 = 10 # Integer data type\n",
    "\n",
    "print(val1)\n",
    "print(type(val1)) # type of object"
   ]
  },
  {
   "cell_type": "code",
   "execution_count": null,
   "id": "79985c22",
   "metadata": {},
   "outputs": [],
   "source": [
    "val2 = 92.78 # Float data type\n",
    "\n",
    "print(val2)\n",
    "print(type(val2)) # type of object"
   ]
  },
  {
   "cell_type": "code",
   "execution_count": null,
   "id": "70f609ac",
   "metadata": {},
   "outputs": [],
   "source": [
    "val3 = 25 + 10j # Complex data type\n",
    "\n",
    "print(val3)\n",
    "print(type(val3)) # type of object"
   ]
  },
  {
   "cell_type": "markdown",
   "id": "35fa968e",
   "metadata": {},
   "source": [
    "### Boolean"
   ]
  },
  {
   "cell_type": "code",
   "execution_count": null,
   "id": "664e1bff",
   "metadata": {},
   "outputs": [],
   "source": [
    "bool1 = True\n",
    "bool2 = False\n",
    "\n",
    "print(type(bool1))\n",
    "print(type(bool2))"
   ]
  },
  {
   "cell_type": "code",
   "execution_count": null,
   "id": "b31d649c",
   "metadata": {},
   "outputs": [],
   "source": [
    "isinstance(bool1, bool)"
   ]
  },
  {
   "cell_type": "code",
   "execution_count": null,
   "id": "2a7c6b67",
   "metadata": {},
   "outputs": [],
   "source": [
    "bool(0)"
   ]
  },
  {
   "cell_type": "code",
   "execution_count": null,
   "id": "0230e019",
   "metadata": {},
   "outputs": [],
   "source": [
    "bool(None)"
   ]
  },
  {
   "cell_type": "code",
   "execution_count": null,
   "id": "c08d39d2",
   "metadata": {},
   "outputs": [],
   "source": [
    "bool(False)"
   ]
  },
  {
   "cell_type": "code",
   "execution_count": null,
   "id": "7a068139",
   "metadata": {},
   "outputs": [],
   "source": [
    "bool(1)"
   ]
  },
  {
   "cell_type": "markdown",
   "id": "58c2b7e4",
   "metadata": {},
   "source": [
    "### Strings\n",
    "\n",
    "### String Creation"
   ]
  },
  {
   "cell_type": "code",
   "execution_count": null,
   "id": "02cb76e4",
   "metadata": {},
   "outputs": [],
   "source": [
    "str1 = \"HELLO PYTHON\"  # Define string using double quotes\n",
    "print(str1)"
   ]
  },
  {
   "cell_type": "code",
   "execution_count": null,
   "id": "de851441",
   "metadata": {},
   "outputs": [],
   "source": [
    "mystr = 'Hello World' # Define string using single quotes\n",
    "print(mystr)"
   ]
  },
  {
   "cell_type": "code",
   "execution_count": null,
   "id": "691d8365",
   "metadata": {},
   "outputs": [],
   "source": [
    "mystr = '''Hello\n",
    "           World '''  # Define string using triple quotes\n",
    "print(mystr)"
   ]
  },
  {
   "cell_type": "code",
   "execution_count": null,
   "id": "3950aeb1",
   "metadata": {},
   "outputs": [],
   "source": [
    "mystr = ('Happy '\n",
    "         'Monday '\n",
    "         'Everyone')\n",
    "print(mystr)"
   ]
  },
  {
   "cell_type": "code",
   "execution_count": null,
   "id": "5c3514ad",
   "metadata": {},
   "outputs": [],
   "source": [
    "mystr2 = 'Woohoo '\n",
    "\n",
    "mystr2 = mystr2 * 5\n",
    "mystr2"
   ]
  },
  {
   "cell_type": "code",
   "execution_count": null,
   "id": "3d8c5a74",
   "metadata": {},
   "outputs": [],
   "source": [
    "len(mystr2) # Length of string\n",
    "\n",
    "# Why 35??!!"
   ]
  },
  {
   "cell_type": "code",
   "execution_count": null,
   "id": "0a3b59db",
   "metadata": {},
   "outputs": [],
   "source": [
    "print('You\\'r a very good programmer')"
   ]
  },
  {
   "attachments": {
    "Indexing.png": {
     "image/png": "[encoded data removed]"
    }
   },
   "cell_type": "markdown",
   "id": "717c379f",
   "metadata": {},
   "source": [
    "### String Indexing\n",
    "\n",
    "![Indexing.png](attachment:Indexing.png)"
   ]
  },
  {
   "cell_type": "code",
   "execution_count": null,
   "id": "e214eacd",
   "metadata": {},
   "outputs": [],
   "source": [
    "str1"
   ]
  },
  {
   "cell_type": "code",
   "execution_count": null,
   "id": "f66d5532",
   "metadata": {},
   "outputs": [],
   "source": [
    "# Python is 0 base format (index start from 0 to n-1)\n",
    "str1[0] # First character in string \"str1\""
   ]
  },
  {
   "cell_type": "code",
   "execution_count": null,
   "id": "5d8c463c",
   "metadata": {},
   "outputs": [],
   "source": [
    "len(str1)"
   ]
  },
  {
   "cell_type": "code",
   "execution_count": null,
   "id": "f015ba67",
   "metadata": {},
   "outputs": [],
   "source": [
    "str1[len(str1)-1]"
   ]
  },
  {
   "cell_type": "code",
   "execution_count": null,
   "id": "3c4beb3c",
   "metadata": {},
   "outputs": [],
   "source": [
    "# Minus index in Python gives indexes from the end (in R programming, using minus index will remove that element)\n",
    "\n",
    "str1[-1] # Last character in string"
   ]
  },
  {
   "cell_type": "code",
   "execution_count": null,
   "id": "38477275",
   "metadata": {},
   "outputs": [],
   "source": [
    "str1[6] #Fetch 7th element of the string"
   ]
  },
  {
   "cell_type": "code",
   "execution_count": null,
   "id": "e132c430",
   "metadata": {},
   "outputs": [],
   "source": [
    "str1[5]"
   ]
  },
  {
   "cell_type": "markdown",
   "id": "160844f2",
   "metadata": {},
   "source": [
    "### String Slicing"
   ]
  },
  {
   "cell_type": "code",
   "execution_count": null,
   "id": "ce198197",
   "metadata": {},
   "outputs": [],
   "source": [
    "print(str1)\n",
    "\n",
    "str1[0:5]"
   ]
  },
  {
   "cell_type": "code",
   "execution_count": null,
   "id": "78e11ddc",
   "metadata": {},
   "outputs": [],
   "source": [
    "str1[6:12]"
   ]
  },
  {
   "cell_type": "code",
   "execution_count": null,
   "id": "f9fb59bd",
   "metadata": {},
   "outputs": [],
   "source": [
    "str1[-4:]"
   ]
  },
  {
   "cell_type": "code",
   "execution_count": null,
   "id": "a2f1ee5c",
   "metadata": {},
   "outputs": [],
   "source": [
    "str1[:4]"
   ]
  },
  {
   "cell_type": "code",
   "execution_count": null,
   "id": "fbd260a6",
   "metadata": {},
   "outputs": [],
   "source": [
    "# How to delete a string??!!\n",
    "\n",
    "print(str1)\n",
    "\n",
    "del str1 # Delete a string\n",
    "\n",
    "print(srt1)"
   ]
  },
  {
   "cell_type": "markdown",
   "id": "3636f5f4",
   "metadata": {},
   "source": [
    "### String concatenation"
   ]
  },
  {
   "cell_type": "code",
   "execution_count": null,
   "id": "d3754821",
   "metadata": {},
   "outputs": [],
   "source": [
    "# String concatenation\n",
    "s1 = \"Hello\"\n",
    "s2 = \"Asif\"\n",
    "\n",
    "s3 = s1 + s2\n",
    "\n",
    "print(s3)"
   ]
  },
  {
   "cell_type": "code",
   "execution_count": null,
   "id": "1df4d6ed",
   "metadata": {},
   "outputs": [],
   "source": [
    "# String concatenation\n",
    "s1 = \"Hello\"\n",
    "s2 = \"Asif\"\n",
    "s3 = s1 + \" \" + s2\n",
    "print(s3)"
   ]
  },
  {
   "cell_type": "markdown",
   "id": "afe750b0",
   "metadata": {},
   "source": [
    "### Iterating through a String"
   ]
  },
  {
   "cell_type": "code",
   "execution_count": null,
   "id": "6fbc7464",
   "metadata": {},
   "outputs": [],
   "source": [
    "mystr1 = \"Hello Everyone\"\n",
    "\n",
    "# Iteration\n",
    "for i in mystr1:\n",
    "    print(i)"
   ]
  },
  {
   "cell_type": "markdown",
   "id": "eb74d548",
   "metadata": {},
   "source": [
    "## List\n",
    "\n",
    "- List is an ordered sequence of items.\n",
    "- We can have different data types under a list. E.g we can have integer, float and string items in a same list."
   ]
  },
  {
   "cell_type": "code",
   "execution_count": null,
   "id": "a7d357fb",
   "metadata": {},
   "outputs": [],
   "source": [
    "list1 = [] # Empty List\n",
    "\n",
    "type(list1)"
   ]
  },
  {
   "cell_type": "code",
   "execution_count": null,
   "id": "c9e198ee",
   "metadata": {},
   "outputs": [],
   "source": [
    "list2 = [10, 30, 60]  # List of integers numbers\n",
    "\n",
    "list3 = [10.77, 30.66, 60.89]        # List of float numbers\n",
    "\n",
    "list4 = ['one', 'two' , \"three\"]    # List of strings\n",
    "\n",
    "list5 = ['Asif', 25 , [50, 100], [150, 90]]    # Nested Lists\n",
    "\n",
    "list6 = [100, 'Asif', 17.765]      # List of mixed data types\n",
    "\n",
    "list7 = ['Asif', 25 ,[50, 100],[150.1, 90.2] , {'John', 'David'}]\n",
    "\n",
    "len(list6) #Length of list"
   ]
  },
  {
   "attachments": {
    "List_indexing.png": {
     "image/png": "[encoded data removed]"
    }
   },
   "cell_type": "markdown",
   "id": "666cf8ca",
   "metadata": {},
   "source": [
    "### List indexing\n",
    "\n",
    "![List_indexing.png](attachment:List_indexing.png)"
   ]
  },
  {
   "cell_type": "code",
   "execution_count": null,
   "id": "4a6cbd27",
   "metadata": {},
   "outputs": [],
   "source": [
    "print(list2)\n",
    "\n",
    "list2[0] # Retreive first element of the list"
   ]
  },
  {
   "cell_type": "code",
   "execution_count": null,
   "id": "a59c3daa",
   "metadata": {},
   "outputs": [],
   "source": [
    "print(list(list4))\n",
    "\n",
    "list4[0][0] # Nested indexing"
   ]
  },
  {
   "cell_type": "code",
   "execution_count": null,
   "id": "1e0a6c51",
   "metadata": {},
   "outputs": [],
   "source": [
    "list4[-1] # Last item of the list"
   ]
  },
  {
   "cell_type": "code",
   "execution_count": null,
   "id": "ef1792e3",
   "metadata": {},
   "outputs": [],
   "source": [
    "print(list5)\n",
    "\n",
    "list5[-1]"
   ]
  },
  {
   "cell_type": "code",
   "execution_count": null,
   "id": "e1ea37f9",
   "metadata": {},
   "outputs": [],
   "source": [
    "list5[-1][0]"
   ]
  },
  {
   "cell_type": "markdown",
   "id": "d1b76c7a",
   "metadata": {},
   "source": [
    "### List Slicing"
   ]
  },
  {
   "cell_type": "code",
   "execution_count": null,
   "id": "6717da6c",
   "metadata": {},
   "outputs": [],
   "source": [
    "mylist = ['one' , 'two' , 'three' , 'four' , 'five' , 'six' , 'seven' , 'eight']\n",
    "\n",
    "mylist[0:3] # Return all items from 0th to 3rd index"
   ]
  },
  {
   "cell_type": "code",
   "execution_count": null,
   "id": "b3c0f331",
   "metadata": {},
   "outputs": [],
   "source": [
    "mylist[:3] # Return first three items"
   ]
  },
  {
   "cell_type": "code",
   "execution_count": null,
   "id": "167fce70",
   "metadata": {},
   "outputs": [],
   "source": [
    "mylist[-3:] # Return last three items"
   ]
  },
  {
   "cell_type": "code",
   "execution_count": null,
   "id": "8ddf44fb",
   "metadata": {},
   "outputs": [],
   "source": [
    "mylist[-1] # Return last item of the list"
   ]
  },
  {
   "cell_type": "code",
   "execution_count": null,
   "id": "068767fd",
   "metadata": {},
   "outputs": [],
   "source": [
    "mylist[:] # Return whole list   mylist[:] == mylist"
   ]
  },
  {
   "cell_type": "markdown",
   "id": "6c6ad56d",
   "metadata": {},
   "source": [
    "### Add , Remove & Change Items"
   ]
  },
  {
   "cell_type": "code",
   "execution_count": null,
   "id": "7bcca457",
   "metadata": {},
   "outputs": [],
   "source": [
    "mylist"
   ]
  },
  {
   "cell_type": "code",
   "execution_count": null,
   "id": "65569e01",
   "metadata": {},
   "outputs": [],
   "source": [
    "mylist.append('nine') # Add an item to the end of the list\n",
    "mylist"
   ]
  },
  {
   "cell_type": "code",
   "execution_count": null,
   "id": "c71b68c4",
   "metadata": {},
   "outputs": [],
   "source": [
    "mylist.insert(9,'ten') # Add item at index location 9\n",
    "mylist"
   ]
  },
  {
   "cell_type": "code",
   "execution_count": null,
   "id": "59948ede",
   "metadata": {},
   "outputs": [],
   "source": [
    "mylist.insert(1,'ONE') # Add item at index location 1\n",
    "mylist"
   ]
  },
  {
   "cell_type": "code",
   "execution_count": null,
   "id": "72df53fa",
   "metadata": {},
   "outputs": [],
   "source": [
    "mylist.remove('ONE') # Remove item \"ONE\"\n",
    "mylist"
   ]
  },
  {
   "cell_type": "code",
   "execution_count": null,
   "id": "97141fde",
   "metadata": {},
   "outputs": [],
   "source": [
    "mylist.pop() # Remove last item of the list\n",
    "mylist"
   ]
  },
  {
   "cell_type": "code",
   "execution_count": null,
   "id": "644cc012",
   "metadata": {},
   "outputs": [],
   "source": [
    "mylist.pop(8) # Remove item at index location 8\n",
    "mylist"
   ]
  },
  {
   "cell_type": "code",
   "execution_count": null,
   "id": "b0ef9327",
   "metadata": {},
   "outputs": [],
   "source": [
    "del mylist[7] # Remove item at index location 7\n",
    "mylist"
   ]
  },
  {
   "cell_type": "code",
   "execution_count": null,
   "id": "2218c521",
   "metadata": {},
   "outputs": [],
   "source": [
    "# Change value of the list\n",
    "mylist[0] = 1\n",
    "mylist[1] = 2\n",
    "mylist[2] = 3\n",
    "\n",
    "mylist"
   ]
  },
  {
   "cell_type": "code",
   "execution_count": null,
   "id": "52873673",
   "metadata": {},
   "outputs": [],
   "source": [
    "mylist.clear()    # Empty List / Delete all items in the list\n",
    "mylist"
   ]
  },
  {
   "cell_type": "code",
   "execution_count": null,
   "id": "8d3d6342",
   "metadata": {},
   "outputs": [],
   "source": [
    "del mylist # Delete the whole list\n",
    "mylist"
   ]
  },
  {
   "cell_type": "markdown",
   "id": "ac9eccd0",
   "metadata": {},
   "source": [
    "### Copy List\n",
    "\n",
    "Be carefull during copying then manipulating the list. **Why??**!!"
   ]
  },
  {
   "cell_type": "code",
   "execution_count": null,
   "id": "de543a5b",
   "metadata": {},
   "outputs": [],
   "source": [
    "mylist = ['one', 'two', 'three', 'four', 'five', 'six', 'seven', 'eight', 'nine', 'ten']"
   ]
  },
  {
   "cell_type": "code",
   "execution_count": null,
   "id": "449c9703",
   "metadata": {},
   "outputs": [],
   "source": [
    "mylist1 = mylist # Create a new reference \"mylist1\""
   ]
  },
  {
   "cell_type": "code",
   "execution_count": null,
   "id": "c27a461f",
   "metadata": {},
   "outputs": [],
   "source": [
    "id(mylist) , id(mylist1) # The address of both mylist & mylist1 will be the same"
   ]
  },
  {
   "cell_type": "code",
   "execution_count": null,
   "id": "9b4fe287",
   "metadata": {},
   "outputs": [],
   "source": [
    "mylist2 = mylist.copy() # Create a copy of the list"
   ]
  },
  {
   "cell_type": "code",
   "execution_count": null,
   "id": "af9a017e",
   "metadata": {},
   "outputs": [],
   "source": [
    "id(mylist2) # The address of mylist2 will be different from mylist"
   ]
  },
  {
   "cell_type": "code",
   "execution_count": null,
   "id": "478c3e0b",
   "metadata": {},
   "outputs": [],
   "source": [
    "mylist[0] = 1"
   ]
  },
  {
   "cell_type": "code",
   "execution_count": null,
   "id": "cb9d5300",
   "metadata": {},
   "outputs": [],
   "source": [
    "mylist"
   ]
  },
  {
   "cell_type": "code",
   "execution_count": null,
   "id": "0e3681b2",
   "metadata": {},
   "outputs": [],
   "source": [
    "mylist1 # mylist1 will be also impacted as it is pointing to the same list"
   ]
  },
  {
   "cell_type": "code",
   "execution_count": null,
   "id": "2b18ad2f",
   "metadata": {},
   "outputs": [],
   "source": [
    "mylist2 # Copy of list won't be impacted due to changes made on the original"
   ]
  },
  {
   "cell_type": "markdown",
   "id": "399d4a88",
   "metadata": {},
   "source": [
    "### Join Lists"
   ]
  },
  {
   "cell_type": "code",
   "execution_count": null,
   "id": "9b98eef4",
   "metadata": {},
   "outputs": [],
   "source": [
    "list1 = ['one', 'two', 'three', 'four']\n",
    "list2 = ['five', 'six', 'seven', 'eight']"
   ]
  },
  {
   "cell_type": "code",
   "execution_count": null,
   "id": "aabe2295",
   "metadata": {},
   "outputs": [],
   "source": [
    "list3 = list1 + list2 # Join two lists by '+' operator\n",
    "list3"
   ]
  },
  {
   "cell_type": "code",
   "execution_count": null,
   "id": "e2f5222f",
   "metadata": {},
   "outputs": [],
   "source": [
    "list1.extend(list2) # Append list2 with list1\n",
    "list1"
   ]
  },
  {
   "cell_type": "markdown",
   "id": "80a968d9",
   "metadata": {},
   "source": [
    "### Reverse & Sort List"
   ]
  },
  {
   "cell_type": "code",
   "execution_count": null,
   "id": "a576f6e0",
   "metadata": {},
   "outputs": [],
   "source": [
    "list1"
   ]
  },
  {
   "cell_type": "code",
   "execution_count": null,
   "id": "239e63de",
   "metadata": {},
   "outputs": [],
   "source": [
    "list1.reverse() # Reverse the list\n",
    "list1"
   ]
  },
  {
   "cell_type": "code",
   "execution_count": null,
   "id": "d04e3a8d",
   "metadata": {},
   "outputs": [],
   "source": [
    "list1 = list1[::-1] # Reverse the list\n",
    "list1"
   ]
  },
  {
   "cell_type": "code",
   "execution_count": null,
   "id": "f7f9fb14",
   "metadata": {},
   "outputs": [],
   "source": [
    "mylist3 = [9, 5, 2, 99, 12, 88, 34]\n",
    "mylist3.sort()  # Sort list in ascending order (default of the sort() function is ascending)\n",
    "mylist3"
   ]
  },
  {
   "cell_type": "code",
   "execution_count": null,
   "id": "1eaa8cb1",
   "metadata": {},
   "outputs": [],
   "source": [
    "mylist3 = [9,5,2,99,12,88,34]\n",
    "mylist3.sort(reverse = True) # Sort list in descending order\n",
    "mylist3"
   ]
  },
  {
   "cell_type": "code",
   "execution_count": null,
   "id": "2ae2302a",
   "metadata": {},
   "outputs": [],
   "source": [
    "mylist4 = [88,65,33,21,11,98]\n",
    "sorted(mylist4) # Returns a new sorted list and doesn't change original list"
   ]
  },
  {
   "cell_type": "code",
   "execution_count": null,
   "id": "de7a1d58",
   "metadata": {},
   "outputs": [],
   "source": [
    "mylist4"
   ]
  },
  {
   "cell_type": "markdown",
   "id": "1190924c",
   "metadata": {},
   "source": [
    "### Loop through a list"
   ]
  },
  {
   "cell_type": "code",
   "execution_count": null,
   "id": "976fbf93",
   "metadata": {},
   "outputs": [],
   "source": [
    "list1"
   ]
  },
  {
   "cell_type": "code",
   "execution_count": null,
   "id": "8e7d7a77",
   "metadata": {},
   "outputs": [],
   "source": [
    "for i in list1:\n",
    "    print(i)"
   ]
  },
  {
   "cell_type": "code",
   "execution_count": null,
   "id": "a3ac9b48",
   "metadata": {},
   "outputs": [],
   "source": [
    "for i in enumerate(list1):\n",
    "    print(i)"
   ]
  },
  {
   "cell_type": "code",
   "execution_count": null,
   "id": "5d951894",
   "metadata": {},
   "outputs": [],
   "source": [
    "for ind, val in enumerate(list1):\n",
    "    print(f'index is: {ind}')\n",
    "    print(f'value is: {val}\\n')"
   ]
  },
  {
   "cell_type": "markdown",
   "id": "ac5c5569",
   "metadata": {},
   "source": [
    "### Count"
   ]
  },
  {
   "cell_type": "code",
   "execution_count": null,
   "id": "c268fc5f",
   "metadata": {},
   "outputs": [],
   "source": [
    "list10 = ['one', 'two', 'three', 'four', 'one', 'one', 'two', 'three']"
   ]
  },
  {
   "cell_type": "code",
   "execution_count": null,
   "id": "1f88a935",
   "metadata": {},
   "outputs": [],
   "source": [
    "list10.count('one') # Number of times item \"one\" occurred in the list."
   ]
  },
  {
   "cell_type": "code",
   "execution_count": null,
   "id": "8fed1c77",
   "metadata": {},
   "outputs": [],
   "source": [
    "list10.count('four') #Occurence of item 'four' in the list"
   ]
  },
  {
   "cell_type": "markdown",
   "id": "22cd6fb8",
   "metadata": {},
   "source": [
    "## Tuples\n",
    "\n",
    "1. Tuple is similar to List except that the objects in tuple are immutable which means we cannot change the elements of a tuple once assigned.\n",
    "2. When we do not want to change the data over time, tuple is a preferred data type.\n",
    "3. *Iterating over the elements of a tuple is **faster** compared to iterating over a list*.\n",
    "\n",
    "### Tuple Creation"
   ]
  },
  {
   "cell_type": "code",
   "execution_count": null,
   "id": "fdd8ea32",
   "metadata": {},
   "outputs": [],
   "source": [
    "tup1 = () # Empty tuple\n",
    "\n",
    "tup2 = (10, 30, 60) # tuple of integers numbers\n",
    "\n",
    "tup3 = (10.77, 30.66, 60.89) # tuple of float numbers\n",
    "\n",
    "tup4 = ('one', 'two' , \"three\") # tuple of strings\n",
    "\n",
    "tup5 = ('Asif', 25 ,(50, 100), (150, 90)) # Nested tuples\n",
    "\n",
    "tup6 = (100, 'Asif', 17.765)\n",
    "\n",
    "tup7 = ('Asif', 25 ,[50, 100], [150, 90] , {'John' , 'David'} , (99,22,33))\n",
    "\n",
    "tup8 = (1,)\n",
    "\n",
    "len(tup7) #Length of list"
   ]
  },
  {
   "cell_type": "markdown",
   "id": "0b4f779b",
   "metadata": {},
   "source": [
    "### Tuple Indexing"
   ]
  },
  {
   "cell_type": "code",
   "execution_count": null,
   "id": "b22db3c2",
   "metadata": {},
   "outputs": [],
   "source": [
    "tup2[0] # Retreive first element of the tuple"
   ]
  },
  {
   "cell_type": "code",
   "execution_count": null,
   "id": "87762cb8",
   "metadata": {},
   "outputs": [],
   "source": [
    "tup4[0][0] # Nested indexing"
   ]
  },
  {
   "cell_type": "code",
   "execution_count": null,
   "id": "e4ab0d9c",
   "metadata": {},
   "outputs": [],
   "source": [
    "tup4[-1] # Last item of the tuple"
   ]
  },
  {
   "cell_type": "markdown",
   "id": "83292f57",
   "metadata": {},
   "source": [
    "### Tuple Slicing"
   ]
  },
  {
   "cell_type": "code",
   "execution_count": null,
   "id": "7024c277",
   "metadata": {},
   "outputs": [],
   "source": [
    "mytuple = ('one' , 'two' , 'three' , 'four' , 'five' , 'six' , 'seven' , 'eight')\n",
    "\n",
    "mytuple[0:3] # Return all items from 0th to 3rd index"
   ]
  },
  {
   "cell_type": "code",
   "execution_count": null,
   "id": "0cf703c9",
   "metadata": {},
   "outputs": [],
   "source": [
    "mytuple[:3] # Return first three items"
   ]
  },
  {
   "cell_type": "code",
   "execution_count": null,
   "id": "d0859a70",
   "metadata": {},
   "outputs": [],
   "source": [
    "mytuple[-3:] # Return last three items"
   ]
  },
  {
   "cell_type": "code",
   "execution_count": null,
   "id": "d7e52dc5",
   "metadata": {},
   "outputs": [],
   "source": [
    "mytuple[:] # Return whole tuple (mytuple[:] == mytuple)"
   ]
  },
  {
   "cell_type": "markdown",
   "id": "d5831584",
   "metadata": {},
   "source": [
    "### Remove & Change Items"
   ]
  },
  {
   "cell_type": "code",
   "execution_count": null,
   "id": "2ab32fa9",
   "metadata": {},
   "outputs": [],
   "source": [
    "mytuple"
   ]
  },
  {
   "cell_type": "code",
   "execution_count": null,
   "id": "3f88295c",
   "metadata": {},
   "outputs": [],
   "source": [
    "del mytuple[0] # Tuples are immutable which means we can't DELETE tuple items"
   ]
  },
  {
   "cell_type": "code",
   "execution_count": null,
   "id": "77d81ad7",
   "metadata": {},
   "outputs": [],
   "source": [
    "mytuple[0] = 1 # Tuples are immutable which means we can't CHANGE tuple items"
   ]
  },
  {
   "cell_type": "code",
   "execution_count": null,
   "id": "d2c8a07d",
   "metadata": {},
   "outputs": [],
   "source": [
    "del mytuple # Deleting entire tuple object is possible\n",
    "mytuple"
   ]
  },
  {
   "cell_type": "markdown",
   "id": "e207f0f4",
   "metadata": {},
   "source": [
    "### Loop through a tuple"
   ]
  },
  {
   "cell_type": "code",
   "execution_count": null,
   "id": "28a43eb7",
   "metadata": {},
   "outputs": [],
   "source": [
    "mytuple = ('one' , 'two' , 'three' , 'four' , 'five' , 'six' , 'seven' , 'eight')\n",
    "mytuple"
   ]
  },
  {
   "cell_type": "code",
   "execution_count": null,
   "id": "27f547a1",
   "metadata": {},
   "outputs": [],
   "source": [
    "for i in mytuple:\n",
    "    print(i)"
   ]
  },
  {
   "cell_type": "code",
   "execution_count": null,
   "id": "152946fe",
   "metadata": {},
   "outputs": [],
   "source": [
    "for i in enumerate(mytuple):\n",
    "    print(i)"
   ]
  },
  {
   "cell_type": "code",
   "execution_count": null,
   "id": "3b826907",
   "metadata": {},
   "outputs": [],
   "source": [
    "for ind, val in enumerate(mytuple):\n",
    "    print(f'index is: {ind}')\n",
    "    print(f'value is: {val}\\n')"
   ]
  },
  {
   "cell_type": "markdown",
   "id": "4192270f",
   "metadata": {},
   "source": [
    "### Count"
   ]
  },
  {
   "cell_type": "code",
   "execution_count": null,
   "id": "80b0ef10",
   "metadata": {},
   "outputs": [],
   "source": [
    "mytuple1 = ('one', 'two', 'three', 'four', 'one', 'one', 'two', 'three')"
   ]
  },
  {
   "cell_type": "code",
   "execution_count": null,
   "id": "b7d002c9",
   "metadata": {},
   "outputs": [],
   "source": [
    "mytuple1.count('one') # Number of times item \"one\" occurred in the tuple."
   ]
  },
  {
   "cell_type": "code",
   "execution_count": null,
   "id": "35634f9f",
   "metadata": {},
   "outputs": [],
   "source": [
    "mytuple1.count('four') # Occurence of item 'four' in the tuple"
   ]
  },
  {
   "cell_type": "markdown",
   "id": "1abec159",
   "metadata": {},
   "source": [
    "### Sorting"
   ]
  },
  {
   "cell_type": "code",
   "execution_count": null,
   "id": "f3f356b8",
   "metadata": {},
   "outputs": [],
   "source": [
    "mytuple2 = (43, 67, 99, 12, 6, 90, 67)"
   ]
  },
  {
   "cell_type": "code",
   "execution_count": null,
   "id": "ba8e7604",
   "metadata": {},
   "outputs": [],
   "source": [
    "sorted(mytuple2) # Returns a new sorted list and doesn't change original tuple"
   ]
  },
  {
   "cell_type": "code",
   "execution_count": null,
   "id": "54b76706",
   "metadata": {},
   "outputs": [],
   "source": [
    "sorted(mytuple2, reverse = True) # Sort in descending order"
   ]
  },
  {
   "cell_type": "markdown",
   "id": "fc6536a8",
   "metadata": {},
   "source": [
    "## Sets\n",
    "\n",
    "1. Unordered & Unindexed collection of items.\n",
    "2. Set elements are unique. Duplicate elements are not allowed.\n",
    "3. Set elements are immutable (cannot be changed).\n",
    "4. Set itself is mutable. We can add or remove items from it.\n",
    "\n",
    "### Set Creation"
   ]
  },
  {
   "cell_type": "code",
   "execution_count": null,
   "id": "30a22281",
   "metadata": {},
   "outputs": [],
   "source": [
    "myset = {1, 2, 3, 4, 5} # Set of numbers\n",
    "myset"
   ]
  },
  {
   "cell_type": "code",
   "execution_count": null,
   "id": "feb902b2",
   "metadata": {},
   "outputs": [],
   "source": [
    "len(myset) #Length of the set"
   ]
  },
  {
   "cell_type": "code",
   "execution_count": null,
   "id": "b930a61b",
   "metadata": {},
   "outputs": [],
   "source": [
    "my_set = {1, 1, 2, 2, 3, 4, 5, 5}\n",
    "\n",
    "my_set # Duplicate elements are not allowed."
   ]
  },
  {
   "cell_type": "code",
   "execution_count": null,
   "id": "b9842035",
   "metadata": {},
   "outputs": [],
   "source": [
    "myset1 = {1.79, 2.08, 3.99, 4.56, 5.45} # Set of float numbers\n",
    "myset1"
   ]
  },
  {
   "cell_type": "code",
   "execution_count": null,
   "id": "02cb8841",
   "metadata": {},
   "outputs": [],
   "source": [
    "myset2 = {'Asif' , 'John' , 'Tyrion'} # Set of Strings\n",
    "myset2"
   ]
  },
  {
   "cell_type": "code",
   "execution_count": null,
   "id": "01e3ac49",
   "metadata": {},
   "outputs": [],
   "source": [
    "myset3 = {10, 20, \"Hola\", (11, 22, 32)} # Mixed datatypes\n",
    "myset3"
   ]
  },
  {
   "cell_type": "code",
   "execution_count": null,
   "id": "74add6b5",
   "metadata": {},
   "outputs": [],
   "source": [
    "myset3 = {10, 20, \"Hola\", [11, 22, 32]} # set doesn't allow mutable items like list\n",
    "myset3"
   ]
  },
  {
   "cell_type": "code",
   "execution_count": null,
   "id": "bd19d492",
   "metadata": {},
   "outputs": [],
   "source": [
    "myset4 = set((10, 20, \"Hola\", [11, 22, 32])) # set doesn't allow mutable items like list\n",
    "myset4"
   ]
  },
  {
   "cell_type": "code",
   "execution_count": null,
   "id": "ef09ffd4",
   "metadata": {},
   "outputs": [],
   "source": [
    "myset5 = set() # Create an empty set\n",
    "\n",
    "type(myset5)"
   ]
  },
  {
   "cell_type": "code",
   "execution_count": null,
   "id": "ca403021",
   "metadata": {},
   "outputs": [],
   "source": [
    "my_set1 = set(('one' , 'two' , 'three' , 'four'))\n",
    "my_set1"
   ]
  },
  {
   "cell_type": "markdown",
   "id": "c2cf564e",
   "metadata": {},
   "source": [
    "### Loop through a Set"
   ]
  },
  {
   "cell_type": "code",
   "execution_count": null,
   "id": "2831109a",
   "metadata": {},
   "outputs": [],
   "source": [
    "myset = {'one', 'two', 'three', 'four', 'five', 'six', 'seven', 'eight'}\n",
    "\n",
    "for i in myset:\n",
    "    print(i)"
   ]
  },
  {
   "cell_type": "code",
   "execution_count": null,
   "id": "1aa792dd",
   "metadata": {},
   "outputs": [],
   "source": [
    "for i in enumerate(myset):\n",
    "    print(i)"
   ]
  },
  {
   "cell_type": "code",
   "execution_count": null,
   "id": "c711bed1",
   "metadata": {},
   "outputs": [],
   "source": [
    "for ind, val in enumerate(myset):\n",
    "    print(f'index is: {ind}')\n",
    "    print(f'value is: {val}\\n')"
   ]
  },
  {
   "cell_type": "markdown",
   "id": "14f830ab",
   "metadata": {},
   "source": [
    "### Add & Remove Items"
   ]
  },
  {
   "cell_type": "code",
   "execution_count": null,
   "id": "c78b9f75",
   "metadata": {},
   "outputs": [],
   "source": [
    "myset"
   ]
  },
  {
   "cell_type": "code",
   "execution_count": null,
   "id": "7992d94d",
   "metadata": {},
   "outputs": [],
   "source": [
    "myset.add('NINE') # Add item to a set using add() method\n",
    "myset"
   ]
  },
  {
   "cell_type": "code",
   "execution_count": null,
   "id": "ece39ff9",
   "metadata": {},
   "outputs": [],
   "source": [
    "myset.update(['TEN' , 'ELEVEN' , 'TWELVE']) # Add multiple item to a set using updagte() method\n",
    "myset"
   ]
  },
  {
   "cell_type": "code",
   "execution_count": null,
   "id": "91926dee",
   "metadata": {},
   "outputs": [],
   "source": [
    "myset.remove('NINE') # remove item in a set using remove() method\n",
    "myset"
   ]
  },
  {
   "cell_type": "code",
   "execution_count": null,
   "id": "09e34d90",
   "metadata": {},
   "outputs": [],
   "source": [
    "myset.discard('TEN') # remove item from a set using discard() method\n",
    "myset"
   ]
  },
  {
   "cell_type": "code",
   "execution_count": null,
   "id": "c5294154",
   "metadata": {},
   "outputs": [],
   "source": [
    "myset.clear() # Delete all items in a set\n",
    "myset"
   ]
  },
  {
   "cell_type": "code",
   "execution_count": null,
   "id": "3107ab55",
   "metadata": {},
   "outputs": [],
   "source": [
    "del myset # Delete the set object\n",
    "myset"
   ]
  },
  {
   "attachments": {
    "Dictionary.png": {
     "image/png": "[encoded data removed]"
    }
   },
   "cell_type": "markdown",
   "id": "1fdbe9d8",
   "metadata": {},
   "source": [
    "## Dictionary\n",
    "\n",
    "- Dictionary is a mutable data type in Python.\n",
    "- A python dictionary is a collection of key and value pairs separated by a colon (:) & enclosed in curly braces {}.\n",
    "- Keys must be unique in a dictionary, duplicate values are allowed.\n",
    "\n",
    "![Dictionary.png](attachment:Dictionary.png)"
   ]
  },
  {
   "cell_type": "markdown",
   "id": "869243b4",
   "metadata": {},
   "source": [
    "### Create Dictionary"
   ]
  },
  {
   "cell_type": "code",
   "execution_count": null,
   "id": "24180eb4",
   "metadata": {},
   "outputs": [],
   "source": [
    "# int()\n",
    "# float()\n",
    "# str()\n",
    "# bool()\n",
    "\n",
    "# list()\n",
    "# tuple()\n",
    "# set()\n",
    "# dict()"
   ]
  },
  {
   "cell_type": "code",
   "execution_count": null,
   "id": "40a9a2ea",
   "metadata": {},
   "outputs": [],
   "source": [
    "mydict = dict() # empty dictionary\n",
    "mydict"
   ]
  },
  {
   "cell_type": "code",
   "execution_count": null,
   "id": "e9ca6367",
   "metadata": {},
   "outputs": [],
   "source": [
    "mydict = {}\n",
    "mydict"
   ]
  },
  {
   "cell_type": "code",
   "execution_count": null,
   "id": "6f6497c0",
   "metadata": {},
   "outputs": [],
   "source": [
    "type(mydict)"
   ]
  },
  {
   "cell_type": "code",
   "execution_count": null,
   "id": "2555c6f1",
   "metadata": {},
   "outputs": [],
   "source": [
    "mydict = {1: 'one' , 2: 'two' , 3: 'three'} # dictionary with integer keys\n",
    "mydict"
   ]
  },
  {
   "cell_type": "code",
   "execution_count": null,
   "id": "cbab869c",
   "metadata": {},
   "outputs": [],
   "source": [
    "mydict = dict({1:'one' , 2:'two' , 3:'three'}) # Create dictionary using dict()\n",
    "mydict"
   ]
  },
  {
   "cell_type": "code",
   "execution_count": null,
   "id": "9d7eaf28",
   "metadata": {},
   "outputs": [],
   "source": [
    "mydict = {'A':'one' , 'B':'two' , 'C':'three'} # dictionary with character keys\n",
    "mydict"
   ]
  },
  {
   "cell_type": "code",
   "execution_count": null,
   "id": "fb7932b9",
   "metadata": {},
   "outputs": [],
   "source": [
    "mydict = {1:'one' , 'A':'two' , 3:'three'} # dictionary with mixed keys\n",
    "mydict"
   ]
  },
  {
   "cell_type": "code",
   "execution_count": null,
   "id": "8d23966e",
   "metadata": {},
   "outputs": [],
   "source": [
    "mydict.keys() # Return Dictionary Keys using keys() method"
   ]
  },
  {
   "cell_type": "code",
   "execution_count": null,
   "id": "56415ce8",
   "metadata": {},
   "outputs": [],
   "source": [
    "mydict.values() # Return Dictionary Values using values() method"
   ]
  },
  {
   "cell_type": "code",
   "execution_count": null,
   "id": "9ff02a7e",
   "metadata": {},
   "outputs": [],
   "source": [
    "mydict.items() # Access each key-value pair within a dictionary"
   ]
  },
  {
   "cell_type": "code",
   "execution_count": null,
   "id": "6f28ee0a",
   "metadata": {},
   "outputs": [],
   "source": [
    "mydict = {1: 'one' , 2: 'two' , 'A': ['asif' , 'john' , 'Maria']} # dictionary with a list as an item\n",
    "mydict"
   ]
  },
  {
   "cell_type": "code",
   "execution_count": null,
   "id": "c79fc256",
   "metadata": {},
   "outputs": [],
   "source": [
    "mydict = {1:'one' , 2:'two' , 'A':['asif' , 'john' , 'Maria'], 'B':('Bat' , 'cat', 'hat')}\n",
    "mydict"
   ]
  },
  {
   "cell_type": "code",
   "execution_count": null,
   "id": "fa5a9374",
   "metadata": {},
   "outputs": [],
   "source": [
    "mydict = {1:'one' , 2:'two' , 'A':{'Name':'asif' , 'Age' :20}, 'B':('Bat' , 'cat', 'hat')}\n",
    "mydict"
   ]
  },
  {
   "cell_type": "code",
   "execution_count": null,
   "id": "ba577715",
   "metadata": {},
   "outputs": [],
   "source": [
    "keys = {'a' , 'b' , 'c' , 'd'}\n",
    "mydict3 = dict.fromkeys(keys)    # Create a dictionary from a sequence of keys\n",
    "mydict3"
   ]
  },
  {
   "cell_type": "markdown",
   "id": "84a369a2",
   "metadata": {},
   "source": [
    "### Accessing Items"
   ]
  },
  {
   "cell_type": "code",
   "execution_count": null,
   "id": "12aa60a1",
   "metadata": {},
   "outputs": [],
   "source": [
    "mydict = {1:'one' , 2:'two' , 3:'three' , 4:'four'}\n",
    "mydict"
   ]
  },
  {
   "cell_type": "code",
   "execution_count": null,
   "id": "eba809b1",
   "metadata": {},
   "outputs": [],
   "source": [
    "mydict[1] # Access item using key"
   ]
  },
  {
   "cell_type": "code",
   "execution_count": null,
   "id": "998d1ea0",
   "metadata": {},
   "outputs": [],
   "source": [
    "mydict.get(1) # Access item using get() method"
   ]
  },
  {
   "cell_type": "code",
   "execution_count": null,
   "id": "a873cea4",
   "metadata": {},
   "outputs": [],
   "source": [
    "mydict1 = {'Name':'Asif' , 'ID': 74123 , 'DOB': 1991 , 'job' :'Analyst'}\n",
    "mydict1"
   ]
  },
  {
   "cell_type": "code",
   "execution_count": null,
   "id": "0e7d549f",
   "metadata": {},
   "outputs": [],
   "source": [
    "mydict1['Name'] # Access item using key"
   ]
  },
  {
   "cell_type": "markdown",
   "id": "c9d9e19b",
   "metadata": {},
   "source": [
    "### Add, Remove & Change Items"
   ]
  },
  {
   "cell_type": "code",
   "execution_count": null,
   "id": "0991820a",
   "metadata": {},
   "outputs": [],
   "source": [
    "mydict1 = {'Name':'Asif' , 'ID': 12345 , 'DOB': 1991 , 'Address' : 'Hilsinki'}\n",
    "mydict1"
   ]
  },
  {
   "cell_type": "code",
   "execution_count": null,
   "id": "c557b134",
   "metadata": {},
   "outputs": [],
   "source": [
    "mydict1['DOB'] = 1992      # Changing Dictionary Items\n",
    "mydict1['Address'] = 'Delhi'\n",
    "mydict1"
   ]
  },
  {
   "cell_type": "code",
   "execution_count": null,
   "id": "9b1bf6a6",
   "metadata": {},
   "outputs": [],
   "source": [
    "dict1 = {'DOB':1995}\n",
    "mydict1.update(dict1)\n",
    "mydict1"
   ]
  },
  {
   "cell_type": "code",
   "execution_count": null,
   "id": "79507770",
   "metadata": {},
   "outputs": [],
   "source": [
    "mydict1['Job'] = 'Analyst' # Adding items in the dictionary\n",
    "mydict1"
   ]
  },
  {
   "cell_type": "code",
   "execution_count": null,
   "id": "49794a77",
   "metadata": {},
   "outputs": [],
   "source": [
    "mydict1.pop('Job') # Removing items in the dictionary using Pop method\n",
    "mydict1"
   ]
  },
  {
   "cell_type": "code",
   "execution_count": null,
   "id": "d09cbd76",
   "metadata": {},
   "outputs": [],
   "source": [
    "mydict1.popitem() # A random item is removed"
   ]
  },
  {
   "cell_type": "code",
   "execution_count": null,
   "id": "6ab0004b",
   "metadata": {},
   "outputs": [],
   "source": [
    "mydict1"
   ]
  },
  {
   "cell_type": "code",
   "execution_count": null,
   "id": "4497fa49",
   "metadata": {},
   "outputs": [],
   "source": [
    "mydict1.clear() # Delete all items of the dictionary using clear method\n",
    "mydict1"
   ]
  },
  {
   "cell_type": "code",
   "execution_count": null,
   "id": "381b4ce2",
   "metadata": {},
   "outputs": [],
   "source": [
    "del mydict1 # Delete the dictionary object\n",
    "mydict1"
   ]
  },
  {
   "cell_type": "markdown",
   "id": "90600c35",
   "metadata": {},
   "source": [
    "## Operators\n",
    "\n",
    "Operators are special symbols in Python which are used to perform operations on variables/values.\n",
    "\n",
    "### Arithmetic Operators"
   ]
  },
  {
   "cell_type": "code",
   "execution_count": null,
   "id": "54b94eb9",
   "metadata": {},
   "outputs": [],
   "source": [
    "a = 5\n",
    "b = 2\n",
    "\n",
    "x = 'Asif'\n",
    "y = 'Bhat'\n",
    "\n",
    "# Addition\n",
    "c = a + b\n",
    "print(f'Addition of {a} and {b} will give : {c}\\n')\n",
    "\n",
    "# Concatenate string using plus operator\n",
    "z = x+y\n",
    "print(f'Concatenate string \\'x\\' and \\'y\\' using \\'+\\' operaotr : {z}\\n')\n",
    "                                                                                \n",
    "# Subtraction\n",
    "c = a - b\n",
    "print(f'Subtracting {a} from {b} will give : {c}\\n')\n",
    "                                                                                \n",
    "# Multiplication\n",
    "c = a * b\n",
    "print(f'Multiplying {a} and {b} will give : {c}\\n')\n",
    "                                                                                \n",
    "# Division\n",
    "c = a / b\n",
    "print(f'Dividing {a} by {b} will give : {c}\\n')\n",
    "                                                                                \n",
    "# Modulo of both number\n",
    "c = a % b\n",
    "print(f'Modulo of {a} , {b} will give : {c}\\n')\n",
    "                                                                                \n",
    "# Power\n",
    "c = a ** b\n",
    "print(f'{a} raised to the power {b} will give : {c}\\n')\n",
    "                                                                                \n",
    "# Division(floor)\n",
    "c = a // b\n",
    "print(f'Floor division of {a} by {b} will give : {c}\\n')"
   ]
  },
  {
   "cell_type": "markdown",
   "id": "e030b95c",
   "metadata": {},
   "source": [
    "### Comparison Operators"
   ]
  },
  {
   "cell_type": "code",
   "execution_count": null,
   "id": "7ade9b3e",
   "metadata": {},
   "outputs": [],
   "source": [
    "x = 20\n",
    "y = 30\n",
    "\n",
    "print('Is x greater than y : ', x>y)\n",
    "print('\\nIs x less thany : ', x<y)\n",
    "print('\\nIs x equal toy : ', x==y)\n",
    "print('\\nIs x not equal to y : ', x!=y)\n",
    "print('\\nIs x greater than or equal to y : ', x>=y)\n",
    "print('\\nIs x less than or equal to y : ', x<=y)"
   ]
  },
  {
   "cell_type": "markdown",
   "id": "2f63ef0d",
   "metadata": {},
   "source": [
    "### Logical Operators"
   ]
  },
  {
   "cell_type": "code",
   "execution_count": null,
   "id": "0a710b45",
   "metadata": {},
   "outputs": [],
   "source": [
    "#  X1   X2   not(X1)   (X1 and X2)     (X1 or X2)\n",
    "# ------------------------------------------------\n",
    "#  0    0       1           0              0\n",
    "#  0    1       1           0              1\n",
    "#  1    0       0           0              1\n",
    "#  1    1       0           1              1"
   ]
  },
  {
   "cell_type": "code",
   "execution_count": null,
   "id": "8dcdd71e",
   "metadata": {},
   "outputs": [],
   "source": [
    "x = True\n",
    "y = False\n",
    "\n",
    "print('Logical AND operation : ', x and y) # True if both values are true\n",
    "print('Logical OR operation : ', x or y) # True if either of the values is true\n",
    "print('NOT operation : ', not x ) # True if operand is false"
   ]
  },
  {
   "cell_type": "markdown",
   "id": "ad540e2b",
   "metadata": {},
   "source": [
    "### Assignment Operators"
   ]
  },
  {
   "cell_type": "code",
   "execution_count": null,
   "id": "c0ef3970",
   "metadata": {},
   "outputs": [],
   "source": [
    "x = 10\n",
    "print('Initialize x with value 10 (x=10)) : ',x)\n",
    "\n",
    "x+=20 # x = x+20\n",
    "print ('\\nAdd 20 to x : ',x)\n",
    "\n",
    "x-=20 # x = x-20\n",
    "print ('\\nsubtract 20 from x : ',x)\n",
    "\n",
    "x/=10 # x = x/10\n",
    "print ('\\nDivide x by 10 : ',x)\n",
    "\n",
    "x*=10 # x = x/10\n",
    "print ('\\nMultiply x by 10 : ',x)\n",
    "\n",
    "x = int(x)\n",
    "x**=2 # x = x * x\n",
    "print ('\\nx raised to the power 2 : ',x)\n",
    "\n",
    "x%=2\n",
    "print ('\\nModulo Division : ',x)\n",
    "\n",
    "x = 20\n",
    "x//=3\n",
    "print ('\\nFloor Division : ',x)"
   ]
  },
  {
   "cell_type": "markdown",
   "id": "db8b08ae",
   "metadata": {},
   "source": [
    "### Loop\n",
    "\n",
    "### For loop"
   ]
  },
  {
   "cell_type": "code",
   "execution_count": null,
   "id": "c964e8a1",
   "metadata": {},
   "outputs": [],
   "source": [
    "my_listI = [2, 5, 6, 7, 4, 3]\n",
    "\n",
    "# If we are sure about the number of iteration should execute\n",
    "for item in my_listI:\n",
    "    print(item)"
   ]
  },
  {
   "cell_type": "markdown",
   "id": "49f6d2e0",
   "metadata": {},
   "source": [
    "### While loop"
   ]
  },
  {
   "cell_type": "code",
   "execution_count": null,
   "id": "45de00e2",
   "metadata": {
    "scrolled": true
   },
   "outputs": [],
   "source": [
    "# If we don't know the number of iteration beforhand\n",
    "\n",
    "count = 0\n",
    "while(count < 3):\n",
    "    print(count)\n",
    "    count += 1"
   ]
  },
  {
   "cell_type": "markdown",
   "id": "610a6d45",
   "metadata": {},
   "source": [
    "### Break and continue "
   ]
  },
  {
   "cell_type": "code",
   "execution_count": null,
   "id": "4ff053f6",
   "metadata": {},
   "outputs": [],
   "source": [
    "my_listI = [2, 5, 6, 7, 4, 3]\n",
    "\n",
    "for item in my_listI:\n",
    "    if (item == 6):\n",
    "        break\n",
    "    print(item)"
   ]
  },
  {
   "cell_type": "code",
   "execution_count": null,
   "id": "87321f59",
   "metadata": {},
   "outputs": [],
   "source": [
    "my_listI = [2, 5, 6, 7, 4, 3]\n",
    "\n",
    "for item in my_listI:\n",
    "    if (item == 6):\n",
    "        continue\n",
    "    print(item)"
   ]
  },
  {
   "cell_type": "markdown",
   "id": "5c1d3b40",
   "metadata": {},
   "source": [
    "## Functions\n",
    "\n",
    "- A function is a block of organized code written to carry out a specified task.\n",
    "- Functions help break our program into smaller and modular chunks for better readability.\n",
    "- Information can be passed into a function as arguments.\n",
    "- Parameters are specified after the function name inside the parentheses.\n",
    "- We can add as many parameters as we want. Parameters must be separated with a comma.\n",
    "- A function may or may not return data.\n",
    "- In Python a function is defined using the def keyword\n",
    "\n",
    "### Parameter VS Argument\n",
    "\n",
    "- A parameter is the variable listed inside the parentheses in the function definition.\n",
    "- An argument is the value that is sent to the function when it is called.\n",
    "\n",
    "### Syntax\n",
    "\n",
    "```python\n",
    "def FunctionName(Parameters):\n",
    "    \"\"\"Function DocString\"\"\"\n",
    "    Statements(S)\n",
    "    return [Expression]\n",
    "```\n",
    "\n",
    "### Modularity\n",
    "\n",
    "```python\n",
    "def CollectData(Parameters):\n",
    "    \"\"\"Function to collect data\"\"\"\n",
    "    statements(S)\n",
    "    \n",
    "def CleanData(Parameters):\n",
    "    \"\"\"Function to clean data\"\"\"\n",
    "    statements(S)\n",
    "    \n",
    "def ProcessData(Parameters):\n",
    "    \"\"\"Function to Process data\"\"\"\n",
    "    statements(S)\n",
    "\n",
    "def ExploreData(Parameters):\n",
    "    \"\"\"Function to Explore data\"\"\"\n",
    "    statements(S)\n",
    "```\n",
    "    \n",
    "Main Program:\n",
    "\n",
    "```python\n",
    "CollectData()\n",
    "CleanData()\n",
    "ProcessData()\n",
    "ExploreData()\n",
    "```"
   ]
  },
  {
   "cell_type": "code",
   "execution_count": null,
   "id": "9755fd16",
   "metadata": {},
   "outputs": [],
   "source": [
    "def myfunc():\n",
    "    print(\"Hello Python Lovers\")\n",
    "    \n",
    "myfunc()"
   ]
  },
  {
   "cell_type": "code",
   "execution_count": null,
   "id": "d095e994",
   "metadata": {},
   "outputs": [],
   "source": [
    "def details(name, userid, country): # Function to print User details\n",
    "    print('Name : ', name)\n",
    "    print('User ID is : ', userid)\n",
    "    print('Country : ',country)\n",
    "    \n",
    "details('Asif' , 'asif123' , 'India')"
   ]
  },
  {
   "cell_type": "code",
   "execution_count": null,
   "id": "9e9c38aa",
   "metadata": {},
   "outputs": [],
   "source": [
    "def square(n): #function to find square of a number\n",
    "    n = n*n\n",
    "    return n\n",
    "\n",
    "square(10)"
   ]
  },
  {
   "cell_type": "code",
   "execution_count": null,
   "id": "ccb47906",
   "metadata": {},
   "outputs": [],
   "source": [
    "def even_odd (num): # Even odd test\n",
    "    \"\"\" This function will check whether a number is even or odd\"\"\"\n",
    "    if num % 2 == 0:\n",
    "        print (num, ' is even number')\n",
    "    else:\n",
    "        print (num, ' is odd number')\n",
    "        \n",
    "even_odd(3)\n",
    "even_odd(4)"
   ]
  },
  {
   "cell_type": "code",
   "execution_count": null,
   "id": "e067c6d8",
   "metadata": {},
   "outputs": [],
   "source": [
    "def myfunc(city = 'Mumbai'):\n",
    "    print('Most Populous City : ', city)\n",
    "    \n",
    "myfunc() # When a function is called without an argument it will use default value"
   ]
  },
  {
   "cell_type": "code",
   "execution_count": null,
   "id": "5e71b4a5",
   "metadata": {},
   "outputs": [],
   "source": [
    "myfunc(\"Moscow\")"
   ]
  },
  {
   "cell_type": "code",
   "execution_count": null,
   "id": "bcf7c26e",
   "metadata": {},
   "outputs": [],
   "source": [
    "var1 = 100 # Variable with Global scope.\n",
    "\n",
    "def myfunc():\n",
    "    print(var1) # Value 100 will be displayed due to global scope of var1\n",
    "    \n",
    "myfunc()\n",
    "print(var1)"
   ]
  },
  {
   "cell_type": "code",
   "execution_count": null,
   "id": "af484958",
   "metadata": {},
   "outputs": [],
   "source": [
    "def myfunc1():\n",
    "    var2 = 10 # Variable with Local scope\n",
    "    print(var2)\n",
    "    \n",
    "def myfunc2():\n",
    "    print(var2) # This will throw error because var2 has a local scope.\n",
    "    \n",
    "myfunc1()\n",
    "myfunc2()"
   ]
  },
  {
   "cell_type": "code",
   "execution_count": null,
   "id": "21f64fe9",
   "metadata": {},
   "outputs": [],
   "source": [
    "var1 = 100 # Variable with Global scope.\n",
    "\n",
    "def myfunc():\n",
    "    var1 = 99 # Local scope\n",
    "    print(var1)\n",
    "    \n",
    "myfunc()\n",
    "print(var1) # The original value of var1 (100) will be retained due to global scope"
   ]
  },
  {
   "cell_type": "code",
   "execution_count": null,
   "id": "304acbd0",
   "metadata": {},
   "outputs": [],
   "source": [
    "def factorial(num): # Calculate factorial of a number using recursive function\n",
    "    if num <=1 :\n",
    "        return 1\n",
    "    else:\n",
    "        return num * factorial(num-1)\n",
    "    \n",
    "factorial(4)"
   ]
  },
  {
   "cell_type": "code",
   "execution_count": null,
   "id": "1b896f91",
   "metadata": {},
   "outputs": [],
   "source": [
    "def add(num): # Sum of first n natural numbers\n",
    "    if num == 0:\n",
    "        return 0\n",
    "    else:\n",
    "        return num + add(num-1)\n",
    "    \n",
    "add(5) # Sum of first five natural numbers (1,2,3,4,5)"
   ]
  },
  {
   "cell_type": "markdown",
   "id": "1a269e38",
   "metadata": {},
   "source": [
    "## Pandas"
   ]
  },
  {
   "cell_type": "code",
   "execution_count": null,
   "id": "5845237d",
   "metadata": {},
   "outputs": [],
   "source": [
    "import pandas as pd"
   ]
  },
  {
   "cell_type": "markdown",
   "id": "c8f3f85e",
   "metadata": {},
   "source": [
    "### Load data into Pandas"
   ]
  },
  {
   "cell_type": "code",
   "execution_count": null,
   "id": "8e37bfad",
   "metadata": {
    "scrolled": false
   },
   "outputs": [],
   "source": [
    "country_data_pd = pd.read_csv(\"country_data.csv\")\n",
    "country_data_pd"
   ]
  },
  {
   "cell_type": "code",
   "execution_count": null,
   "id": "94345cd7",
   "metadata": {},
   "outputs": [],
   "source": [
    "# Top 5 elements of the dataset\n",
    "country_data_pd.head()"
   ]
  },
  {
   "cell_type": "code",
   "execution_count": null,
   "id": "17715d96",
   "metadata": {},
   "outputs": [],
   "source": [
    "country_data_pd.head(8)"
   ]
  },
  {
   "cell_type": "code",
   "execution_count": null,
   "id": "5ecefaa7",
   "metadata": {},
   "outputs": [],
   "source": [
    "# Last 5 elements of the dataset\n",
    "country_data_pd.tail()"
   ]
  },
  {
   "cell_type": "code",
   "execution_count": null,
   "id": "b57799cd",
   "metadata": {},
   "outputs": [],
   "source": [
    "country_data_pd.tail(7)"
   ]
  },
  {
   "cell_type": "code",
   "execution_count": null,
   "id": "f15afca5",
   "metadata": {},
   "outputs": [],
   "source": [
    "country_data_pd.info()"
   ]
  },
  {
   "cell_type": "code",
   "execution_count": null,
   "id": "aa4a3233",
   "metadata": {},
   "outputs": [],
   "source": [
    "country_data_pd.describe()"
   ]
  },
  {
   "cell_type": "code",
   "execution_count": null,
   "id": "54eb43f3",
   "metadata": {},
   "outputs": [],
   "source": [
    "type(country_data_pd[\"mtCO2\"])"
   ]
  },
  {
   "cell_type": "code",
   "execution_count": null,
   "id": "c73cb53a",
   "metadata": {},
   "outputs": [],
   "source": [
    "type(country_data_pd[[\"mtCO2\", 'population']])"
   ]
  },
  {
   "cell_type": "markdown",
   "id": "fe531744",
   "metadata": {},
   "source": [
    "### Subsetting data"
   ]
  },
  {
   "cell_type": "code",
   "execution_count": null,
   "id": "f43e2b82",
   "metadata": {},
   "outputs": [],
   "source": [
    "country_data_pd[\"mtCO2\"]"
   ]
  },
  {
   "cell_type": "code",
   "execution_count": null,
   "id": "0f99deda",
   "metadata": {},
   "outputs": [],
   "source": [
    "country_data_pd[[\"mtCO2\", \"country\"]]"
   ]
  },
  {
   "cell_type": "code",
   "execution_count": null,
   "id": "188b744c",
   "metadata": {},
   "outputs": [],
   "source": [
    "country_data_pd[[\"country\", \"mtCO2\"]]"
   ]
  },
  {
   "cell_type": "code",
   "execution_count": null,
   "id": "e7bdcdcd",
   "metadata": {},
   "outputs": [],
   "source": [
    "mean_emissions = 147342359\n",
    "\n",
    "is_big_emitter = country_data_pd[\"mtCO2\"] > mean_emissions\n",
    "is_big_emitter"
   ]
  },
  {
   "cell_type": "code",
   "execution_count": null,
   "id": "5147f7f0",
   "metadata": {},
   "outputs": [],
   "source": [
    "country_data_pd[is_big_emitter]"
   ]
  },
  {
   "cell_type": "code",
   "execution_count": null,
   "id": "76fbfd1a",
   "metadata": {},
   "outputs": [],
   "source": [
    "country_data_pd[country_data_pd[\"mtCO2\"] > mean_emissions]"
   ]
  },
  {
   "cell_type": "markdown",
   "id": "f505c28e",
   "metadata": {},
   "source": [
    "### Adding new column into a dataframe"
   ]
  },
  {
   "cell_type": "code",
   "execution_count": null,
   "id": "11a1b680",
   "metadata": {
    "scrolled": true
   },
   "outputs": [],
   "source": [
    "country_data_pd[\"new column\"] = country_data_pd[\"mtCO2\"] / country_data_pd[\"population\"]\n",
    "country_data_pd"
   ]
  },
  {
   "cell_type": "code",
   "execution_count": null,
   "id": "d3f96708",
   "metadata": {},
   "outputs": [],
   "source": []
  }
 ],
 "metadata": {
  "kernelspec": {
   "display_name": "Python 3 (ipykernel)",
   "language": "python",
   "name": "python3"
  },
  "language_info": {
   "codemirror_mode": {
    "name": "ipython",
    "version": 3
   },
   "file_extension": ".py",
   "mimetype": "text/x-python",
   "name": "python",
   "nbconvert_exporter": "python",
   "pygments_lexer": "ipython3",
   "version": "3.10.9"
  }
 },
 "nbformat": 4,
 "nbformat_minor": 5
}

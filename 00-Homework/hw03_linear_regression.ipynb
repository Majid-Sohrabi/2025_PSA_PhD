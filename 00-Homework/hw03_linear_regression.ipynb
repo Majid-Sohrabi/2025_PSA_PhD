{
 "cells": [
  {
   "cell_type": "markdown",
   "metadata": {
    "id": "lD1R5rWO4_Dj"
   },
   "source": [
    "About the homework: In some tasks, in addition to writing code, answers to questions and conclusions are required (there are special Markdown cells marked with **Answer**).\n",
    "\n",
    "The ability to analyze the results of experiments is an important skill. Therefore, answers carry more weight than the code: the code accounts for 30% of the task grade, while answers to questions account for 70%.\n",
    "\n",
    "**Reminder:** Plagiarism is prohibited. Use of AI without mentioning how and in which parts it was used is also prohibited. If plagiarism or dishonest use of AI is revealed, the assignment is graded with 0."
   ]
  },
  {
   "cell_type": "code",
   "execution_count": null,
   "metadata": {
    "id": "Vpli9dp75ypi"
   },
   "outputs": [],
   "source": [
    "import matplotlib.pyplot as plt\n",
    "import numpy as np\n",
    "import pandas as pd\n",
    "import seaborn as sns"
   ]
  },
  {
   "cell_type": "markdown",
   "metadata": {
    "id": "ESuPE4JcBFQr"
   },
   "source": [
    "Let's work with data about students."
   ]
  },
  {
   "cell_type": "code",
   "execution_count": null,
   "metadata": {
    "id": "RlrhG1L6MNhu"
   },
   "outputs": [],
   "source": [
    "df = pd.read_csv('students_hw3.csv')\n",
    "\n",
    "df.sample(4)"
   ]
  },
  {
   "cell_type": "markdown",
   "metadata": {
    "id": "BchqwErkBNfA"
   },
   "source": [
    "We will predict their performance index."
   ]
  },
  {
   "cell_type": "code",
   "execution_count": null,
   "metadata": {
    "id": "X19B7UvbA4V_"
   },
   "outputs": [],
   "source": [
    "X = df.drop(columns=['Performance Index'])\n",
    "y = df['Performance Index']"
   ]
  },
  {
   "cell_type": "markdown",
   "metadata": {
    "id": "DweDvnub6c4B"
   },
   "source": [
    "# Task 1 (2 points)"
   ]
  },
  {
   "cell_type": "markdown",
   "metadata": {
    "id": "4ZfPeZce6zdD"
   },
   "source": [
    "Let's try to propose hypothesis, which features will be the most useful.\n",
    "\n",
    "For every feature $x^j$:\n",
    "\n",
    "*   Draw a plot of $x^j$ and target (scatter plot, if feature is numerical and boxplot if the feature is categorical)\n",
    "*   Compute correlation of  $x^j$ and target if the feature is numerical.\n",
    "\n"
   ]
  },
  {
   "cell_type": "markdown",
   "metadata": {
    "id": "QrRc18HS9SKK"
   },
   "source": [
    "Draw conclusions: which features seems to be the most important? Which does not seem useful? Does it seems logical?"
   ]
  },
  {
   "cell_type": "code",
   "execution_count": null,
   "metadata": {
    "id": "kQ100Mx-48oS"
   },
   "outputs": [],
   "source": [
    "#YOUR CODE"
   ]
  },
  {
   "cell_type": "markdown",
   "metadata": {
    "id": "fkfJ6po-9hUA"
   },
   "source": [
    "**Answer** \\#YOUR ANSWER\n"
   ]
  },
  {
   "cell_type": "markdown",
   "metadata": {
    "id": "6OVSfiUgCqP6"
   },
   "source": [
    "# Task 2 (3 points)"
   ]
  },
  {
   "cell_type": "markdown",
   "metadata": {
    "id": "MEqXLhjuDmEb"
   },
   "source": [
    "Split data into train and test. Set `test_size=0.3, random_state=0`"
   ]
  },
  {
   "cell_type": "code",
   "execution_count": null,
   "metadata": {
    "id": "4Yz3Q5bjDrjZ"
   },
   "outputs": [],
   "source": [
    "from sklearn.model_selection import train_test_split\n",
    "\n",
    "#YOUR CODE"
   ]
  },
  {
   "cell_type": "markdown",
   "metadata": {
    "id": "Pe58dljUCvUd"
   },
   "source": [
    "Preprocess the data:\n",
    "\n",
    "\n",
    "*   Depict number of missing values in every column, replace missing values with median, computed on train data (numerical features) or with 'Not Given' (categorical features)\n",
    "*   Encode the categorical with one-hot-encoder\n",
    "\n"
   ]
  },
  {
   "cell_type": "code",
   "execution_count": null,
   "metadata": {
    "id": "hidXRJe-KTFR"
   },
   "outputs": [],
   "source": [
    "values = {#YOUR CODE\n",
    "          }\n",
    "X_test.fillna(values, inplace=True)\n",
    "X_train.fillna(values, inplace=True)\n",
    "\n",
    "#YOUR CODE"
   ]
  },
  {
   "cell_type": "markdown",
   "metadata": {
    "id": "_cTmhBn2EvnT"
   },
   "source": [
    "Train linear regression without regularization, compute MSE on train and test data."
   ]
  },
  {
   "cell_type": "code",
   "execution_count": null,
   "metadata": {
    "id": "dnZf_h8CDds4"
   },
   "outputs": [],
   "source": [
    "from sklearn.linear_model import LinearRegression\n",
    "from sklearn.metrics import mean_squared_error\n",
    "\n",
    "#YOUR CODE"
   ]
  },
  {
   "cell_type": "markdown",
   "metadata": {
    "id": "qk6eTNaQ1KB5"
   },
   "source": [
    "# Task 3 (3 points)"
   ]
  },
  {
   "cell_type": "markdown",
   "metadata": {
    "id": "Z-WSPS-D1ODB"
   },
   "source": [
    "Investigate the coefficients of the model. Why were they so big/small? Can the absolute value of the coefficitnt be used as a measure of importance of the feature? Why/why not?"
   ]
  },
  {
   "cell_type": "code",
   "execution_count": null,
   "metadata": {
    "id": "AbwaV4s1qWBH"
   },
   "outputs": [],
   "source": [
    "#YOUR CODE"
   ]
  },
  {
   "cell_type": "markdown",
   "metadata": {
    "id": "hvnVSQBCHlhW"
   },
   "source": [
    "**Answer** \\#YOUR ANSWER"
   ]
  },
  {
   "cell_type": "markdown",
   "metadata": {
    "id": "zLF4uvak3Ypb"
   },
   "source": [
    "Draw conclusions about the model and important features and explain if it is logical. If it could not be done right now, tackle the problem."
   ]
  },
  {
   "cell_type": "code",
   "execution_count": null,
   "metadata": {
    "id": "9KxLVUFW3rFm"
   },
   "outputs": [],
   "source": [
    "from sklearn.preprocessing import StandardScaler\n",
    "#YOUR CODE"
   ]
  },
  {
   "cell_type": "markdown",
   "metadata": {
    "id": "_ZgSC9Tl3rul"
   },
   "source": [
    "**Answer** \\#YOUR ANSWER"
   ]
  },
  {
   "cell_type": "markdown",
   "metadata": {
    "id": "9HDB5onVHumv"
   },
   "source": [
    "# Task 3 (3 points)"
   ]
  },
  {
   "cell_type": "markdown",
   "metadata": {
    "id": "HDtb4ZscHykn"
   },
   "source": [
    "For different `alpha` hyperparameter fit linear regression with $L_1$ regularization (`Lasso` model, if there are warnings - set `tol=0.1`).\n",
    "\n",
    "Choose the grid in such way that the smallest alpha will result in 0-5 zero coefficent and for biggest - all coefficient will be 0.\n",
    "\n",
    "For every model save number of zero coefficients and MSE on train and test data"
   ]
  },
  {
   "cell_type": "code",
   "execution_count": null,
   "metadata": {
    "id": "co0IFINHxQLg"
   },
   "outputs": [],
   "source": [
    "from sklearn.linear_model import Lasso\n",
    "alphas = #YOUR CODE\n",
    "\n",
    "\n",
    "for alpha in alphas:\n",
    "  #YOUR CODE\n"
   ]
  },
  {
   "cell_type": "markdown",
   "metadata": {
    "id": "r0EnTdftzKts"
   },
   "source": [
    "Draw 2 plots near each other: plot of number of aero coefficients and plot of MSE (both train and test).  Draw conclusions: compare the MSE of Lasso and initial linear regression, which features are considered important in the best model, is it logical."
   ]
  },
  {
   "cell_type": "code",
   "execution_count": null,
   "metadata": {
    "id": "O0WjpBOlCP4r"
   },
   "outputs": [],
   "source": [
    "#YOUR CODE"
   ]
  },
  {
   "cell_type": "markdown",
   "metadata": {
    "id": "u4V13N7Dze5-"
   },
   "source": [
    "**Answer** \\#YOUR ANSWER"
   ]
  },
  {
   "cell_type": "markdown",
   "metadata": {
    "id": "QUxXm3170Hgt"
   },
   "source": [
    "# Task 4 (2 points)"
   ]
  },
  {
   "cell_type": "markdown",
   "metadata": {
    "id": "mgOsKdR20YZF"
   },
   "source": [
    "Now, use $L_2$ regularization. Tune `Ridge` model hyperparameters using cross-validation. Report the best MSE.  "
   ]
  },
  {
   "cell_type": "code",
   "execution_count": null,
   "metadata": {
    "id": "VOdg1BqcsfZp"
   },
   "outputs": [],
   "source": [
    "from sklearn.linear_model import Ridge\n",
    "from sklearn.model_selection import GridSearchCV\n",
    "\n",
    "params = {'alpha' : np.logspace(-12, 10, 50)}\n",
    "\n",
    "#YOUR CODE"
   ]
  },
  {
   "cell_type": "markdown",
   "metadata": {
    "id": "RncXOSDx_KjZ"
   },
   "source": [
    "Investigate coefficients: how many zeros? Which features are important?"
   ]
  },
  {
   "cell_type": "code",
   "execution_count": null,
   "metadata": {
    "id": "m5DQwigD_FcX"
   },
   "outputs": [],
   "source": [
    "#YOUR CODE"
   ]
  },
  {
   "cell_type": "markdown",
   "metadata": {
    "id": "9-W-ElJw_bMI"
   },
   "source": [
    "**Answer** \\#YOUR ANSWER"
   ]
  }
 ],
 "metadata": {
  "colab": {
   "provenance": []
  },
  "kernelspec": {
   "display_name": "Python 3 (ipykernel)",
   "language": "python",
   "name": "python3"
  },
  "language_info": {
   "codemirror_mode": {
    "name": "ipython",
    "version": 3
   },
   "file_extension": ".py",
   "mimetype": "text/x-python",
   "name": "python",
   "nbconvert_exporter": "python",
   "pygments_lexer": "ipython3",
   "version": "3.10.9"
  }
 },
 "nbformat": 4,
 "nbformat_minor": 1
}

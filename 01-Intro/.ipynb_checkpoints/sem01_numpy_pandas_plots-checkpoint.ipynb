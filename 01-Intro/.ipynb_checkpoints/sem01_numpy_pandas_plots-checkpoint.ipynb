{
 "cells": [
  {
   "cell_type": "markdown",
   "metadata": {
    "id": "LWgkK01Kw_sp"
   },
   "source": [
    "# Seminar 1"
   ]
  },
  {
   "cell_type": "markdown",
   "metadata": {
    "id": "qfa3T6kTxBYS"
   },
   "source": [
    "## Numpy"
   ]
  },
  {
   "cell_type": "markdown",
   "metadata": {
    "id": "WkZdcAtyyAao"
   },
   "source": [
    "Numpy - library for working with N-dimensional arrays\n",
    "\n",
    "documentation - https://numpy.org/doc/"
   ]
  },
  {
   "cell_type": "markdown",
   "metadata": {
    "id": "yGHqCDjfyRMU"
   },
   "source": [
    "Why use numpy? Why not just Python `list`?\n",
    "\n",
    "*   Convenience: numpy is designed for working with numerical arrays (python lists can contain anything)\n",
    "*   Functionality: a great variety of functions, which are not available in pure Python. F. e. linear algebra, mathematical functions.\n",
    "*   Better performance: the core of numpy is well-optimized C code, so it is much faster than Python.\n",
    "\n",
    "\n"
   ]
  },
  {
   "cell_type": "markdown",
   "metadata": {
    "id": "hhAOZmN_0q0d"
   },
   "source": [
    "### Example"
   ]
  },
  {
   "cell_type": "markdown",
   "metadata": {
    "id": "PN7M1TYpzZ56"
   },
   "source": [
    "We want to calculate matrix product of 2 matrices."
   ]
  },
  {
   "cell_type": "code",
   "execution_count": 1,
   "metadata": {
    "id": "hTywOO3gw6gA"
   },
   "outputs": [],
   "source": [
    "#Some matrices\n",
    "A = []\n",
    "B = []\n",
    "n = 300\n",
    "for i in range(n):\n",
    "    A.append(list(range(i, n+i)))\n",
    "    B.append(list(range(i+9, n+i+9)))"
   ]
  },
  {
   "cell_type": "code",
   "execution_count": 5,
   "metadata": {
    "id": "Ott92_1uzssE"
   },
   "outputs": [
    {
     "data": {
      "text/plain": [
       "(300, 300)"
      ]
     },
     "execution_count": 5,
     "metadata": {},
     "output_type": "execute_result"
    }
   ],
   "source": [
    "len(A), len(A[0])"
   ]
  },
  {
   "cell_type": "markdown",
   "metadata": {
    "id": "zWIw_dWYzugb"
   },
   "source": [
    "Let's use pure Python and measure time:"
   ]
  },
  {
   "cell_type": "code",
   "execution_count": null,
   "metadata": {
    "id": "DRMSfcOZzxdg"
   },
   "outputs": [],
   "source": [
    "%%time\n",
    "\n",
    "C = []\n",
    "#rows of A\n",
    "for i in range(len(A)):\n",
    "   #columns if B\n",
    "   res_i = []\n",
    "   for j in range(len(B[0])):\n",
    "       #elements of row/column\n",
    "       res_i_j = 0\n",
    "       for k in range(len(B)):\n",
    "           res_i_j += A[i][k] * B[k][j]\n",
    "       res_i.append(res_i_j)\n",
    "   C.append(res_i)"
   ]
  },
  {
   "cell_type": "markdown",
   "metadata": {
    "id": "YhkxfMr6z9En"
   },
   "source": [
    "It took $\\sim 10$ seconds\n",
    "\n",
    "Let's try numpy"
   ]
  },
  {
   "cell_type": "code",
   "execution_count": null,
   "metadata": {
    "id": "0BhHOs1l0C9K"
   },
   "outputs": [],
   "source": [
    "import numpy as np\n",
    "\n",
    "#convert lists to arrays\n",
    "A_ = np.array(A)\n",
    "B_ = np.array(B)"
   ]
  },
  {
   "cell_type": "code",
   "execution_count": null,
   "metadata": {
    "id": "_Biwpkzz0EOS"
   },
   "outputs": [],
   "source": [
    "%%time\n",
    "C_ = A_.dot(B_)"
   ]
  },
  {
   "cell_type": "markdown",
   "metadata": {
    "id": "BLKEjKUF0JwH"
   },
   "source": [
    "It took only $\\sim 30$  milliseconds"
   ]
  },
  {
   "cell_type": "code",
   "execution_count": null,
   "metadata": {
    "id": "omK6IxYV0I9L"
   },
   "outputs": [],
   "source": [
    "10_000 / 30"
   ]
  },
  {
   "cell_type": "markdown",
   "metadata": {
    "id": "5vn5zBEL0TYc"
   },
   "source": [
    "The numpy code was $\\sim 333$ times faster. Also, we had to write only one line of code."
   ]
  },
  {
   "cell_type": "markdown",
   "metadata": {
    "id": "d7d7u0rT0obw"
   },
   "source": [
    "### Numpy basics"
   ]
  },
  {
   "cell_type": "markdown",
   "metadata": {
    "id": "fuWaHlCH0v95"
   },
   "source": [
    "Usually, library is imported with the name `np`"
   ]
  },
  {
   "cell_type": "code",
   "execution_count": null,
   "metadata": {
    "id": "FPefq01e0uzs"
   },
   "outputs": [],
   "source": [
    "import numpy as np"
   ]
  },
  {
   "cell_type": "markdown",
   "metadata": {
    "id": "U2Veswlh024-"
   },
   "source": [
    "Quoting [documentation](https://numpy.org/devdocs/user/quickstart.html):\n",
    "> NumPy’s main object is the homogeneous multidimensional array. It is a table of elements (usually numbers), all of the same type, indexed by a tuple of non-negative integers. In NumPy dimensions are called axes."
   ]
  },
  {
   "cell_type": "markdown",
   "metadata": {
    "id": "adcmd7Dh1CgN"
   },
   "source": [
    "ndarray (n-dimensional array) can be created from python list"
   ]
  },
  {
   "cell_type": "code",
   "execution_count": null,
   "metadata": {
    "id": "cNZ2cTOh1Igq"
   },
   "outputs": [],
   "source": [
    "l = [1,2,3]\n",
    "a1 = np.array(l)\n",
    "a1"
   ]
  },
  {
   "cell_type": "code",
   "execution_count": null,
   "metadata": {
    "id": "_H_7JRp-1LXO"
   },
   "outputs": [],
   "source": [
    "l = [[1,2,3], [2,4,6]]\n",
    "a2 = np.array(l)\n",
    "a2"
   ]
  },
  {
   "cell_type": "code",
   "execution_count": null,
   "metadata": {
    "id": "bGUnXpyf1Rdy"
   },
   "outputs": [],
   "source": [
    "l = [[[1,2,3], [2,4,6]], [[10,20,30], [20,40,60]]]\n",
    "a3 = np.array(l)\n",
    "a3"
   ]
  },
  {
   "cell_type": "markdown",
   "metadata": {
    "id": "ROrUPd6p1XVf"
   },
   "source": [
    "It is possible to create 1D, 2D, 3D, ... arrays. The information about dimensions is saved:"
   ]
  },
  {
   "cell_type": "code",
   "execution_count": null,
   "metadata": {
    "id": "fSD259h71ig0"
   },
   "outputs": [],
   "source": [
    "#we have 2 rows, 3 columns - stored in shape attribute\n",
    "a2.shape"
   ]
  },
  {
   "cell_type": "code",
   "execution_count": null,
   "metadata": {
    "id": "2bPgZwxo11S0"
   },
   "outputs": [],
   "source": [
    "#To check dimension 0\n",
    "len(a2)"
   ]
  },
  {
   "cell_type": "code",
   "execution_count": null,
   "metadata": {
    "id": "msOAMpoU1n3W"
   },
   "outputs": [],
   "source": [
    "#number of dimensions\n",
    "a2.ndim"
   ]
  },
  {
   "cell_type": "markdown",
   "metadata": {
    "id": "jp8HrDYB1uqP"
   },
   "source": [
    "All elements have the same type"
   ]
  },
  {
   "cell_type": "code",
   "execution_count": null,
   "metadata": {
    "id": "FIeVf_A01xwr"
   },
   "outputs": [],
   "source": [
    "a2.dtype"
   ]
  },
  {
   "cell_type": "markdown",
   "metadata": {
    "id": "7crJ83B615G8"
   },
   "source": [
    "It is also possible to create arrays, filled with 0 or 1"
   ]
  },
  {
   "cell_type": "code",
   "execution_count": null,
   "metadata": {
    "id": "V-8i5VOv2Cv0"
   },
   "outputs": [],
   "source": [
    "#only zeros in 2D matrix - 4 rows, 2 columns\n",
    "np.zeros((4, 2))"
   ]
  },
  {
   "cell_type": "code",
   "execution_count": null,
   "metadata": {
    "id": "bmGT9zV_2MKs"
   },
   "outputs": [],
   "source": [
    "np.ones((2,4))"
   ]
  },
  {
   "cell_type": "markdown",
   "metadata": {
    "id": "KAIEDHTv2NYl"
   },
   "source": [
    "or with random numbers"
   ]
  },
  {
   "cell_type": "code",
   "execution_count": null,
   "metadata": {
    "id": "sYL-PHXH2VZW"
   },
   "outputs": [],
   "source": [
    "#rand - uniform [0, 1)\n",
    "r = np.random.rand(3,5)\n",
    "r"
   ]
  },
  {
   "cell_type": "markdown",
   "metadata": {
    "id": "Iq3zATcC2jus"
   },
   "source": [
    "Random means we will get different results if we run the same code again. This may not always be good - the experiments may become irreproducible.\n",
    "\n",
    "It is a good idea to fix the random - set `seed`:"
   ]
  },
  {
   "cell_type": "code",
   "execution_count": null,
   "metadata": {
    "id": "J7GkbNaE2M9E"
   },
   "outputs": [],
   "source": [
    "np.random.seed(0)\n",
    "\n",
    "r = np.random.rand(3,5)\n",
    "\n",
    "r"
   ]
  },
  {
   "cell_type": "markdown",
   "metadata": {
    "id": "hlO4ncGf3GIK"
   },
   "source": [
    "### Functions"
   ]
  },
  {
   "cell_type": "markdown",
   "metadata": {
    "id": "7uSaog8A3Mw9"
   },
   "source": [
    "Some basic functions for statistics:"
   ]
  },
  {
   "cell_type": "code",
   "execution_count": null,
   "metadata": {
    "id": "jHCL-4Dn3SOp"
   },
   "outputs": [],
   "source": [
    "np.min(r), np.mean(r), np.max(r), np.sum(r)"
   ]
  },
  {
   "cell_type": "markdown",
   "metadata": {
    "id": "duTltAst3Ubg"
   },
   "source": [
    "Each function returns one number - minimum/average/maximum/sum of the array.\n",
    "\n",
    "However, we often need to compute the statistic for every row/column. For example, rows represent students and columns - assignments. We want to find average grade for the assignment or the sum of grades for every student."
   ]
  },
  {
   "cell_type": "markdown",
   "metadata": {
    "id": "enReoAwo31MI"
   },
   "source": [
    "There is an optional argument, called `axis`:"
   ]
  },
  {
   "cell_type": "code",
   "execution_count": null,
   "metadata": {
    "id": "jtzm6zo934yD"
   },
   "outputs": [],
   "source": [
    "#average for every column\n",
    "np.mean(r, axis=0)"
   ]
  },
  {
   "cell_type": "code",
   "execution_count": null,
   "metadata": {
    "id": "DH86gRKI38qQ"
   },
   "outputs": [],
   "source": [
    "#Сsum for every row\n",
    "np.sum(r, axis=1)"
   ]
  },
  {
   "cell_type": "markdown",
   "metadata": {
    "id": "zIXOzWUz4By5"
   },
   "source": [
    "### Indexing"
   ]
  },
  {
   "cell_type": "markdown",
   "metadata": {
    "id": "cpK10Q6Z4kU4"
   },
   "source": [
    "Rows:"
   ]
  },
  {
   "cell_type": "code",
   "execution_count": null,
   "metadata": {
    "id": "27xgwIZp4JKQ"
   },
   "outputs": [],
   "source": [
    "#Row with index 0\n",
    "r[0]"
   ]
  },
  {
   "cell_type": "code",
   "execution_count": null,
   "metadata": {
    "id": "n9lJokPg4RD4"
   },
   "outputs": [],
   "source": [
    "#Slice of rows\n",
    "r[0:2]"
   ]
  },
  {
   "cell_type": "code",
   "execution_count": null,
   "metadata": {
    "id": "IeB7PfLG41Y5"
   },
   "outputs": [],
   "source": [
    "#Particular rows from list of indices\n",
    "r[[1,0,0]]"
   ]
  },
  {
   "cell_type": "markdown",
   "metadata": {
    "id": "lmrdSP-z4mi4"
   },
   "source": [
    "Columns:"
   ]
  },
  {
   "cell_type": "code",
   "execution_count": null,
   "metadata": {
    "id": "fhhyHpLO4dWF"
   },
   "outputs": [],
   "source": [
    "#column with index 1\n",
    "r[:,1]"
   ]
  },
  {
   "cell_type": "code",
   "execution_count": null,
   "metadata": {
    "id": "GSqYYGYj4g_S"
   },
   "outputs": [],
   "source": [
    "#slice\n",
    "r[:,1:3]"
   ]
  },
  {
   "cell_type": "code",
   "execution_count": null,
   "metadata": {
    "id": "iZd3o-AZ47k2"
   },
   "outputs": [],
   "source": [
    "#Particular columns from list of indices\n",
    "r[:,[1,0,0]]"
   ]
  },
  {
   "cell_type": "markdown",
   "metadata": {
    "id": "dBRjK94t4qOg"
   },
   "source": [
    "Particular element:"
   ]
  },
  {
   "cell_type": "code",
   "execution_count": null,
   "metadata": {
    "id": "YxNlZK4D4r7p"
   },
   "outputs": [],
   "source": [
    "r[0,0], r[0][0]"
   ]
  },
  {
   "cell_type": "markdown",
   "metadata": {
    "id": "6kYASIpo4n09"
   },
   "source": [
    "Combinations:"
   ]
  },
  {
   "cell_type": "code",
   "execution_count": null,
   "metadata": {
    "id": "zn9A-vH04uwk"
   },
   "outputs": [],
   "source": [
    "r[1:3, 2:4]"
   ]
  },
  {
   "cell_type": "code",
   "execution_count": null,
   "metadata": {
    "id": "BGmr52RT5A0B"
   },
   "outputs": [],
   "source": [
    "r[[1, 0, 0], 2:4]"
   ]
  },
  {
   "cell_type": "markdown",
   "metadata": {
    "id": "jFntzQGC5Dck"
   },
   "source": [
    "Important: we get access to the elements in the array, we can change them."
   ]
  },
  {
   "cell_type": "code",
   "execution_count": null,
   "metadata": {
    "id": "_FUqcPNZ5K_u"
   },
   "outputs": [],
   "source": [
    "r[[1, 0, 0], 2:4] = 0\n",
    "\n",
    "r"
   ]
  },
  {
   "cell_type": "markdown",
   "metadata": {
    "id": "FS0K6P_s5RFB"
   },
   "source": [
    "It is also possible to use masks (bool arrays) to get to elements"
   ]
  },
  {
   "cell_type": "code",
   "execution_count": null,
   "metadata": {
    "id": "X0-3n7xe5YEW"
   },
   "outputs": [],
   "source": [
    "r"
   ]
  },
  {
   "cell_type": "code",
   "execution_count": null,
   "metadata": {
    "id": "u5DB9q0Q5Znf"
   },
   "outputs": [],
   "source": [
    "#bool array (True - if element > 0.5)\n",
    "r > 0.5"
   ]
  },
  {
   "cell_type": "code",
   "execution_count": null,
   "metadata": {
    "id": "vZqroCyJ5fsE"
   },
   "outputs": [],
   "source": [
    "#can choose the elements\n",
    "r[r > 0.5]"
   ]
  },
  {
   "cell_type": "markdown",
   "metadata": {
    "id": "M5O2DYlu5kPt"
   },
   "source": [
    "Important: we get access here, too"
   ]
  },
  {
   "cell_type": "code",
   "execution_count": null,
   "metadata": {
    "id": "TkSNN9X55jBm"
   },
   "outputs": [],
   "source": [
    "r[r > 0.5] = -0.5\n",
    "\n",
    "r"
   ]
  },
  {
   "cell_type": "markdown",
   "metadata": {
    "id": "WteW1dH_5rvu"
   },
   "source": [
    "### Arithmetic operations"
   ]
  },
  {
   "cell_type": "markdown",
   "metadata": {
    "id": "hNcyjsKg6Enn"
   },
   "source": [
    "Basic operations are elementwise:"
   ]
  },
  {
   "cell_type": "code",
   "execution_count": null,
   "metadata": {
    "id": "7OJi3JeF6JdN"
   },
   "outputs": [],
   "source": [
    "r + 1"
   ]
  },
  {
   "cell_type": "code",
   "execution_count": null,
   "metadata": {
    "id": "d3CsUFW56KiY"
   },
   "outputs": [],
   "source": [
    "r * 2"
   ]
  },
  {
   "cell_type": "code",
   "execution_count": null,
   "metadata": {
    "id": "g2Z3kU0W6jO4"
   },
   "outputs": [],
   "source": [
    "#we also can divide by zero, but we will get warning\n",
    "r / 0"
   ]
  },
  {
   "cell_type": "markdown",
   "metadata": {
    "id": "KnDHkwBT6p1k"
   },
   "source": [
    "`nan` - not a number, this element can not be represented with number (0/0 is undefined)\n",
    "\n",
    "`inf` - infinity, the number is too big for numpy"
   ]
  },
  {
   "cell_type": "code",
   "execution_count": null,
   "metadata": {
    "id": "W1PHRsTN8bPT"
   },
   "outputs": [],
   "source": [
    "np.nan -  np.nan"
   ]
  },
  {
   "cell_type": "code",
   "execution_count": null,
   "metadata": {
    "id": "NWl0bzGT8eHr"
   },
   "outputs": [],
   "source": [
    "np.inf - np.inf"
   ]
  },
  {
   "cell_type": "code",
   "execution_count": null,
   "metadata": {
    "id": "LL_sBBi78p_Q"
   },
   "outputs": [],
   "source": [
    "np.nan +  np.nan"
   ]
  },
  {
   "cell_type": "markdown",
   "metadata": {
    "id": "Uirm1jLa8hjp"
   },
   "source": [
    "Usually, `nan` is a bad thing to have in an array."
   ]
  },
  {
   "cell_type": "code",
   "execution_count": null,
   "metadata": {
    "id": "DU_xA_YN6Leg"
   },
   "outputs": [],
   "source": [
    "np.sin(r)"
   ]
  },
  {
   "cell_type": "code",
   "execution_count": null,
   "metadata": {
    "id": "qXF5nBvH6MUC"
   },
   "outputs": [],
   "source": [
    "np.abs(r - 1.5)"
   ]
  },
  {
   "cell_type": "markdown",
   "metadata": {
    "id": "JYZLduFn6OTk"
   },
   "source": [
    "The power will be elementwise, too"
   ]
  },
  {
   "cell_type": "code",
   "execution_count": null,
   "metadata": {
    "id": "R_PVkFpb6Nsh"
   },
   "outputs": [],
   "source": [
    "r ** 2"
   ]
  },
  {
   "cell_type": "markdown",
   "metadata": {
    "id": "3ncB4PM_6Vj4"
   },
   "source": [
    "It is also possible to work with several arrays"
   ]
  },
  {
   "cell_type": "code",
   "execution_count": null,
   "metadata": {
    "id": "mUG8QE126bJQ"
   },
   "outputs": [],
   "source": [
    "np.random.seed(2024)\n",
    "\n",
    "b = np.random.rand(3, 5)"
   ]
  },
  {
   "cell_type": "code",
   "execution_count": null,
   "metadata": {
    "id": "0CD6PvMP6fn9"
   },
   "outputs": [],
   "source": [
    "r + b"
   ]
  },
  {
   "cell_type": "code",
   "execution_count": null,
   "metadata": {
    "id": "r_XhHXXg6heO"
   },
   "outputs": [],
   "source": [
    "r / b"
   ]
  },
  {
   "cell_type": "markdown",
   "metadata": {
    "id": "bK-O74hd6__E"
   },
   "source": [
    "The arrays should have the same shapes"
   ]
  },
  {
   "cell_type": "code",
   "execution_count": null,
   "metadata": {
    "id": "Sie2KheL7ECg"
   },
   "outputs": [],
   "source": [
    "np.random.seed(2024)\n",
    "\n",
    "k = np.random.rand(3,9)\n",
    "\n",
    "#Error here\n",
    "r + k"
   ]
  },
  {
   "cell_type": "markdown",
   "metadata": {
    "id": "sd_kGkvT7I3Z"
   },
   "source": [
    "However, arrays can be broadcasted to have fitting shapes.\n",
    "\n",
    "Two dimensions are compatible when:\n",
    "\n",
    "*   they are equal, or\n",
    "*   one of them is 1\n",
    "\n",
    "When either of the dimensions compared is one, the other is used. In other words, dimensions with size 1 are stretched or “copied” to match the other."
   ]
  },
  {
   "cell_type": "markdown",
   "metadata": {
    "id": "n9AEmyT77Ohh"
   },
   "source": [
    "![image.png](data:image/png;base64,iVBORw0KGgoAAAANSUhEUgAAAgIAAADRCAYAAAC+cNpkAAAgAElEQVR4AeydB3gURRvHhyoQOlEQEFBAERD0UwFRiijFjtilCSoqoogoiCBgQZqgItIUpCmIIL23SyO999xd7tLv0kN6IOyX/3pzbo4ru3uXlSQzz7PZNjuTe3d25jfvvO8MISwwCTAJMAkwCTAJMAkwCTAJMAkwCTAJMAkwCTAJMAkwCTAJMAkwCTAJMAkwCTAJMAkwCTAJMAkwCTAJMAkwCTAJMAkwCTAJMAkwCTAJMAkwCTAJMAkwCTAJMAkwCTAJMAkwCTAJMAkwCTAJMAkwCTAJMAkwCTAJMAkwCTAJMAkwCTAJMAkwCTAJMAkwCTAJMAkwCTAJMAkwCTAJMAkwCTAJMAkwCTAJMAkwCTAJMAkwCTAJMAkwCTAJMAkwCTAJMAkwCTAJMAkwCTAJMAkwCTAJMAkwCTAJMAkwCTAJMAkwCTAJMAkwCTAJMAkwCTAJMAkwCTAJMAkwCTAJMAkwCTAJMAkwCTAJMAkwCTAJMAkwCTAJMAkwCTAJMAkwCTAJ3OgSaEAIafsf/5NuhJAm//H/wLJnEmASYBJgEmASqJcSeJcQ8r2VX96SEOJNCHnKyj05lzoQQrYSQnSEEA9CyAOCRL4jhMwSnLPDuiOBDwghC538OT8QQgaZ0gAwvkMIWUcImUwIAcjS8EdVGbuNnrA9kwCTAJMAk4BjCXQhhMQRQtAjtwzbCSEcIeQeyxsyzhsRQjwJIQGEkNer0jxACMkhhAAOEF4lhBw1HbNd3ZLAcUJIsBM/6QlCyEHT840JIRcIISmEkD2EkKKqMvSTIO0dhJC3BefskEmgLkugWVW9eb+gHpX6WwHRUwgh+K4sw62EkG6WF504b0gIuZMQ0tkiDbQv+A0s/IcSQAX7kZX80dOqJIRUEEKaWrkv9dJjhJASQkhH04M3EUKMph4dLvU2VequyEvq/8bi16wEnAEBaKUSCSH9TP/iG4SQTELILabzp03llJ5D+7C/Zn8OS51J4IaRABpWdNbQmNPwZJXWdSo9cbCHNnitlThtqupmLSFkkZV7ci51N3UG8L9i+0WgyXuGEHJYTqLsmX8lAKIbZ3qZf5pU79NENt5Qzedb0QagcOUSQnYRQqL/zaraEfKdQwj5n+DqQ1WN+SeEEDTylqEPIWS6xcUwUxq4jGdQQHpaxGGntV8CFASgFQIQvizhPS82aY+oFGZXHSylJ4QQ9IhQblD2EMYQQpJMx2zHJFDXJWAJAuh143sQfiO2ZABtMCC7tZUIe03pjLdyT84lH0LISULIzVWa4VGEkFJCyCumhKB5KBTZZsnJu148gzH3qyYh/0oI8TW9QDTijgLGU9dbREKDHEII+ayq17WBEAK4sBWgmj1iugmCTCWErLIV2eL6XYSQckLIMMF1qHmHCs7ZYd2QAEAgoQpY/apsBa6YPvprhJAfBb0Ca7+0BSEkixAy2tpN0zWoFJEWtQsA3JY5SNdOcuwWk0CtkoAzILDPhu0OhtbyTO1ILxdIA9o8wIlwmAGgsVmQtoEQ8ojgnB1KkAB64xDwXItndprgABWprdDcpIp/1CICDLDOEkJAlhjT/8LivvAUjTgqdqj7AQ1Rph6aMI7lMf5njOnCPmCjxU2AxPMW19hp7ZcAQADl9G9CSCtCCDQD6OnjmqWWSPhrXyCEpJvKovA6jtHwv0gIiSeEoLzTcIcp3fb0AtszCdSQBJabjKznm+ozdMLQIUKYYAJfaFxRr6F+pPZQpigEw1yBJu0r4vxWpTJHL50GPINrwgBNbBAhBCp9BCEIdDLdw3eF7wbxbHli3W0aqnU3pUN3aLQBAZ8TQoptfHuIi3ZiGX2oSu0P9b4/IaSH4Bo9xP8MjbAwoIOJ4QEawk22Y/Sc7SVIAA09ekBCQz+8+K9NlSFULrYCVKjogQvH5J8zjdvT59BYO2qYI6peMugOvXsxBh8wFMTYE1RDlvHR+3OVKsrW72bXlZcAQOByVeUhbJxROaDsXLLz78DwDwar1sJfpjIOTYNwKAoVESpCYYVq7Xl2jUnAWQmg3kMDjnoSGlhq0DrDVAZRRjEM9qGpXkV5p50zgAJssL6t0sA+W2X3MtNk+yI0qkWHDHAhDPhuUL6/Ml0UggDsaeBNg/swvMb/gQ6dtYCGHP+/MKBzGFn1rX5s2gAStgLU+lDnI0+qDQYYiQlDTPW/0BvtoilPMc+zOFYkgBcBOsQQAV4cGmQUBGxdrcSnl0CxUNXSgIozu4rqYKGNABhAGiho9gIKMOKJGZOi6cBCFQUV40Y0oMDCMNFSQ0Hvs33tlQBAAG6olgGqQfSYbIVYU8Vm7T4qLRhFwQAVZZCGgabyaG3ck8ZheyYBV0gADSnqvuGCxKDxKjBpvwSXec8rNPzUMJu6UQvjQAMG8EWdjiAVBPCMGBsBwAS8bib+k435L77HE6ZhtW12IBwPoAOZYTJKhOYCkCMEcnOiggNoG/BNYyjb0p0Y7QGgiAUZEkBjDWMPkBnG6tG4Y5xlnqmA2gOBLRYqVYwLoVBb20CWtgJUV3hGak+eEiVNl6p0YV3KQt2SAEDgmJWfBHsSjO9bc12CZgsVhrCStZIEQYWFyosGaLWgfUBlxwKTQE1KACCAzouw/MJwG/Uh5kRBnSbcUFfjW0CgdTTK7iQLbZkpSo2BADy08D9SzS/yg+YCwwnU+wZqfhh+2wvQPGtMNjn32YtougdD8G9MoGRpmwaNgL1haBHJ198oK00v1FLFDhUNXrQ9C3wUYhhr0QBae0mw/W4af8U1YYGh8bHHGC0Ms1C4TwtvWBzDu8ByrAtajBhBPKjKoGJjFbhAKHXkEOUDY6GWAeOEqHysBYynogzDqJQG9PwfpyemPVScMHqiYYGFpoleZ3smAVdLAHUoJkcTBti8oNza2kJNkQG6a0zGsIgLW6vzpmECml5NaQRQp0P7S0M7k2YOPXvaBqBzCVCHGt9W6G/6nUJbAVtxhddfM/1e4Wy2aAveF0Zix+IlgIYcPSphQw0Vf5rpBeFF2QqohO1Z+EN1hTFaW4EOJUALAQNA/B+2hhFgFwB3RPriobaFimiFIPFNVXMJAD5YqHsSAAhALQoDJRpgYAobFfTorQVos1BBCrVa8HIResNgeAAVMUCTBlSeUism+izbMwlIkQBAADYqwoC6DuUWw1ZoYC03yyErGM6ONBnfQdWOepRaz6MsW47To8wjfWs2Avg/xAwNwAVXCOYYjkWa1jZ7bcRu0/9r2ckTygM2EdBACAM6qMjrdtNFaFQwpM2GhYVSknAMQ0GoptQmukTjDdI7ZBI0fLZtBVjuY3jAVoD9wKc2bqLXfsZkJYqCjAAjF2vTFOMeXjRmFMScBFAJwVgQcwhgPA0BdIyPAEYzLNQ9CQAE0MOAfz8mPsGG2SxRVq1ZGUMCqEBQWQg1AhgmQHlHw4+JhDBNNco+KkcEgCY0VMK5LUy32I5JwOUSsAYC1FXO0mYKdRys5DHHCwKs8uGiLQwo6yjzGDZAgPEh6kphgAoecWyBAOpmQPeXwocsjjFJEGbntBVQD8NzwF5Arx4G3zCEhJ2OpUcEfdaaphfDyPBIoG0Hpg6HRoR2FOmzbC9BAuj1Q8WEHj562ANMRhvUXsBWUigM9mZgwxiXpcsHTQv+oEhfSHpwJYTFqq2Aih3PoFeHsSBqPYv4MJKBG5gtC1dbabLrtUMC0Fxh9jJYIwMGoAmAzYCwkbf2SzDWTycKovdhWwI1IioSzEZGZ6rEfcwqaGllTZ9jeyYBV0vAGgggD/TkUT7hUocAIzqslYEGHHUdAjpEaEBpLxgNONzAEQceXQho7HGOxhQB9S4MrNHQ2wIBxINPPr4NzAFgrU5FPvZAAJBizbj3n//iH9ddgAI6ikgf37QtewKq+aNuwgB/aFHQZtEAV+Jz9ITtlZUAxvfRS78RAipvECYLTAJCCWBeChj/iQnoXWC4iVa+Yp5hcZgEnJGALRCAwZ3K1IhjSBTgC02V0FIeLndepjiYMhvx0MALXfAwLwA0Z4ABpIE9FmdDObcHAtS1FvFhrGgZYJwIjaytgCFaDNVaC2j4YcsAt1/ao19iMhq0Bh1IA9MdQ3ugN/X84SFAPSMAQOgECqdItpYvu1ZDEsDYFahVOI9ADWVlN1n4kgqtvu1GZjfrlQQwfGWpYrUlAFRuqGBYYBJQSgJoZO3ZYWGICuUSw1hCzZXw/0McaLnQMRPaw9A4qJ8xsyZc/aiGFsMPdOEea4sOYSj2YULICEGDS9PDHuklCy9YHMPWS2h3JryNYTgYpwsnIsIQL67Za0vgDYaF5aABQeNPA4av4cpo71kal+1rSALoiVt6HNRQVlaTRaECmVKjEauR2MV6KwFUoGIad/QuUI5o5VhvBcZ+OJOACAmgEwhbG2qjJeKRGosC7QIMLFn4DyWABSCEsxIq/a8ABKD+YoFJwJoEUDbh3+wooAdDLa0dxWX3mQSYBP6ZDtjRHB01LSe4AsOQmAUmASYBJgEmASYBJgGFJQBrfwxJ/FcB9gSwRRAuRPRf/S8sXyYBJgEmASYBJgEmASYBJgEmASYBJgEmASYBJgEmASYBJgEmASYBJgEmASYBJgEmASYBJgEmASYBJgEmASYBJgEmASYBJgEmASYBJgEmASYBJgEmASYBJgEmASYBJgEmASYBJgEmASYBJgEmASYBJgEmASYBJgEmASYBJgEmAaclgFWhfjWtyIZV2b41LT2J5Sexghrmp8aGVacwXzS2B01T8WI6XixqwQKTAJMAkwCTwH8ngberlt/Fehiow7FhRVfU4diw2h6tx7GaIK3HsV4A6nBsWCeAhXoqASxScWX4sGE548aOzR79+OPZjz/2WMGoRx8tHDxo0OW+ffsW97nrrtJu3bqVdOnSpaJdu3YVrVq1qmjatClWprpm2rCqlHCj1xEHc0hjKzctKoSFhbCcK1a3wnGOwhvyLlA4T/xGrHb1ZD0tY5Y/GxXOGcE7SDMt9IHFPrDyF5b1xRZoWsYXa1BgKVUsBoUNq6ztMm1YPpVWfFhOmlZ8bwkqvnGCiq+voOKjFWBd3dtaqMXyfbDz2i+BXY0aNSpo3bp1mmnLaN26da5py2vVqlWJaStF/e3m5oY6+YqgDkedba0Ox3XEo/U4lipGvY0NS/8WEkLyBd+yUvX5f9F24Lel2lg4qVaXIEyraHju2WfjMo3GvNLSUg5bcXExV3j5snnLy82tyM3JKcw0GguMBoMhPS3NmJqSok/S6ZJ1iYnxep0uTqvVhusSE0NioqNDY6KiAiPCwy8F+Pn5e3t5easuXPA4efy4z98HDqj2/fnnhS2bN6tatmyZcnuPHsVnTp9OPH/unFaJbe+ePbENGzas+Gj27PRjR49G2tpOHD8eZ2s7fuxYNJ47cexYFOIcOXw46uDff0fs/+uvEGx///13xJ979wbv2rUrcNvWrT4ff/TRH4SQraYPLrpWlxbX/fOeXbt2vXz0yJG448eOxe/780/13j/+iPt99+7YHdu3637btk23Yf16zfqffkpdsXy5bvWqVSmfL1iQNn/evJQZM2YkTZ0yJeOZp59OHTN6dOr/7rsvs1/fvsZevXoZu3btmtemTZvc5s2bo4KilRUqLlqJAUxR2VFQVWrP3XTTTddatWrlkk3i//+Q614bS+kGlQBWzKs8cezYpbTU1CzhlpqSko662t6mT0xM0SUmJup0uvjkpKSYRK02IS4mRhMXExMTGxMTFRQUFBXg7x/k7eXle/LEiYC/DxzwWL169e933303ILzyg1mz1Fs2bfK2tv2yefOl7b/9FmBr+2XLFp8NGzZ4/bRu3Xm6fb927dkV33576sulS48sXbz40Cdz5/75xtSpv40aOfKHpk2bfkYIOdSwYcNrq1et8vt1yxYvOdtv27b5/rZtmx/+5/Xr1l2gef+wdu055L1kyZLDyHv69Ok7hg4duqZx48bzq5Yv1pnqj6E3aDmQ/W8daNOmTYlGrY7hFApXrlzhDuzfH9KoUaPKwICAUIWy5XJycnKfeeaZhKEPPZSXaTQalco3OioqtEmTJli721C13KaP7DdVdx58t2HDhpX+fn5B165dk/QaUHawlZmAtaioiIfV/Px8DqCalZmZl5GRAUhN1ul0egBqolYbrlGrQ06fOgUNROXunTsv6BITPTUajY86IcFfq1aHaTWa8CS9PghbolaL84hErVYNyEXFSCtHXHO0Jen1sclJScHpaWme6oSEo23btv0Bva/IiIhoQLScDY+hck9NSUkTVugAcb1Ol0r/V71eH6XRaLwjIyOXVS0TqzbBELQhLNRdCbQghBTNnDkzsKCgoEjSB+VE5LS0tNyRI0caJk2cmFaQn1/oRFLVHqXfuHCPzim+9fz8/KuXfHxOQUPx07p1vmVlZVeqPezkydWrV/n6heZdUVHBd4oNGRnFq1auPNisWbPKRo0aXa3SZtYpEHgOFaPqwgX/yspKJ0Uo/nFUiC1atLiyacMGv/Ly8qvin5Qfs6Ki4tquXbt88CIjwsPj5Kck7UlDRoZh0KBB0Y0aNcokhFxgIEBuw0f8w9q1vmWlpS79iO29mZSUlKSePXvmv/rKK1F5ubkF9uK66h4qlbNnz+7HN3b0yJEgnCsRioqKShctXHjRpAXxIIQwEKi7EIBf5t+lS5fs5ORkjRLlC3mUl5VV/vjjjxGdOnYs12m1iuWbpNdrbr311uSHH3oo0WgwKNaZCw8LC27SpMmV37Zti23WrFmdAoHWVWOpJQs//zywqKioTKkChIbxoSFDjKMefVSTlZmZqVS+YSEh/Ivc88cfkUpVyKWlpVd+Xr/+TJMmTSq9PD3j27dv78lAgOiGDB6MjzhdqXdfVFRUMmvWrBh3d/fLUHkqlW9CXFxw06ZN86ZPnx5TkJ+vSE8NQO/l6ekF+HjjjTfWmOwwGAjUXRD4ENo1qO2latec+Q58L10Kb9y4MTqR0Urle7mgoOiDWbM8mzVrVhYbExPpzP8v5dm01NS0u+++O/3VV19NiYqIMNQ1EAjr1bOnMS0tLUmKUJyJW1paenX5t99Gurm5lSXEx0c5k5aUZ9NSU1Pv7tMn4/XXXtMX5OdflvKsM3GDAgP9GjZseGXbr78GGTIySu6++26/eg4Cm/ARx8XGRjgjVynPomE8efx4UIMGDSq9vbwUqyyzs7Nzxo4dG9SpU6fCpKQkxeBDq9HEt23bNu/FF14IDwsNheElhkMYCNRNEICB65X169dfUlK7lqzXJ3Xr1q1g6ZIl6pKSEkW0eviOL5w/r+K1a4cP+yjVmSsuLi5fsnhxQMeOHcu1Go0mNSUlpS6BwOcY5wgNCVFsfB7U6O3lFQp6PXniRKCCL7JswYIFwbwKS6dTTIWVkpSk796tW/qTTzyhycnOzrl8+fK1oUOHBtdjEBiOj/jIoUOXlHr3AIb4uLi41q1bly9fvjyopKSkQgpEyI2LYSgYxKKs+166FKJUjykvLy//lZdfjmjfvn1BokYTg0qrefPm5xgI1E0KqHIHTB46ZEi80WDIkFtWpT5XWFhY/O6MGer+/fsXGjIyFNPqJcTHx7Zu3bpw2rRpoUp15gAfnh4eAbBlu3D+PK/5qEsgAJ/Rq9u3bbtUXl6umGEALFI7d+5cNPvDD0MLCgqKpRZAOfHxIlUXL/qiQlZdvBipVIVcWFhY8tHs2QFt27YtU8fHx+N/Lyku5iY8/3xkPQUBuApenjZtWphSHzFknpOdnT1m9OiUgQMHphoNhjQ5ZUjOMxHh4RiGKl+9alWQUj01GDf9feCAt0nz4YeybjAYsm699VZmI1A3OWCn0to1APzRI0cC4DYeGhysmJ1Vbk5O3nPPPht9a6dOuUl6vVrONynnGa1Gk9ChQ4fCpYsXJ9BORF0BAd5VcMzo0bFZWVmKjc/n5+UVTnr9dU23bt1yU5KTtXJeipxnTGrSoq++/DKGvkg56Uh5BvBx/ty5S+j9njtzJgznCLB6fe211+A6WB+9BlRKf8SA3J9//jmwadOmFdGRkYoNRWA8ceDAgfpBgwYBPhTrMUVFRobfdNNN5cuWLfMvKSkpR5nLzsq63KtXL2+mEahzJMC7Ch47csRbSe1aXGxsLLxftm/bFgPwVCIgnz2//+6Nzpyfr69iQ3vQrr36yiux9913X75B0ImoKyCwr2XLliXqhATFDC3wIvf/9Vcg1CtBAQFhShQe5JEDinzuufh77rknT8neoDohIbZNmzZFCz77LKK4uLiU/t6ysjJu6tSpsfUQBKaaVOTBSmlkIPMAf/9QGDPt/+svP6UqLcDmyhUrvJo1a1YREx2t2DdmMBgMQ4YMSR44cGCKwWBIpWUuJzu76K677gJ4MhuBusMC0K4VvvXWWwFKateyMjOzRowYkTF+/PiU3NzcfFrGanofGREBwL2yds0aXxhf13R+SB/1xV/79vnBwyw0JITX6NJ86wIIPMP3Us+e9aW9VPrjanIfGRER0axZsysb1q/3Ly8rU8R/CmO0u3ft8oYKKyw0NLomf58w7dycnPwXJkxI6Nu3b156Wlqy8F55eTn31ltvYca8+qQR6AgXtu9Wrw5Q6iOGzJOTk5PhKjh54sTYvNxcRYxDATmXfHz8oZo/sH+/n1I9NbhxrVu3zh/wERURUc0ANzcnp6Rv377QTjEQqDsg4NulS5ecpKQkxeydysrKrq774YdgzCirVqurNYzCOs7Vx5g7Y/CgQRmDBw/WKaldo/Cxa+fOaMtORG0HAd5VcO7cuQFFhYUlrn5httLLyMhI/99992WMevRRrdFoVGwoIiw0NAQ+nzt37Ai3fJG2/ldnryOf33fv9oWrYGhISLUKGWljYor33nsvoZ6BQOIQhT9iuAp+8MEH0XAV1Ol0ilnr6/V6bceOHfMmT5oUo9Q8BShXAf7+IdC4/H3gQIBlWc/PyysfOGAApmZmIFA3QOB9vGs5E3E5U7/5+/mFQqN7+tQpxeysAB/fr10bCMCNjYlRbGjPkJGR8cD992dMeP75VGvfcW0HgZDu3bsbU5OTdc4UCCnPQk369ZdfhrZs2bIsPi5OsVkL01JTk/vcdVf6+PHj9bm5uXlS/mdn4oIimzZtemX7b7+FQiNhmRYq6dkffqipRyCwVmkVOTRd8EhR2lUwPz8fqtrIm2+++bI+MVExYybMMNi9e/f8KVOmxOTn5183SVJBfn7l/f/7H1xWGQjUfhDozrsK/vTTJVfPpmdZVwnPk5KSdLfddlvB3I8/ji0uLlZsvhk/X98wQM+hgwcV065Ba/ntsmXBHTp0KMdMnUI50OPaDAILGjZseDU4MDBQqTFa5OPl4cFXyJiXWqmhCBTURQsXBrVt27acWuvTF1iTe0yS9OADDxgmTJigszV+BlXxp3PnausJCAzGMNSB/fsVNWZKiI+PadmyZfnyb78NKlXIvxnv9cjhw748fHh6Bij1jWH2wA8/+CC2c+fOhUl6vVUD3MsFBdyQIUP8GQjUfgoghCQNGzZMreRseryr4DvvJHTv3r0gLTVVsU6kaWivYPr06WGA7Jqsu2na+G59vLyCGzVqdO3c2bM2J0mqrSBwJ1wFN27YoIKqhf7omt7rEhO1t9xyC1wFw4suX1ZsRjWPixfR+6k8e+ZMiFLwAYpctmxZuLu7e7lGo7E5bof/Z8Fnn2HBirpuI9AYK5K99MILwXl5edf1Umuq7JlcBWEwlya08q2p/Gi6MAps0aJF+ZIlS3xLFOoxoSydOnmSHxJAz4n+L5Z7LBo2YsQIrN7INAK1mwW2N2/eHJpVxVTkANxjR44EmoYiFJtvprioqGTmzJnqTh07Fig6tKfTaTt37lywWOAqaPk94by2gkDGkCFDsNCJYm5MeZjU5JVX4m/v0SMvJSUl0Zowa+IaXAXbtWtXNHfOnHCl5ingNR+ensH4WM6fOxdurzeIe18sWqSvByBwwc3NLT9Jr1fMar6ioqJy8+bNfhiaiYyIUCzfTKPR8MjDD+t79+qVkp6ertgMneqEBHWbNm3K165dG2YP8IsKC7kxY8ZgEisGArUXBB5F5+bE8eMBShmgon6mroJr16wJtFfGXFmXA3BPnjjBA67vpUuKuQrCvX3atGkJYiZJqo0gsLdp06bFCfHxIa58WfbSwjj43j17fHlXwcDAcHtxXXkPE06MHz8+DvMUJCUl6V2Ztr209DqdtlOnTkVfLFoURX237cX/6ssvk+o4CExFpeXl6XnOHhTZk5Gce0GBgSFwFdy3d2+gpcGcnPTEPINxWiyc1KhRowosSCLmGVfEQVl/6qmnUocOHZpmdLCCZnFREffUU0+FMRCotRTAuwrOfPfdYKXWqkAZNbkKYj4MXabRqFgnMj4uLr5169YVq1etClBq3hfUF4cPHfIVO0lSbQOBp3iKPHbsnFIVIwpQZHh4KHw+N2/cGKTUrIUwzNvzxx8+6JVjSWOlGiBQ5OuvvabhXQXT06u5Ctqq8L/+6qvkOgwCvKvgjBkzThQVFSkycyTknJqSktS7d++cl19+WVFrfX8/P15t+tu2beeVLOtbf/01rEWLFrCkdugWa5rNMpyBQK0FgUtKT8IGd9T169djrBxzYSgKuE888YThwQcfVNpVMLJ58+YV23/7LVZMW1mbQIB3FZw8ebKnNfcHW42Us9fT0tLS7r333vSxY8fqseCKs+mJfT48LIx3FcQ8BSUlJYrYQaDAYJIk3lUwOFi0KrqOg4Dmtq5dNenp6TbtJMS+U7Hx4Co4e/bsKHd392IlVxXU63SJXbt2zXv88cfDMxV0iw0OCopAmTty+HCIGDUxQOCFCRMYCNRODnhf6UnY8N3BVRCdqn1//uktpmEU+63ai4fO3JbNmzHfzHVzYdh7ztl7MPIePHhwui1XQWvp1yYQCOrQoYNBp9Mp5rIHtfjixYuDWrVqVZaQkBBrTYA1cQ2rCvbv3+PiPpQAACAASURBVB8TTqjT09MNNZGHtTQjwsOjmjdvfmXb1q0h5eXl17kKWnsG1+owCHzXoEGDiojwcJWt3+7q6xhPPHPqVACs9T1UKsVmLbxcUFA4Y8YMVFpFmoQExYa/MHVxv379CqZPmxYnVk3MQKB2EgAhhHcV3LBhQ0B5ebkinRt8n3RVwQkTJgTn5OTkuvqbtZVeUGBgJAAXE3EpBR9YCfe7Vav8O3ToUKFRq0V3XmoLCMyHl4Cfr6+XUipy5OOhUvEV8tnTp4NRQSsRsDzkF4sWBWHhjcjwcMUWwMB0roMHDzaOGzcuMSc7W9LHUkdB4EEMQ23asOGgkv7NplUFy77+6iusKsjPrV/T5Q698BPHj2Pu/sozp097iOmVu+J/wu+bP29eHO8qmJRk1VXQWj4MBGotCCQ9/thj2qzMTMUmYcNCae+98058y5YtC7QajWLeCdAk9+vXD8OsoUppsNFm+Xh789Penz1zxqaroLVvqjaAAO8quHLFilNFRUWKTfxAV2iaP39+TLFC+QI2qKvgoYMHfTB9rxIBFLly+fJwaD6wpoDUPOsgCMBVMPe+++7zzsrMNM9xL1UuUuPn5ORkjR0zJqlfv34Gy6mcpaYlJX5sTAxcBUvfe+edC/n5+YpNXXz29OlwqIl9vL3DpAA+A4FaCQK/wiMEoCulbDoTF0ALV0EArurCBQ+lOnMA3Hmffqp1d3dX3FWwU6dOBV8sWqSRapRYG0AgpW3btiEJcXFpaBilVBjWChGeh5rGckPaWEkPW2ZmZt6ECRNiBgwYkJ+enq5YQ0Dh45GhQ1W6xMTLmL63poOJInnXFrmajzoIAucaNWqUr9FovGta/jR9uApu2bzZr0mTJlfDQkNt+tDT+K7aU1fBm2++OU2v1ys237pGo1G7u7uXrVq1KlTqksYMBGodCIzAUNf5c+fiCwoKOMwDocQWGxMT7+bmVt67d++tgF29TpeUmpKSZjQYMjONxqLs7OzC3Jwc85aXm1uZn5/v9P925vTpSNgj+Hh5xWDyKyV+K37PlMmTY+AqiCnwpdYPNzoI9CWEFDdo0CDqwQcf1EyZMiV14cKFWUsWL862ta1csSJHuH3z9dd83Pnz5mXOnzfPSLePZs82zHr/fcP06dPTpk+bZt5ee/XV1BHDhxcSQrh5n36au3nTpgKltpEjR14FvbZq1Sp68ODB2ndmzEjH78Tv+fqrr7K/XLo065tvvsletXJlzo8//JC3evXq3NWrVuV8v2ZN7k/r1uXL+T83bdxY0Kljxysff/xxFGZ1k1qAEL+OgQCGBK7u3L79O0NGhsZoMMDa1yB1y0hPN6alpmbhA8OUuXRLTkpK1ut0qbrExERM95mk18cmJyXFeKpUYXAV/H337qDcnJxrSlQe+Xl5V79bvRpueFf27d37qVajCU9JTk4W/tZMozEPlYywwszNySnNy83lLsuo0Avy87mM9PTC5597LnXQgw8a5cwFwkCg1oHA3hYtWuSPHTNG98S4cXqltq5du1ZicTBCSATdULfe2qlTbPfu3ePo1vOOO+Lv6d9fbbk98vDDiXT73333aSzvWzvv36+f3s3NjWvRokW2kr936NChqU2bNr0WFhIiWaOLOvxGB4GhrVq1ghud4c+9ezOU2iZOnFjeuXPnyr/27TMqlSfyeerJJ6+tWrmyTMk813z3HaYH5tQJCbKNMOsYCGxs2LAh5+bmdg2bu7v7tQ4dOlzr3r37tZ49e1rd7rj99msdO3a0u9H0bO0bN27MYRswYMC1ewcOVGxr0qQJfqv597Zt25b/HZ06dbL6Wwfcc4/T/9tdd911rWnTplctVxUUC6EMBGodCPg8/PDDeStXrNAotS375ht1ixYtuHFjxxqVyhP5LPz88/TOnTtzSuaJvO6+++6MSZMmZWNZeDnhhgcBd3f3qwaDIVvOj5P7zLfLlhXeddddFfn5+YqsE43/Eyr6OR99dO3M6dOKzEFNZaOOjz8PEHDGTa2ugcCwYcOytGp1TkpSklGJTZ+YmDVp4sTKKZMnGxMTE7OUyBN54DeOGDGCC/DzUyxP5Lv3jz8ibrn55iKjzO+agUDtA4HvVq9Oo3WOEvvMzMzcjh07crt27lRsuAu/Kz4uLmf4sGFcUZEiM9DzosQQ8qeffBI4ffr0TLnDyQwErJRKBgJWhGLnUl0DgeHDhxuV/pDfmDq1cvq0aRlKGYjidRYXF3OPPvootEFGO6/X5bcOHzoUyECg1jXmzvzDPgwEXP4ZmRNkIGAWhWsPGAhIkycDAWnysoyND5mBgKVUbJ8zjYAzbfJ/8iwDAdvF2ek7DAScFqH1BBgIWJeLrasMBGxJRtx1BgLi5ERjMRD4TxpzZzJlIEALbw3sGQjUgFCRJAMBaYJlICBNXpaxGQhYSsT+OQMBZ9rk/+RZBgL2i7RTdxkIOCU+2w8zELAtG8s7mUajcdCgQXmEkMj/pIpxfaYbmY2A5Vt27bmzNgKXL1+uGDduHFt90PVlv6ZSZCDg2k+oWmquAIHIiIiYRo0aXSOEDK2pQuBMukOZ10C1d+7yE2e8BrCi18YNG3wIIShAWB++LgQGAi4vZdUTdAYE4F3j5ekZNH/evMq1q1c/XxcKXD34DQwEqn8CLj1zFgSwPPPw4cOz4D1WJ0FAruW3MxoBzFgox5fTWfdBzIgoZ454Z0AgMCAAS9ZiEqSEOrQMMQMBl1ZT1yfmDAjodDptx44dC3/ZvDnT6+LFcRIb0TaEkKYSn2HRnZeAUyCg0Wi48HBp62DJdR/Mzc3lLly4wMXGypqXR7L7YGRkJOfl5SWrzaBfljMggM7cd999F9ewYcNSTKRWp0Dg4sWLXKdOnbgGDRpwkydP5qcTpkITs5cLAuvWrcOMUlzTpk25tWvXisnKHEcuCGD+7GnTpnGYBKd9+/Z8ITYnKuJALgikJCXpu3XrltWsWTNfQgjmIoBmoC4E2SCwfPly7osvvhAh9epR8CHL8RoAcH766adcr169uPvvv587cOBA9YQdnMl1H9Tr9dxTTz3F3X777dyMGTMk+0zLBYH8vLzCSRMnxvXu3Tvfy8MjSAYI7CSEjKoLhbSW/QbZIIBv4+GHH+ZWr17toDRXvy0HBDw9Pfk6dMCAAVzr1q25OXPmVE9UxJmUeQTmzp3L53fXXXdx/fr143Jy5K1y7wwIXPLxicCMpps2bNhXp0AADWO3bt24rVu3cqmpqdyDDz7IrVmzRsQr/DeKHBDQarVcu3btOH9/fy44OJhzd3fn/Pz8/k3UwZFcEPj999+5/v37cykpKdwff/zBdejQgZ/61UF25ttyQAAren0wa1ZYs2bNiv39/BLat2/vWd9B4NSpUzwAKgkCS5cu5QHAx8eH27lzJz9DoJSejFwQGDJkCPf+++/z5XzMmDHc7NmzzeVJzIEcEICm7cD+/QGotAL8/LS+3t7hDARqDQ7IAgE0jGPHjoW6WhEQuPfee7mNGzfyRTg5OZmvzyMipC1YKBYEoAlAx81gMPCTyb300kvcokWLxHw+18WRCwKY7rxHjx4lixYujIiMiAioUyDg6+vL9enTxyws9JIGDRpkPhdzIAcEQKzTp083J//xxx9LIkq5IDB+/Hhu27Zt5nwHDx7M7d+/33zu6EAqCAC0Tp86dQlrIpw4flyVaTSW9r37br/6DAKbN2/m2rZty5czJUGgb9++3Pnz582vGNqvlStXms8dHcgBAVRc0Lah8kGAWrN3796Osqp2Xw4IREdGRjRr1uzKli1bQvPz8ioZCNQaCMA/KgsEnn32We7JJ5/kXnnllRoHAUzkNXDgQK6w8N+JXQEhAGwpQSwIhIWFcevXrzcn/f3333Mvv/yy+VzKgRwQQGduxttv6/v17ZubkZ6erE5IuFinQGDDhg3cpEmTzHKkZGe+IOJADgi8/vrrZppEFnv27OGefvppEbn9E0UuCHTv3p0DXdIwa9YsbsWKFfTU4V4qCMTFxsa2atWqdMaMGV75+fkFWBxnxPDhIfUZBCDv0NBQDvCnJAigMkFjTgPK/bJly+ipw70cEECiKKs07Nq1i3vggQfoqai9VBAwZGQYBg8enDF69OiknOzsHLgPMhCo+yAA7SrK2ptvvlnjIGBZcGFvBc3yuXPnLG/ZPRcLAsJEYMv2yCOPSB5OpmlIBQF05o4cOhTZpEmTyrDQ0Ciko05I8KhTIPDll19yaAxpwAppsBWQMnWrHBCAihSqeRpOnjwpSRMhFwSwYAxgh4aFCxfyDRI9d7SXAgKwLn1s1Chtly5dDElJSRqkXVJSwr3wwgtR9RkEqIyVBgGaL/bp6elcq1ateHW98Lq9Y7kggDTz8vK4+fPnc1hgBcMiUoIUECgtLb26csWK4JYtW1YkJCTwFlwMBGoVBMjWCNAy9V+AwA8//MBruqQaYEsFgUOHDvH2CNBioy6VE8wgMG2aqLUGYmNi4tzc3K5s37YtpKKigqd6TUIChnfrjrHgZ599xsEIgwYICWNMsAYVG+SAAIju77//NmcBg0WobsUGOSCAZ2AkaDT+O1X8119/zb399ttis+UEIBBn76Hy8vLKX7Zs8YGXQFBgoD/yRoC3wsTXXothIMAprhGg7wtGg1g8CBWmlOAMCCQmJnLvvfce17NnT8ljmwABd3f3IoPBkGXv/0UZ8710KQhru586cSIUPRkEBgIMBOyVG9yTYyxI0wTYAqqhkZAapIIA7NhgS/bYY49xEydOlJodH5+CwJQpU4yOOrw52dnZj40alfXss89qcwWNokat9q5TIIAxUlgy05Cdnc01atSIo5UIvW5vLwcEnnnmGW7Hjh3mZA8fPswNGzbMfO7oQA4IIE0YnMBQkQZYkS9YsICeOtybQUCjsbsMcXBQUHCjRo2ubtm0ybOstPQqTRiN0BtTp8YyEPhvQAA9lgkTJvCW1VJ7FM6AAH3/qMiaN2/OwcVLbAAItG/fvigjI+NfgrXysF6v13bt2rXg4zlzYoqKikppFAYCDARoWbC1lwsCly5d4iHgr7/+spW03etSQYAmplar+WXIHTXkNL5wT0Hg1VdfNdpzXUdn7ofvv49r165duSYhoVrHT6NWw+6r7mgE4C3w3HPPmeUUHR3N3XrrreZzMQdyQAAufEIXly1btkBlLiY7Po5cEIDrCQovDVOnTuVgeCI2UBDQajT8WJG15+Aq2KtXr+yRI0fGZBqNmcI4KLhvv/12PAMB5UEAZQbaH7muR3JAAOOZQpsUlAXkf/ToUWGxsHsMEGjTpk1RRnp6hq2I+fn5l6dMnhzX8447ClJTUpKE8RgIMBAQlgdrx3JAICEhge9YUc8Ba+k6uiYWBGB7IDTyzs/P5zXXGHKTGigIvDhhggEaWlvB99KlSHjdnD93Lgx1hzBo1Gq4gdcdEIABFdz4KBlhrEeqykUOCMACdPTo0WbZwh0Ehotig1wQgJEi7CIQ4GJ12223cVJcXigIaNTqfy0OBf90YUFB8ewPPwxt2bJliTo+/jpfGhTCWbNmsQmFOOVBABUJDJrQK5cT5IBASEgIX1nS7wtgAJ9rfHdiA0DAzc2tKC011eoa9SjHhw8d8m3UqFFlYEDAdeWSgQADAUdlTQ4IYHgNGlVnglgQgMa4R48e5nbq119/5dCpkxMoCDzz9NMZtrSCyXp9Uvfu3Ys/X7Agsri4uMwyH61a7V+nQAA/EJOdPPHEE7wVJty6MFOUlCAHBEBysOCHfzXsFKCyF47dO8pfLggEBgbyecFy/cUXX5RkoIj/iYKAVq2+riaH2vnEsWNecBU8d/bsJWvDK6i0Z8+erWEaAWVBAO+mS5cu3KhRo3ijPRjuYZPSM5cDAsgXXgLQgOG7gvvqyJEjq3kSOCrrAIFmzZoVpqakWCWYqMhIzFFRsWnjxgioMy3TYyDAQMCyTFieSwUBaI5hSwaoRUeSbr/88otl0nbPxYIA6lJ0HO+55x4OnUbke+bMGbtp27pJQeCJcePS8U1bBnTmZrz9tq5v37556enp/1qWCyJqNZrAOgcCEAYMBjF2evDgQcHPFXcoBwSQMgyo3njjDd59Ee5kUoJcEEAeKpWKhwB4S0iBDzxLQUCjVodY/r9xsbHhLVq0KPls/vygosJCqzonNAyffvqploEAx+3bt48D6UsN+JClziyYlZXFVyCoRITb9u3bRWcvBwSQeFpaGgdNFCqxd999l/cgEJ0px6G3H9ikSZPCFKG7iymBjIyMjPv/97+00aNHJ8OwyVq6NQACDQgh3dn0wzUGGLLmEaDvHjNZYv4KKUEqCGRkZPDfL75h4YaxeylBLAggTXSikNfPP/8sycbG8v+hIPD4Y4+lWU6rj/r5wP79wSZXweu0azQtrUaDtWLqztAA/WHO7OWCgDN5OgMCzuRLQUAdHx8kTMdgMGQMGTIk/q4778xMS021SpGID7JdsGCBjoGAUHrSjuWAgLQcrMeWCwLWUxN/FSDQsGHDQqgrhU+VlJSUL1u2zKdVq1YV8XFx8cJ7wmMXg8AQQkiiacGVPoKmsAsDA4E0nDt0CgSE717ssVQQEJuuo3hSQMBRWmLvUxAY/sgjqUWCCZHwfHRUVHSLFi2quQpaSzdRo8FcMAwEhMKpjyCQEB8fQGVQWlJyZd26dRcaN258NTQkxK5qAwCzePFiPQMBKj3p+/oIAoSQQr1er6PSAlB6eXr6NWjQADNWml0F6X3h3oUgAE0AIOBvQkh/QkgjQkhnQkiECQwKCSGvONcGsqdRN3y3erVVexDhe3XlcX0EgcGDBqVggjcaMo3GjKEPPWR89plndEJXQXpfuE/UarGsNwMBoVDqKQjwCyOgYff38/Nq0KDB1e2//eZLJ5wQysfy+KuvvkpmIGApFfHn9RYEdDqz32uiVhvfoUOH/Dlz5sTaGoaiEnUhCKDRx9jwrYLm+k9CSAEh5D5CyMuEkCJCSEvBfXYoXQIMBGjhrYE91QjcN3Bg8uWCAj6H0tLSK98uWxbOuwqq1QmOsk3UagG/DASEgqqPIBAfF+cJGegSE2Pd3d2N48aNi8N0rkK52Dr+moGALdGIul5fQUCXmMir/1HOxo8fH3F7jx6XU5OTzVoCW8JzIQi0JoRcI4T0MrVtz5rAYKbpvInpfj/pbR97QiABBgK2CrMLrlMQ6NOnT1JeXl4ZOnOeHh78RFznzp4NxbmjkKjVRjIQsJBSfQSB2NjYUzk5OXkTX3/dm3cVVKvtTjAkFBkDAaE0pB/XVxBI1GrDKyoqKvfs2XMOroIB/v42jZmEUnUhCKCtOkQICaqyB/iWEJJFCIH1NIYIEAAEZYSQVqZztpMnAQYCwgLs4mMKAp07d07MyszMTUxM1N5yyy1FCz77DK6CVo28Lf8FnVYbzUDAQir1EQQiw8OPHPz77xNwFTx/7py/NVdBCzGZTxkImEUh66C+goBWq/ULCw0NaNKkSfn6n34KK7fiKmhNoC4GATTyq01DW7+abATQ3O0lhFypgoP35bV97CmBBBgIWCvILrpGQaBFixaaqIgIw4svvJDAuwqmpdk08rbMGppgBgIWUqmPILB06dIhjRs3Lpk7dy5cBa93RrWQkfCUgYBQGtKP6ysIBAcGHunVs2fyqEcfTcnKyqo2Y6U9KboYBATtVbVD2Ah0q3aFnciVAAMBewXayXsUBAghCQsXLNgNV8HgoCBR2jWatS4xMY6BAJWGaV8fQYAQEnLH7bcb01JSEi3E4fCUgYBDEdmNUF9BAD1xrCoYHxsbbVdAFjddDAIrCCGYXhUagMWEkBcIIXeahgd6EEJ2EELgXcCCfAkwELAow648FYAAPGCubNu6Fdo1x4YBgn9Cl5iI2WFvXGPBDh06XI2KiNDpdTqNUtvSxYsv39m7d0VcTEyyUnkin3ffeefawQMHCpXMMzwk5DwMpLCgUHBQ0HWTCgnKis1DBgI2RSPqRj0FgWIMQzlyFbQmQBeCQDuTcSA8BTYTQrAUa67pWil6WKbjz6psB55itgKyScBnzZo1abBoV2pL0usvd+zYkft91y6NUnkin6jIyILhw4bxE7splS8WEfz0k09g23Llmaee0uVkZ4tfatf0gaHNuZFB4G3Th8hP/8iOeVenGpHF5k2b/MrLy82rClqrgG1dq0sgcMsttxwcOHBg6dHDhzWHDx5MUGQ7fFg97JFHrj388MMlv//+u/r33bsTlNj2/PGH5u4+fbg/du9OVeR3muS5YMECdcOGDa998MEHcVKHoVAGXQgCMArcbZpDQNjKYTKhMYSQ5aY6B5Us3AiPMu2AUEyijwtuvvlmrn///optWAirSZMm/IJzSufbsmVLxX4n/W1t2rTh2rZte81yVUFbdbbldb1Oh9lhb1iNwKjWrVtXHj50KOXY0aNJSm1vvPFGeZcuXSqPHzuWqlSeyGf8c89d++H778uUzHPzpk2wFuW0Go3NmdwsC43leV0CgeHDhwf27tWLG3DPPYpud915J79OhLu7O6fkNmDAAI7fFPy9WFylf//+13Q6neRhKJQ9F4IAWjLYAdhS/WNoAGOnDU1x7iCEtBDd/LGIVAKho0aNytr4888RSm3r160Ld3Nz4yY8/3yKUnkin+XffpuENUA2btgQqWS+AwYMSJw6dWqenGWM8U1hcq8bGQSGuru7XzUYDFbnHLdskFx1Xh9tBBK1WoeTTtiSb10CgXmffrpx+/btxiS9Pg/lToktPS0tZ9fOnVe/W706Iy01NUeJPJFHclJS3rkzZ7iw0FCjUnkiHw+VKnjXjh1FRpnftYtBAD19uAgCiHcSQuYTQp6pOkajz4JrJFCvbARGDB/OWc75b6vudMV1aiMwffr0TBzLCUl6vR6TyBFChrrmlbs2FQYCct6qhGfoWgMMBP4puACBHdu3G5X+kHfv3Fm5ds2aDLlEL+GVm6NirYHzZ89yGrXaaL6owIG3l1fgDQQC7QkhI0xzBmwyTS9caRoSyK66d9GOxsC1tV3dTY2BQA1+V64AgeTk5CTYiTEQELwophEQCEPEYV3TCDAQEPHSnYhyg4GAteb3FkIIvAliCCGzGQhYE5GkawwEnPheHD3qChBISU5OadKkCQMBobAZCAil4fiYgYBjGdmLgQ+ZaQTsSaj6PRcPDdhr0b6ocifE1Ks32YvE7jmUAAOB6kXYpWeuAIHUlJTUZs2aMRAQvhkGAkJpOD6uIRCAUdY9pg1zvisS2NCA4/ftbIwbVCMALQAmEbqdEELL26umIQIYDbIgXwIMBJz9aOw87yIQSGvRogUDAaGcGQgIpWH/ODUlJe3O3r3LTdbV8quK65+E0Qp1lVTMcIuBgP337Yq7zoJATnb2ZW8vrzivixfHXV9s7F6BMeAoixi9CSEepsWFaHnLJ4RsNxkMMgiwEJiMUwYCrvhwbKThLAhcvXqVO3Xy5CVTfcuMBamcGQhQSdjfFxcXl336ySd0akoUJFcGBgL2xe/03dpoLHjlyhV4OYR4qVTXvFSqlyQWOEsQgFsg7AC8CCEPE0JuJoTAn3ojIeQcIQSTHj0mMQ8lo+8yeTzA68HWplLyH7KRFwMBp79W2wk4CwIJ8fExbm5umEALK3EyEKCiZiBAJWF7j0WJTp86FdagQYPKfn37wvXKx0YlIPcyAwHb4nfJndoIApiO2NPD44qnSqV1gUYAcwhAC3C3oJBiNsHxpvNvCCEpgqECQbQb4hAzIlIthq09pk/+r4MkEIDnTHh4+HVlHDPoaTSa665bu5CZmZmLmQV37dwpan6U+Pjro8FzKCEhgQN8ig3xcXE5jtwH8ft0uutX2zYajVxqaqrYrMzxnAGBrMzMrFGjRgF+0+rMPALnzp3jJk2aZBYQDgIDA7n77ruPu+WWW7hvvvmm2j1bJ1JBYNmyZdz69eurJbdr1y7u9ttv53r06MEdPny42j1rJ1gzes5HH107c/p0obX71q49++yz/O+j95DGvHnzOHwA+M1xcXH0ls29XPdBdUKCpn379hXffvttwNIlS5IYCHC8vCMiImzK2tYNfMhyjAXxviMjI7mjR49yp0+f5gwGg60srF6XCwKlpaWcl5cXX66Dg4M5KStV4h+ROzSQaTQafLy8Mr1VKp2XSnXGBSAAI0D0hGALQIMQBLAyoSUo0Hg3wn6raUpkTItsazt9A/yjkkBg+fLl3PPPP39dmZ08eTK3cOHC665buyAFBFA/Dxo0qFoyv/zyC9e8eXPM1sfXp/7+/tXu2zoRAwL4fW+88Ua1JObPn881a9aMa9WqFffKK69wUNeLDXJBoLysrHLz5s2XGjdufHXjxo3T6wQIJCYmcpjRSViAUEGhIV65ciVfcXXv3p37888/HcpXCgicOnWKn8ryu+++M6er1Wo5TPmIArZ3716udevWHP4/e0EqCHz99dd8D8DX19ec7J49e7jevXtzuLZkyRKuV69eDmlWDgjk5uTkj3/uubQB99yTajAY0lxoLHiAEJJq2jIFvZ0MwfUtNVmxybURyMrK4rZt21YNzMwvxsGBXBAABOCdo7yFhITw+RcWiuZITi4InDhxgjt79izfq/n7778l/2Y5IFBWVnYlKDAw0svTs9zP19foIhBAUVpACLlMCJlimkFQCAIYFsBSxAACFuRLQDQI7Nixg2vcuHG1ehx146JFi/j6ztUggLqyXbt21UAAvXJME0wbf7Qf9957r4Ov+J/bjkBg3759/O8TgoCPjw8PG2lpaRy+X+SFjqTYIBcEggICgho2bHj1t23bfKIjI2EnU7uNBT09PXlBPvDAA9UKEATct29fszw3bdrEPfHEE+ZzWwdiQWDjxo08MWJeayEIrFq1ipsxY4Y5eZCsI22EFBCYPn06DziYv1sIAtAQ4EOi4Y477uBUKhU9tbqXCgIVFRXXtm7dGt60adOKqMhIXn/nQhDAWK0tFSe9DliosSAHBAB5SIyrgAAAIABJREFU27dv5yETGiipQS4I7N+/n0tKSjJnh8bZmkrVHMHiQA4IlJSUcFu3bjUDJiovMXAtzFoOCERFRIR5eXhURkVGRiclJSV7Xrx41gUaAVqO5hBCMHkQNAQAAfSisa4Axt3n0khsL1sCokAA9TPqtPfee69aPf7hhx9yffr04V566SWXagTOnDnDN/holIUagWPHjnFjx441F1kMETRo0IBvpM0XbRzYA4ENGzZw7du353+HEAQA1mvXrjWn+Mknn3Aff/yx+dzRgRwQSElJ0Xfr1i1rzJgxMRge0Gg0WHCrdoMAChAqI1RQQo0AGue3337bLEf0oKAhcBTEgsCnn37KBQUFcW+++WY1EMD/8Ntvv5mzATC8/vrr5nNrB1JAYOLEiVx6ejqHOduFIIDhD7VabU4ewyQofPaCVBDAOtdNmzat3Ld3rx8dO6vvIIB3kJKSwr8LJUEgOTmZE85ECOiDql5skAMCSFuYJ8Y6//rrL7FZ8vGkgkByUlKil6dnUYCfX2xpaemVlOTkZC8Pj3MuBAG0cM1MzdynVUaDP5s0BQNkN33KPLjHZOAFIy9bm6ttd+T8MlEggA4dhregWRPW42go0RijvnWlRgD5QZMGra4QBCwLc1RUFD9MIEZdbw8EDh06hDn9+UZfCALC/MrKyjh0aH/99VfhZbvHUkGgsLCw5MMPPghr2bJliTohIQaJazUaLKxVu0GASskSBD777DN+zJzeh8oH4z6OglgQoOlYgsCwYcM4vHQaACmjR4+mp1b3UkCAJiAEAQyDNGrUiMvO/ndZhg8++IBbunQpjW51LwUE0tPSUvv27Vvw8ssvx+Tm5ubTBF0IAi0JIW1NG1Z/o1qAgYLrNbroixyNAJUDgEBJEKD5Yo/GGdogAKLYIBcEkD4gEBXk77//Xg0+xeQtBQQKCgqK/Hx9AQL5RoOB/3GpKSkpLgSBDoSQQYQQdystXFNCSBsr12+US3XSWNASBGiZcjUI0HQdgcCLL77IQQsrJtgDAfo8ev/WQADDfLfddhuH9kMMdND0pICAwFWw8vy5c/7UvidRq42osyAwa9YsfqycCgxWp2hchD0aek+4dxYEYKgH4y0aYMz14IMP0lOre2dBAMSM34bKnQaA0Jw5c+ip1b0ABOxaFpaUlJTPnzcvzt3d/bIuMbGaia0LQUBYwdY6r4H/CgRQdqDmFJY5qy/b4qIzIJCfn8+dPHmSH8uMjo62SNn+KUBg544dRQaDIcteTFRa4WFhIZ4eHpXxcXF8zwXxU1NT0zxVqvMu0Ag0JoQkC4ATdikXCCE/EULeIYRMM92Dm+GNGH4hhGQ52E7cAP+4KI0ALQs3EgisWLGCb5yFHSz6f1rbOwMC0E4ArDGkKxwqsJaP8BoFgbfeesvhokP4jtzc3EoWLVwYVFRUVErTSdRqMYNm3dQIQI2E8RYaoErF0pSOgrMgMHLkSA5GVDSA9MaMGUNPre6dBQEk2rRpUy4zM9Oc/vvvv899+eWX5nNrBxQEtBqNzdoc/9v5c+dCGjZsWOnp4RGEc2FgIPCPNP4rEIAFP7ROUCtKCc6AAM0nLy+PH5KTYqRIQSAjI8Oum4M6Pj7ey9PzSmhwcCQdhkK+6amp6V4q1QUXgAB6+wDoCaYZLDEvwZeEkP2EkHhTxYj7cCE8ZWUyohugja0V/0KtBIEtW7bwhoRSPIGcAQH6TWEoBIbtYoNYEDC5Cmp69eqVmZ6W9q9xEcdxOq0WLuB1EwQsVTAgLjECdhYEoEqC+wkNP/30E4dxfXvBFSDQqVMnLjY21pzNq6++KtpGQKvRRJkftDjQqNVqd3f3smXffBNYUlx83TqXDAT+Edh/AQIYiti9e7coQyaL1yrbawDug8IAS2ih0aLwnrVjgMCO7duL0tPTM6zdx7WszMzMS97eRl8fH31ebm6BMF5GerrBU6W66AIQQCs6mBCC6YWthXtNoDCVELLSNNugm7WI7JpdCdQ6EIDHFzwHYEcgJcgBAbi9X7x40ZwN6nAxQ9j0AQoC9pYhLi8ru7p540YfLCwUEhx8nY+zLjGRTgxX+ycUsrQRgBU11Cy0B/vDDz9wsOB3FJwFAYzLC/OBtevmzZvtZusKEIAdAgwnEZAe3CkxjmsvUI2ARq2+rnDguZycnLxnn346pX+/fsaM9PRka2nVEAhgzPY106ZY5VubbARgqAe7APTK5QQ5GgFMegLXJvpNYYwR/4NQE+Xof6EgkJaammYtLvybQ4KCouEqqNfprptBxpCRkenl4aFyEQigBYO3ANYZgF3KEIFdADQG77PVB+028mJu1ioQgCuwu7t7Na2utXJq7ZocEIBR+2OPPWZODh3HwYMHm88dHVAQsDc0AFdBLDO8e+dO//Ly8uoqXWgEEhPhLVM3NQIYY+zfvz83c+ZM3p8fLxdjqY6CsyCAChq+qT/++CP3/fff8y6GqEDtBVeAAAwUoRWAmhjui7BVcBQoCKgTEsIs48JVcPu2bYFNmjS5EhEebhUU8EwNgYCYCsblcWoTCGDI6fjx41xoaKh5gzuf2CAHBNDwY26MgIAADnYC6DEdOHDADAZi8jaBQCGM/qzFj4mMDIerYGRERAQFDmE82BZ4qlQeLgIBzBUA1T+GAGB5jz3mDjhLCBnm8gJWPxOsVSCwZs0afm6Y+++/nxNujupwlFE5IACQh5EgNMmwa8OkQufPnxcWebvHjkAgJTk56Y477sgc/+yzCbk5OTnWEgNw1xkQuHDhArd69epqvxNW1M899xzvHuKoV04flAoCcA+EQaAwXLp0iRsxYgT36KOPVlP7COMIj+WAwOzZs/kpMIXpwJ8dholwv7E2jaUwLo4FIBBieS80ODikSZMmlX/s3u0HKLC8T88ZCPwjCRjNWZuqlMrJ1h4fstSZBeHPjwbYcqvpeQTwG1BxHTlyhHeRhcGgFPsAPA8Q2L5tWyHcAC1lkqzXJ3l6eBQHBQREl5SUXDcMhfhGgyHHQ6XydAEIwFgQ8wdA7U+9A9oRQh4nhGwzAcEb9bPtdumvlgQCqLcwB4xlQNmGC7iYIGVmQfDowYMHzcnC5gZtheUGg2xHQQwIwOZAOBSANKFRw1wzn3/+uaS5QPCsPRCAq+DsDz8Mad++fYlWrf533Njih+h1usQ6AwIWv032qVQQkJ2R4EE5ICB4XPYhBQGNWl1tJpzUlJSk3r1757zwwgtwFcy1lwEDAXvScXxPDgg4TtVxDDkaAcepOo5BQSAJTtWCUFhQUOzv56f19vLKy8jIsKnayMrMzPN2DQh0NWkAbNkIvE0IwUqENeqy6tIm98ZMTBIICIqE7EMpICA7EysPigEBK485dckWCEB7d/rUKX+sB3Ph/PnrjLyFmQLAMcsgW3RIIJX6CAIJ8fHmybSLioow4URk+/bti7VarU2KpCJjIEAlIW9fH0Fg29atheiFUIlhGC8sJCTYS6WqjI+NtWvYkp2Vle+lUnm5QCPQgBAClSjcBRtZaUNvNYFCPyv32CXxEmAgQAt6DextgUB8XFxsq1atShctXBhSVFRk16UI2jkYEjIQELygegoC/KIFqJBPnzzpC4r0uHjRLkVSkTEQoJKQt6/HIGA2BEyIj4/2VKngKhgmdBW0JtHs7OzLnh4e3i4AATRlmEwo3TS1sLDB70EIwboWWIdAMWNV8W1rrYrJQMBaQXbRNWsgkJmZmT1u7FhNnz59stLS0qza4gizh71Os2bNGAgIhVIfQSAuNpZflMA04UTp0qVL4SpolyKpzBgIUEnI29dXEIDLEiRmNBgMPt7ehks+PnpHw1CIn5OdXeSpUvm4CATQorY3rSlwh6B5DauaVAiLXT0juMYO5UmAgYC8qkHUU5YgUF5eXvnLli0+WFUwNCTkOiNwa4kyELAilfoIArGxsSczjcbMkSNG6OAqmG7DVdCKuJjXgDWhSLhWX0EgMTExDKsKBgcEhHleuFCeqNXand2SijQ3J6fE8+LFSy4CgVlVS2iPrur9d7Zo4zD1MIYOWHBeAgwEaOGtgb0QBDBrblBgYAgg4LfffvOz5ipo7V9gIGBFKvURBMLDwo78tG6dN8aJ7LkKWhEXAwFrQpFwrb6CgFat9o+KiAjhXQXDwkKtuQpaE2NeXl6Zp4eHq0AAi/KUmmwBcgkhWI51IyFkJiFkhElb4HxTWL9TYCBgrSC76JoQBBI1mrRevXpljRs7Nj4nO9uqq6C1bBkIWJFKfQSBp556aiysRn/fvdvfnqugFXExELAmFAnX6isIBAcG7vf28Cj09/OLdmTMJBRnfl5ehZdK5esijQCaaBgK3kkIeZEQsowQguWwK01wgHkFYEOAeQXWEkKwABYL0iTAQEBYgF18TEFgypQpmXPnzg1t2bJlqTohQZyfpel/YSBg5aXURxCo6gFlPv/887FixmgtRcZsBCwlIu28voIAb/mvUuWnpaVdN5+APQkW5OdfrYIAPxeCgLVmrS8hJIgQ8mqVIeHrVbMPLieEHDWdW4vPrtmWAAMBewXayXsUBDp06ACblsqzZ8740lUFxSZ9o4PA4+3bt68MDAhIjo6K0iu1fTZ/fknPnj2vhoWGpiqVJ/J5c/r0a3v37ClRMk+PCxf80PNxNOGEvQLFQMCedBzfq48g8Pf+/WVwFYyJjpbUc4E0CwoKrnmqVP41DAJo1oYTQjDRShPbbRy7I0IC4S+++GLqxQsXziq1nT937nzr1q25me+9F6VUnshn965d0b169eJUFy9eUCrfCxcunH905MhAzIz50UcfBRZdvux45iOLaulGB4G3BOo5qOjYVkMyuHD+fLDYMVqLMlSnhga+XLr0wrGjRzEBR8mF8+eLFdpKzpw+zf26ZUvlgf37Sw7s31+s0FbicfEid/b06TKFficvzyOHD5d4qFRccGBgiFhjJmGZu3z5Mufp4eEqEIBNwNYqN8GPTWsNCI0Gu5nqHKFboYh2j0WxkEB+ixYtuJvd3RXdGjZsyC8cpHS+TZo0UfR34vfddNNNXNeuXStTk5N1wm9F7PGNDgJD27RpczUyIsJHnZCgUmp7f+bMvG7dulXEREf7KpWnOiHB44UJE679+ssvOQrmqQoPC9uJyi5Rq00QW2gs49UljcBXS5acP3XixLU/9+4tU3K7cPYst2/v3mtLFy8uU3LzVKm4v/78s0LJ33pg//6KY0eOXE1NTU23LEtizgsvX+a8PTwCXaQRAADgGwi2MBoMIIQkmVwI2TwCFi27xFOf1atWpRoNhmylNnV8fEbHjh25Hdu3q5XKE/kEBQbmDHvkEazGma9Uvulpabkff/RRgL3VBx19Vzc8CLi7u181GAzZjn6IK+/XRxsBBgL/VG100aHU1NTi7Kysy0psRoOh8Ozp05V/7t2bYTAYCpXIE3mkpaYWeXl6ctGRkZlK5Yl8PFWq4F07dhShopTz3RYVFnJeHh7BLgIBYZtGjQbHE0Jmm+YWwDTELDgngXplIzB82DBOzLoEcsq+tWeojQADAWvSceIaAwFpwqtLGgEKAkp/yOfOnKn8a+/eDPgBKxWw1gBAQKvR2F8a08X/ENYacAoEioo4b0/PkBoAAeeaO/a0LQkwEHDxNyRMjoGAUBouPGYgIE2YDASkycsyNj5kBgKWUrF9DoDx9vQMYyBgq9294a4zELBdnJ2+w0DAaRFaT4CBgHW52LrKQMCWZMRdZyAgTk40VklxMefr5SUGBO63aBJhCzBKcO3mquWGYRDIQs1KgIEALbw1sGcgUANCRZIMBMQLFosUff7556lV07RihrZaH9jQgPh3Lzems0MDJSUl3CVv7wgRGoFJJv9/Wi6FIAAI8K26fxO9yfY1JgEGAnI/FhHPuQIE9Hq9vmnTpmzRIaG8GQgIpWH/OC42Ns7Nze0aISS+xqoRBRNmIGD/fbvirrMgkJ6Wlurl4WH0uHDhWQdFA409yub3pngUBHAd8wNcdPA8u+0aCTAQcMWHYyMNZ0EAixRt/PlneM3APX+oa165a1MZyrwGbLx9F11Wx8efl+s+mJWZmTVixAhMv1rENALyXwgbGhAvu5KSkvKggIBIT5XqqpdK9byI6gaAesUEAwCBCYQQrWkK4fdFPM+iOC8BBgLii7jkmM6CQIC/f2jjxo0xpTY2BgL0DTCNAJWE7T0ocv1PP4EiK0xzs7OhAdvisnuHgYBd8ZhvYsKriPDwYCxSJMF98BsTCBSatFYAV5TZy4SQ251v41gKIiQgCQRyc3O5nBzb6+WkpzuefiIzMzMX8wjs2rkz3lyA7BzY89YpKxO1GjufenxcXI4j98ErV65wGFK1FqTkRZ93BgRSUlKSevbsmd+jR49LhJDaPzTw559/co899hg3atQobufOnVRGHCqPVatWcYMGDeJefvllDoXMURALAnih3377Lffwww9zTz/9NOfr62tOGu5n7777Lnf//fdz8+fP5xzN/Yz/c85HH107c/p0oTkRGwf4SN577z1uyJAh3OTJk7m0tDRzTK1Wyz333HP8792xY4f5uq0DuRoBfz+/cFDkzh07LjRv3hwq1noPAjqdjouOjrYlapvXnQEB5Hnx4kXOx8eHy8/Pt5mHtRty3QdRiYWEhHDnz5/n4uNF1bPVspc7NKDVaNQeKlWph4fHbi+V6owIGwG0UUOq5gTIM6k9oRnABhVomogGjEVxjQREgQC+A9TRjRs35jA7H+qx0tLSamXH39+fu+OOO6pds3YiFgSys7O5p556is+zTZs23I8//mhOLiAggOvbty8/m23Pnj35b8x808aBPRDA73vzzTf5WQAx0+Ls2bPN7YJer+frbJTNAQMGcDExMTZyuP6yXBAoKioq+WDWrOhbb7210O/SJe9aDwKokNq3b89t376d33B88uRJXmK7d+/mbr/9du6vv/7iCxlgwVEQCwJfffUVd88993CHDh3ili1bxrVq1YrLyMjgk585cyYPJgcOHOD+97//cYsXL7abrRQQGDt2LDdhwgTu2LFj3JQpU7h7773XXKBQiJD377//zrm7u3OnTp2ym68cEEhOSkru2bNnwVvTp0ckarW5vXr1gtFVvQYBTHsLAA0MDLQrb2s35YJAQkICn2d4eDjn5eXFl33LitNafvSaXBDA93bkyBEuMjKS27t3LxcREUGTFLWXAwJ5eXl5ft7eei8vL0Ogv79aAghgkiD0/oXTk0MFusE1bRxLRYQERIHATz/9xHec0FkD1KLztnbtWnOZAnx27dqV69Gjh/marQOxIDBjxgweONC58vb25rA+AfIB7AI4Vq9ezRUWFvL/R7du3Th7mgP8L/ZA4Pvvv+fbguTkZC42NpZvl/bs2cP/hCeffJKbNWsWn9eXX37Jd/Js/TbL63JAAB3TkydOBDds2LDyko9PSEJCAjpztVsj8MYbb/ANMRXQ8uXLuUmTJvGnaDRRWSHgJeJFO+rFiAUBLC7h4eFBs+W1Aps2beLwYtq1a8elpKTw99A4QE2Fxt5WEAsCBoOBa9asGV9gkBa0EmjwURmHhobyhYvm88MPP3Djx4+3lSV/XSoIFBYWlsycOTOhU6dOl/WJieqCgoLKBx54AAte1FsQgKpy165dHKBTSRA4ePAgBw0QDYDfqKgoeupwLwcEABq//vorR1WYqNQA2VKCVBC4cuXKtZDg4EBPD4+rUZGRAQBRL5XqrEiNANqpYxYgAA3BaBENGIviGgmIAoHXX3+d27Jli7kooS59/vnn+fPg4GAOvWhoQF0JAgALpE0DOlZo/AG5lnU2zh1Brz0QGD16NF9H0LzQTk2fPp3vxEGrnJWVxd/CHuskOIIOmo4cEIiPi4tr3bp1+coVK4JLS0uvYFr7Wg8CUOEkJSVRuXDr1q3je8y4gEYTjScNAIN9+/bRU6t7sSBw4sQJDpUpDVBrgWCDgoI4QAINaJihLRCq8Ok9uhcLAgUFBdyZM2foY/y+S5cuHFRmUGtNnTrVfI+CgfmClQMpIMBT5PHjQaBI30uXQvA/FxcVcU8++WR4fQYBwCDgEkNDSoIAehVCDYCnpydf9qy8ZquX5IAAykBeXp45PcAuhuWkBKkgEBcbG+6hUl0NDgryLCsru5qRkWHwUqkuSgCByRZagWJCSDPXtHEsFRESEAUClmVo0aJFHDp5CPiuzp07x/fWXQkC6O2jM0UDhgmgmUAQlnN8Z25ubhy0cPaCPRBAGsLv9ZNPPuG1t5bpQYvbuXNny8s2z6WCQE5OTtbYMWNSHnjggTSjwcAbXGCtm1oPAkIJQaXzwAMP8C8TLxk9AeGLnjhxIrd+/XrhI9cdiwUB4YNGo5Ff6QqNL3pmgwcPFt7mKRb3bAWxIGD5PKCgQ4cOfAHDhzN37lxzFFTSKLz2ghQQSIiPj2nZsmX5D2vXhpSVlvJfT2lJCffaq69G1WcQwLtDUBoEhO8V5R4aCfTQxQY5IEDTBhBgXBNQjd6TlCAFBOAq6OPhke3j7R0LLxXkk52Vle+tUnlJAAG4C8KzhQ4PeIpovFgU10lAMgig83bzzTdzp0+frla0oLZ3JQgIE8cQW/Pmzat1Kun9NWvW8GP39NzW3h4ICJ9BewFNLuCGBtQj0GSj03j06FF62eGegsAbU6dmOtIiwMh706ZNwc2aNbsSFRlpNmjSJCR41SkQ+OKLL7h+/fpxmHQEDSGWZxSGd955h8PYvr0gFQTwIqD2gdoKAeM+MFoUhv79+/PGVcJrwmM5IICP5bbbbuM2b97MJ4UxJqEtAogWlR9V4wrzo8cCELBr9YVK+LFHH01/+OGHk40oxaZQVlrKTZk8OaY+gwCVxX8JArAROHz4sN3hJ/p/0r0zIICyhSEBGKQmJibSJEXtxYIAXAUD/P0jPS9eLNFqNGZDhJzs7EJPlcpHAgigSUswgUAZIYS5DbqukReTkiQQQN09fPjwatpNWrBqCgQyMzO5O++8kzf+pnnRPTRtLVu25Pz8/Oglm3sxIID6+NFHHzW3FzQxaAsAHDA8R0cS7YqYQEFg0sSJxnIHHg5BAQFhTZo0wQJnwcIOskatxtBu7bYRoML6+eefecqKi4vjL8HgpEGDBtVcNdBYw2jDXpACAugZQcsALQQ0EAgw4nvooYeqZQHDEwxh2ApSQQAV8cCBA7m33nrLnOTnn3/OQd1EA4YiLEGI3qN7AQjY1HmBItevXx/cvHnzirjY2GrdPxS8N6dPj2Mg8N9pBFA5QhtAyx99t472zoAATRvGsVu3buXBm15ztBcDAvgeIsLDQ+AqGB4W5ofvjIacnJwSz4sXL0kEgeUmP2kMC/QU03qxOC6TgGgQQOOEhnDEiBHV1Oj03dcECGC4Fd5d6I2j3AkD8mvbti0PvMLrto4dgQA0d7B7gE0AgMdaQBxACQzNxQQKAq+8/LIBHTNbITU1NalXr145r7z8ckxebm6BMJ5GrYbBd+0HARgEQqUidOHDS4UbClxEaMAYECpNe0EKCHz44Ydc7969OUEnmSfHPn36VMsCxoNw9bIVpIAACtAjjzzCPfPMM9WGPUCTcE+hAYZjsB+wFwQgYFMjQF0Fjx45EoJCKgxQRb37zjvobdVbY0Eqj/9CIwA3I3jL2PO7pv+f5V4uCFhWlrARkDIkIQYEsCy2p0pVGujnF1xUWFitdsvLyyvzunjRVyIIwI0QFV22y5o3lpBYCYgGgWnTpvFeUMLxeWG5dTUIoP6C9nbcuHHX9cA1Gg1vMLhy5Urhv2D32BEIvP322xy0w8LvFd+hpd0aYEHoMWEvUwoCEyZMyBDaIAifgavg7Nmzo9zd3Yt1Ot11nT6tWu1f60EAlSEgwHI8CYLAMAEdb0GvAuMyarVaKKPrjsWCANzFYNRh2cADPAAg1AoUvuW33nqr2cXvugw5jidRsfMIYHgDqjNLooQmAn6vNMAC94UXXqCnVveOQCBZr+cnnHhnxozogoKCIstEUAhnf/CBmoGA8hoB9Ma3bdtWzRjW8v3YO5cDAlChUpcnpA0owHcgNMi1lyfuOQIBuAr6+vjovDw9M9PT0v61AjYlnJ+ff6UKAvwkggDcCDGHwGGxrReL5zIJiAIBACU6LvbKkqtBAEOp0ObiWxAGtBXQ6s6ZM0d42eGxPRDAd4PfZ2k0jnoc7QWMfxEAJ927d+eOHz/uMD9EoCDw9NNPZ1i2CbiPztupkycDGjRoUOmhUvFG3pYJazWagFoPAnCRgz//ihUrzNsff/zB/1b0kuFnD6vTefPm8S/dUgiW52JAACosQAB65cJ8MZ6EAKKDOwwK7hNPPMFPHmGZj/BcrEYAwx4Y7oA9gDBfuJGBBuHriusYz8JwhCVpCvPEsT0QKCwsLJ753ntx3bp1u5yclGR1IBhy+HjOHEzZyjQCCnsN7N+/n4dfvHu6CbVflu/a8lwOCOB9Q6MGuMUxPGRQwVlqiizzEp7bAwGkybsKqlRXo21YIRYUFFzzVKn8JYIAWjX4Sr/qsuaNJSRWAqJAAA3yLbfcwqvpoarHBj9/YXAlCKD8owOJztPjjz9u3uAee/bsWd6+atiwYebriBMWFib8d647tgcC0ASggRfmRW26oFlGOwWXSWgnYCMg9puiIDBmzJh0S6DBP5gQHx/t5uZW+u2yZUElJSVWDQ+0Gk1QrQcBqHZowaF7WoDQwAIAYIE6dOhQjtoPXPcGBRfEgAC0ADQv4X7Dhg18Shh3wsxY0EC89NJLHCacsRfEggB8x4X50WPMLIcAqsQERp06deIWLlx43ZiX5f8gAIF/DCtMEVAIjx096t+oUaNKDA1YPkfPQc7z583DAi71HgTgY6zUzIL44OkEWsK9PTsU+s7oXg4I4Fn02ADaMFKFwaBQzUnTtre3BwLUVTAkODigoqKi+oCtKVF8S14XLwbKAIEXCHMbFNt4uzKeKBCA7Zawc4Nj2qGj5Qllb+PGjfTU5l7MhEJptdrZAAAbB0lEQVTQbmHWV8sNXl+YXMjyOs6F83ZYy9wWCKB+/+yzz65Lk87+ivoW875Ag7tkyRJJ9j4UBEaOHJmKGW2FIdNoNIwYNkx/T//+RoPB8O8UtMJIHMclajQhtR4ELH6T06diQMDpTCwSEAsCFo85fWoLBGJjYkCR5et+/DGsvLy8umGAIFeAwKKFC/UMBARCkXiID/ncmTOVf+3dm+HI/Udi0najywUBmih673KCLRDISEtL8/H0zPb18dHk5ebanC+5qLCQ8/H0DJYBAg1c2bqxtERLQBQIyClLtp4RAwK2nnXmui0QcCZNR89SEBg6dGiq0GC4rKzsyroff/Rs2rTplUgHMyElarWhDAQsJF0fQUCr1ZqnpMs0GrNGDB+eOmLEiNRMozHTQjzVTgEwS5csSWIgUE0skk5qKwhI+pGCyNZAgHcV9POLgIGgTqf7Z7BU8IzwEL0eH0/PEBkgILrlYhFdKgEGAsIC7OJjCgIPPvBACtU8o14O8PPzx+Rve/74I9ARtCdqtZgUrvZ7DbhStvURBNRqNT/4BYr8/vvv/d3c3CpioqNFrXzx9VdfJTMQkF8C6zsIoNKiroJYXRDn9gI0Gb5eXmEMBFzaWNdkYgwE7BVoJ+9RELjnnnuSMeU7koNnQMeOHbNfeemlWHvaNZp1olYbyUCASsO0r48goNVo+NVy/Hx9+SmErbkKWojJfMpAwCwKWQf1HQS0Wq3a08Oj2N/PL6y4uNjhmq8lAAFv73AGAjXZdrs0bQYCsmoGcQ9RELj99tv1mGwrLy8vf9KkScHt27cv1mq1drVrNAedVovZYZlGgAoE+/oIAmq12kev02m7dOmS/+b06TEF+fnVrU6EArI4ZiBgIRCJp/UZBFBp+fv4aL08PXPT09JEzY/MQMCljbQSiTEQkFgnSIlOQaBdu3balOTkrEMH/9/elUBHUXTrJhKWoCgCCi5BXA4KLoCoiIpbRAT1if6A4sYSRXD5ceHpcf0RFeSpTwEP+k6AAG6oiCBbIGSWrJCNEAjZ18kespAEEkNS73xtaugMM73M0slMbp3Tp3t6qdvz1e2qr27dW7V1nxgqaDAkKFnXuJy83FzMDktEgAOCfXckAokJCf/39KxZh4cMGVJfWFBw1oQTUnxsj4kI2CKi7Xd3JQLFFsvx5OTkOLPR2Jp+7Jh1CmEl9IgI6NF2u1UGEQElpXbhOicCfn5+mbHR0ZH+/v6nPvrww4NqrGtcbF5uLmaHJSLAAcG+OxIBQRDmSFcVlOKhdExEQAkh+evdlQjEHzhQYDYaWxITEhIdhQraQ46IgFsbaT0yIyJgT5HddI4Tgfb1NFJHjRpVpta6xl8hLzc3g4gAR6N9302JQPOK5csTsDa1DRyKP4kIKEIke0N3JAIbN2xoMJlMZbGRkdnHq6qqZQGyuUhEQI+2260yiAjY6LA7f0qIQJW/v//p5KQkh/O+OJKbn5uL2WG7rEXgvzBH/+5duxr3h4c36LUt+ve/W4cPH962PzxcV7nPP/ccC12//rRe/xNy1oaEHMeqbLfccouFr03tSFkcnSci4AgZdee7IxHYtWNHi9lgaMrJyekwkZUaxIgIuLWR1iOznMmTJ59atXJluV7byq+/LseKgTNnzKjXSybkfL58+Ynhw4ez1atWVegld/WqVeXjbr65DvX4jz/8ENvc3CwfdmPnI8vPz8fssF2WCDzVp08f9uILL7QtXLBAt23smDGsf//+WExHN5n4f9eOGCHOQqjnf3146tQ2KFBKcrJmFsn1yZeIwGdLlyYY9u9n0VFRbTGRkfpsUVFtUSYTMxoMLEZHufiPZpOJRZnN+vzPdjwNERGYIpilHj4cjwmptCYiAnq03W6VUdq/f/+2yy+/vFXP7ZxzzmEDBgzQW24b2iw9/ydkBQQEtN12661/a7Wu8W8vPz8fs8N2WSIwYdCgQadLS0qqUGHotfGhgerq6ha9ZGKKSSw6FLZnT4NeMiEnMzMT868zrPbGlULr3peIwAfvvffHH1u2/B0XG1sfFxt7Qqet3mQ0tu3Ytk13uSACZpPppE7/U8Rzx19/1W3evLm5rLS0Uquu4X4iAm5tpPXIDEMDlqqqqnq9tuysrMqLL76Ybdq4MUsvmZBzKCmpeuJdd7Fii6VRL7nlZWUNb7z+evzcuXMrYF10JuXn52N22K5NBMrKys6sI+zMv9T4DCcCWOVM46NO344wD7WrDzotxM6DkimGiQgIgvDfixev2RAaWm47Z7cd6Nx2qjsODWzasKGh3MnvmoiAHm23W2V0Kx+BuydOZHrXH4vfesslIoBVZv38/IgISGt1IgJSNJSPfckiQERAubxdvcPeFMNa8iQi4NZGWo/MiAhoUXCN93JnQVcsAkWFhYU9e/YkIiDFnoiAFA3lYyICyhjJ3UEWATl0zr5GRECPttutMogInK3GbjvjFiJQVFTUq1cvIgLSUiEiIEVD+ZiIgDJGcncQEZBD5+xrRATc2kjrkRkRgbPV2G1n3EEELEVFlj59+hARkJYKEQEpGvLHmL1q7uzZ8DjdqkeN4mkZNDQgX97uuEpDA57W4i6XPxEBd3w4DvJwBxHIyc5O9/f3rxcEYXSX0x5BEMSoAXIWdKABbjjtirMgog6MBkM85rUWBOGRrqhAWt+JiIAblEohC1eJACY/MRuNpTEm0xit5Uv3dwoCRAQUvglXLrtKBGpra+vnzplzTBAEzCnTJRMRAVc0RMWzrhCBnOzszIEDBzYIgrClS2qPEy9FRECF0rh4iytEAIsUxUVHW8xGI6xQlLwDASICLn4zco+7QgQQtv7n1q0xgiCgMze+q6oTEQE5DXDDNWeJQE1NTc30J57A/NSVgiD4dVUF0vpeRATcoFQKWThLBFpaWlhSYmIK1ieIiYm5VGvZ0v2dhoAmIgBLo1yqr6+Xuyxeq6ioqG6fRyBD8WbGxDlqHN2n9D7S5zLS048rhQ/K5Sd3TSpHeuwKETh65MiRgICAvwVB+N9O0w4VglUTgV27drGnnnqKvfbaa6y0tFSKE1u7di2bNm0a++CDDxgqE6Wk1kcAhfbtt9+KswF++umnrKnpzFLqOIY8yA0NDVUSybTMI3DixAn23nvvsRkzZrCNGzd2yLu4uJgtWLBAfKfIyMgO1+z9cIYItLS0tP3800/R7SzyRhXl6DW3uEIESkpKWHZ2tj2YZc/hQw7fu7f1t19+KW1ubpa91/ZieXk5O3jwIDt06BA7efKk7WXZ342NjSzSbGY52dnlsjfaXISuZmZmsgMHDjCLxWJzVfmns0Qg/dixVKxUGBkR8ZrXKBS9KBBQRQTQO33hhRdY79692SWXXML+/PPPs5QpISGB3XzzzWedtz2hlgjg+7n//vsZZiEcPXo0S01NtWYVFRXFRo0aZfea9SabAzkigDZh1qxZrFevXuyKK65ge/futT6dlZWFad5FWXfddRcrLFS1Irf4vLNEoKK8vOyOCROKBUHAsECXTqqIgMFgwFSS7KuvvmLBwcHs2muvtTbKP/zwA7vsssvEa7fddht76aWXrOA7OlBLBND4X3fddey7775j99xzD3v22WetWULO7bffLsq99NJL2aZNm6zX7B1oIQJTpkxhDz30EFuzZg278sorRfnIE3ncdNNNorItWbKEnX/++ezIkSP2xFnPOUMEUlNSknv37t0iCMLSLq09Trycs0Tg1KlT7Oeff2bx8fFWbNUeOEsECgoK2Pr161l0dDTbvXs3+/HHHxnyUpucJQKQ9+uvv7K4uDhRr1GJaUnOEIHS0tKyKLO5xmQwGJ0oVnqkcxFQRQRWrVrFxowZw6DX0GfUX2VlZVbVwnnUd7hHKaklAk8//TTDVllZyZYtW8ZuuOEGMWuQapARdPRAFt599112/fXXi3WsnGw5IvDJJ5+wO+64g6Gz9vvvv7OBAwcydOqQ0PgvXrxYfI9XX32VTZ06VU5Mh2vOEIGmpqbWlV9/HS8IAqwBQztXPZSlqyICM2fOZCtWrBDBQWN49dVXM5PJJP5GA71lyxbxGJYCsM2ampoOQNr+UEsEQDBQKSKhN9izZ0+RgKBRgBJzy8TWrVvFBtpWjvS3WiKQn5/PzjvvPOvMVb/99ptIOJAXKuYRI0ZYzVxvvvkmW7hwoVTMWcdaiUBpcXHx6NGjSwRBSFEuPu+7wxkiUF1dLTaMaJT1JALbtm1jGRlnLJ/bt29nx44dO6uMHZ1whgjAYhESEmLVv9zcXOv35UiO7XmtRAArYibEx2eYjcaGhISEAO/Tqm7/xqqIwKJFixjqM57Gjh3LYOlFSkxMZDD1P/DAA24lAhMnTmQ5OTmiDPTYe/TowfA9wxqAdoQnWCuwhkBRURE/ZXcvRwTmzZvH9uzZY33uqquuEtsPfIfowGGPBGsb1rpRm5whAgfj4hKx7LwgCHO9QTtVEQGwRhQeEhpUABweHs7QIKNx5qwL18EmIyIiZDFWSwTQE+JDDWB5MC+hMI1Go2hm4kIw3aSfn5/VSsHPS/dqiQDkSXtg6JmNGzdOzAqMU9rww/TEr0llSY+1EIGTJ082L/nPfxIFQWgSBOFCb1Agre/oDBHYv3+/WFHFxMToSgRQOfLKA2WKoSAtRATPah0agP5JhwOg97CEaElaiAC+i8MpKSmRJlOr0Wh8QGt50v1dAgFVRECqQ7W1taKVNyXln7XQQAhQ1+Fbc6dFQCoTQ13owKFhRcMPKwFPdXV1Yv0O64BckiMC0ufQZgUEBLC8vDzpafEY/xOWZrVJKxEoLCjIDbz88lpBEHZ1Ce1Q8RKqiAAHLCkpSTT9Y6wHPRdUWP369eOXxf3kyZMVKy61RIBnHBYWxu677z724osviqc2b97MJk2axC+Le/Ti5cZ91BIBninIBeSA9HAfBJiUMCTAEz6iwMBA/tPuXkIEznQt7dyJ94s0mXio4HQVZeeVtzhDBDgZjI2N1dQQc5jxITvrI8DzQPn88ssvDD10tckZIsDzhn8MKkqM42ohH3heJAIbN2KtgTM1Lc/YZp+fl5dtNpmazAbDGq9UKHppIKCJCHzzzTdibxz1mW3yFBF45ZVX2IUXXsgwlGwvoV6FWV8pqSECGIIYNmwYe//99ztkh+GI5557jl1wwQUi4elwUeYHJwKzn3++QsnHqL6+/uSC+fPh5A0i0Mtb1FMTEZgzZ47oDzB9+nSxpwTHjyFDhnSAENdWr17d4ZztDy1EABUiet3wUYDPABJ8Bp544okO2cJPAETFUdJKBNAbhNMMzGUwESM988wzok8ClwG2CdYplzgRyMnKkrUpY3XCwYMHY8IJn5g4yNEH4AwR4Ph2JhGAExXMqlq8jl0hAsePHxcJ6Lp168RhMY6Bmj2IwIbQ0Iay0tIKuftra2rqY2NiECpY5Ki86LxXIKCJCGCIDT5WGKOXWj+hK54gAqh7P/vsM/bII4+IdSosydK0b98+du655zJunZBesz1WQwTQPsydO1fspEmtaxiyxntguAJ+YHgvNYkTgadnzSpvljis2z6LumHHX38ldPVQQXsarYkI4I9jnOfOO+8UAcXYD9iVND366KMMlZdc0kIEeD4wkcL5A74J8OS3dfbANel4Ln+O77USAf4chkBgbYASwSIBReIJ48WDBg3iP+3urUQgO9uhV2FNdXXNzBkz0gVBqPKlUEF7CueNRAB6BasQHx6zW9B2TrpCBHh2sECg4sZ3pzZxIlBaUtIxvEeSAawsPFTQZDINt1dWdM5rENBEBLgaoD5DBJQ0eYII8PxRB2OsfsOGDfwUA7nHeD3M9WqSGiLA84Fv2zvvvMN/WvcgIujAwgleTeJEYPq//lVmS2Kkz2ekp6f169evWRCEr71Gc9pfVBURQAFiTIcneJ+C3WGcCeP20l4S2BbvQfP7bfdqiQA3CfPnn3zySbZ8+XK2c+dOkYzw83g/+CqgF+UoaSECtnLhtIjxYXi2ShULSqw01iQhAmfiZiQvaRMq2CWnn3SnUnsbEYDVx5leOYrYHUQA+cBHQMmJSqJS4tAALAIlFkuJ9Lz0WAwVNJlaowyGRe4sX8qrUxBQRQTQqamoOGMkQlQUhnKlyZ1EAGb0P/74o0PPG6Z5PryKjhQ6cEoWZOn7yREB+DmgTeIJQwQgA/A/QJshTXByB8FWkzgReHzatNJTDkKIKyoqqh4ICoKTN4YFvC6pIgIIC4THNE8fffSRGMqHxhU9Yj6GCcDgDCI3Vo881BABTGrRt29fVlVVxcWyoKAgcVggPT1d7KXz8RoMCWBMSC6pJQJwdERsK0/4T7AIIEwQ3tyIieVp5cqVYigh/21vz4lAdmbmP145NjelHDqU3KtXL4QKfuJ12uPEC3sTEQCxBAmw53BkU4x2fzpDBOAXYEukEbaIqBm1CRaB0PXrG7DQib1nSoqLLVFmc3Wk0Wh2ogjpka6HgCoicO+994rhelwnYD639RNwJxFA5xEmfwyzIqHDiBDBn376SXQYhHXAdhyfv5ujvRwRQBSE1AcBw8fIHw6I6CjyKDN8lxdddJEYueBIjvQ8JwJTp0wpwYJctqm5qal19erVcPL2ilBBe+qrigig4R8/frwIKELoBg8ebGVYL7/8MsNwACqwpUuXMpAGpaSGCCAPNLrz588XoxJQwGiQ+ZgPPFvBLEEUMKnQG2+8IStWLRFABASUBI0+mCTyhcJCqaFQIDogRYi5veaaa0TGKyeYE4GszMxk2/uKLRbLyJEjMeFEqr3C8cVz3kQE0CCjYoRu8w1OpGqTM0QAlQ6GITj5QK8Jc2TYWqnk3kEkAuvW1RcVFp4Vi4XIlPi4uGMUKuhTX5cqIgDHU/TAEbuPmHqY5HloH9cndxIB5Pn222+LjT8INfzH+Bw0iPNHKCHqbpznG9d7/j62ezkigCGHoUOHsu+//14kOHBO5I0/JsPDXAL4ttChhEUAbYKaxIlAUFBQcaOd7/9AbGySN4UK2tN8VUQA4yJwlPP39xd9AjCxEE+o7DBeLwiCOBnF4cOH+SWHe7VEADH98CSFwmCmKEQP8ISxU8T0Qy4KVWn8Vi0RQP4ITxw+fLgoF5MWIe6UJ7wDHBcxJIJQQiVlkhCBf2hxe0YNDQ0n33n77dj2UMFB9grHF8+5QgQww5+cQygvI9s9PmStUQPwMEaFYrshhFFtcoYIIG/oPcyWqNjgDwP/GC2JE4HCwsIC6XPokaUkJydRqKDPfVmqiAB0AWTg8ccfF53p0tLSpOohHmPmTkQVKCW1EwqhA4X8MJSMThW38MJBECTBdlPSdTkigHfGMNpjjz0m+nNJSQ7asI8//pg9/PDD7MMPP+wQFqz0XzkRuPvuuy0NNtMvFxUU5AcGBiJCIMybtUoVEeBAwWHJUcOHSk9tUksEeH5yDhpq5WohAkpyodxy78Sfx95KBDIyrFPioUI2REREtnuXzvRmBdL67q4QASmuWo6dIQJa8nd0r7NEAPnBAgAHVan/jSM5tudBBNatXVtfAEYhSVjEyhQR0RRpMn2vtdzo/i6NgGoiIFEHlw7VEgGXhNh5WIkI2HnE5VOcCIwfP95S3z5TITKtr6trfGn+fEwf7FWhgvY0WRMRcBnR9gy0EgF3yHWGCLhDLicCmRkZB3h+8C7t378/QgW32SsUXz5HRIBrgef2nAjk5+VZJz04XlVVFR0dnR9pNFp8Wb+66X8jIuC5z0n0Z1j81lvxY8eOLTxRVydKQmdw+7ZtsOhi9sAJ3q53RAQ8qEDImhOBjPR0ca7kivLy8vvvu+9we6hgT29XIK3vT0TAwwrXPqEQLAKYLAjSmpubW5MSEmLNBsPp6Ojoq7SWGd3f5REgIuDBz4pbBEaOHFlQW1srLjaSdvTokb59+yJUcGWX1w4VL0hEwIMKhKw5EUhLS9vX1NTUEhISgrEksMgxKsrH524hIuBhhZMQgby8vKOQdjQ1NdFsNJ42m82v+5xC0R8CAkQEPPhZcSIwLDAwr6qysg6rCt45YQIm4cr0FfUjIuBBBULWnAikpqb+lRgfH+Pn54dQwa98RYG0/g8iAh5WOAkRyMnJiS8sKMiLMpsrTQZDlNayovu9BgEiAh78rDgRGDBgQE5ebm7Fl19+eaA9VPBSr9EQhRclIuBBBZISgaioqOChQ4cWCoJwVKFMfPoyEQEPK5yECBw+dOggQpvMJlMjrSro058VEQEPflacCPTo0SNz7549hvZQwWBf0igiAh5UICkRaB9LwoQTF/uSAmn9L0QEPKxwEiIQaTLNRahgdHT0JK3lRPd7FQJEBDz4WXEi0D4UUC0Iwj6v0g4VLysSgcKCghpMlKDXtmzZsvoRI0b8XV5WdlovmZgI5vVFi9r2hoU16iUTctLT0hAmiPkO4BfwvIoy8elbiAh4sMZqzxpRAxtCQ+vNBsOpSIMhxKcViv4cECAi4MHPSkIEGgVBqPOmVQXVfh4T/P392yZNmpT14IMP6rYNCwz8OyAgoE1PmZCFhSZuGTfupJ5yb7v11rR2IrBTbaH48n0gAutCQsoy0tMzcnNyDuuxZWdlHQ3bvfv0j5s2FeNYD5mQkZmRkR5pNLKEgwfz9JIJOfv27o3aFxbWajYaMWslJd9HIDooKKjxf1asqNBrW/H555VYgn7aY4/V6SUTcj5esqQOS79/8cUXlXrKvfGGGxra63GvDxW09znA2QENlN5bcvviDHrLzREEIa4T/m+EL7JIewqldA5EYP++fWzH9u2tem7GiAgWHhamu1yzwcB27djRpud/3b1zZ9v+8PA2WlVQSRt95vrLnVCnoe6GzxPWq9CzHg8XBAGL++gpk8v6wmc0hv4IIdCZCMyePfuCefPmXa/3Nn/+/PuDg4PH6y134cKFjwQHB9+ot9zg4GBaWrgzFZ1kEwKEACFACBAChAAhQAgQAoQAIUAIEAKEACFACBAChAAhQAgQAoQAIUAIEAKEACFACBAChAAhQAgQAoQAIUAIEAKEACFACBAChAAhQAgQAoQAIUAIEAKEACFACBAChAAhQAgQAoQAIUAIEAKEACFACBAChAAhQAgQAoQAIUAIEAKEACFACBAChAAhQAgQAoQAIUAIEAKEACFACBAChAAhQAgQAoQAIUAIEAKEACFACBAChAAhQAgQAoQAIUAIEAKEACFACBAChAAhQAgQAoQAIUAIEAKEACFACBAChAAhQAgQAoQAIUAIEAKEACFACBAChAAhQAgQAoQAIUAIdAME/h+E52MObRNFSAAAAABJRU5ErkJggg==)"
   ]
  },
  {
   "cell_type": "code",
   "execution_count": null,
   "metadata": {
    "id": "mVB53fCL7idk"
   },
   "outputs": [],
   "source": [
    "d = np.random.rand(5)\n",
    "\n",
    "r + d"
   ]
  },
  {
   "cell_type": "markdown",
   "metadata": {
    "id": "q0dmQpmw7nG7"
   },
   "source": [
    "Matrix product, dimensions should match:"
   ]
  },
  {
   "cell_type": "code",
   "execution_count": null,
   "metadata": {
    "id": "5H9HVhDl7pot"
   },
   "outputs": [],
   "source": [
    "t = np.random.rand(5,4)\n",
    "\n",
    "#2 ways, work the same\n",
    "r @ t, r.dot(t)"
   ]
  },
  {
   "cell_type": "code",
   "execution_count": null,
   "metadata": {
    "id": "PrR9arGB7zjD"
   },
   "outputs": [],
   "source": [
    "#error, dims do not match\n",
    "t.dot(r)"
   ]
  },
  {
   "cell_type": "markdown",
   "metadata": {
    "id": "LLPC3EPI783b"
   },
   "source": [
    "### More useful things"
   ]
  },
  {
   "cell_type": "code",
   "execution_count": null,
   "metadata": {
    "id": "DzkOZGin7_VW"
   },
   "outputs": [],
   "source": [
    "#transposing\n",
    "r.T"
   ]
  },
  {
   "cell_type": "markdown",
   "metadata": {
    "id": "5IcYnR788GE1"
   },
   "source": [
    "Numbers generator, similar to `range`"
   ]
  },
  {
   "cell_type": "code",
   "execution_count": null,
   "metadata": {
    "id": "vTj0avgR8Eia"
   },
   "outputs": [],
   "source": [
    "np.arange(0, 1, 0.2)"
   ]
  },
  {
   "cell_type": "markdown",
   "metadata": {
    "id": "Rvb1P2aW8OIG"
   },
   "source": [
    "But range cannot have `float` step"
   ]
  },
  {
   "cell_type": "code",
   "execution_count": null,
   "metadata": {
    "id": "kUINGcu78MWZ"
   },
   "outputs": [],
   "source": [
    "#error\n",
    "range(0, 2, 0.02)"
   ]
  },
  {
   "cell_type": "markdown",
   "metadata": {
    "id": "jRFF9Xcx8Td7"
   },
   "source": [
    "and returns generator, not array"
   ]
  },
  {
   "cell_type": "code",
   "execution_count": null,
   "metadata": {
    "id": "4C0juAzo8V4O"
   },
   "outputs": [],
   "source": [
    "range(0, 20, 1)"
   ]
  },
  {
   "cell_type": "markdown",
   "metadata": {
    "id": "opvDBO5J8xIi"
   },
   "source": [
    "### Tasks"
   ]
  },
  {
   "cell_type": "markdown",
   "metadata": {
    "id": "10M7KgWK8ycC"
   },
   "source": [
    "1. Find minimal odd number in the array"
   ]
  },
  {
   "cell_type": "code",
   "execution_count": null,
   "metadata": {
    "id": "lzApE8IB82mB"
   },
   "outputs": [],
   "source": [
    "vec = np.array([1,4,5,2,4,-1,24,2,17])\n",
    "\n",
    "#YOUR CODE"
   ]
  },
  {
   "cell_type": "markdown",
   "metadata": {
    "id": "Twlnz53w83D0"
   },
   "source": [
    "2. Replace all odd numbers with 42"
   ]
  },
  {
   "cell_type": "code",
   "execution_count": null,
   "metadata": {
    "id": "ImYAUNyV87zx"
   },
   "outputs": [],
   "source": [
    "vec = np.array([1,4,5,2,4,-1,24,2,17])\n",
    "\n",
    "#YOUR CODE"
   ]
  },
  {
   "cell_type": "markdown",
   "metadata": {
    "id": "JEp6Gi5Q88xx"
   },
   "source": [
    "3. Create array of first `n` even numbers in descending order (like [10, 8, 6, 4, 2])"
   ]
  },
  {
   "cell_type": "code",
   "execution_count": null,
   "metadata": {
    "id": "HMHShkbV9HfA"
   },
   "outputs": [],
   "source": [
    "n = 5\n",
    "\n",
    "#YOUR CODE"
   ]
  },
  {
   "cell_type": "markdown",
   "metadata": {
    "id": "08KFS_I79J7X"
   },
   "source": [
    "### Conclusion"
   ]
  },
  {
   "cell_type": "markdown",
   "metadata": {
    "id": "H6_iJxgB9OQv"
   },
   "source": [
    "Numpy is a  library for fast and convenient work with arrays. If we can use numpy and avoid `for`-loops - we should do it."
   ]
  },
  {
   "cell_type": "markdown",
   "metadata": {
    "id": "fnptVkc29U1p"
   },
   "source": [
    "## Matplotlib"
   ]
  },
  {
   "cell_type": "markdown",
   "metadata": {
    "id": "3OnU46z49bIR"
   },
   "source": [
    "Matplotlib is a basic library for visualization.\n",
    "\n",
    "documentation for matplotlib.pyplot - https://matplotlib.org/3.5.3/api/_as_gen/matplotlib.pyplot.html"
   ]
  },
  {
   "cell_type": "code",
   "execution_count": null,
   "metadata": {
    "id": "Hauxsd558dIO"
   },
   "outputs": [],
   "source": [
    "import matplotlib.pyplot as plt"
   ]
  },
  {
   "cell_type": "markdown",
   "metadata": {
    "id": "DBq7m2sG8gdT"
   },
   "source": [
    "We can draw a basic plot"
   ]
  },
  {
   "cell_type": "code",
   "execution_count": null,
   "metadata": {
    "id": "-rZw-3yg8js1"
   },
   "outputs": [],
   "source": [
    "x = np.arange(0, 10, 1)\n",
    "y = x ** 4 + 5 * x ** 3\n",
    "\n",
    "plt.plot(x, y)"
   ]
  },
  {
   "cell_type": "markdown",
   "metadata": {
    "id": "vhLPPR8E_2sg"
   },
   "source": [
    "### Customization"
   ]
  },
  {
   "cell_type": "markdown",
   "metadata": {
    "id": "Ukgecfpa8mEn"
   },
   "source": [
    "We can also add/change:\n",
    "\n",
    "\n",
    "\n",
    "*   Color of the line\n",
    "*   Markers\n",
    "*   Several lines on one plot\n",
    "*   Labels\n",
    "*   Title\n",
    "*   Axis labels\n",
    "*   etc.\n",
    "\n"
   ]
  },
  {
   "cell_type": "code",
   "execution_count": null,
   "metadata": {
    "id": "k3n1YQ5f83I2"
   },
   "outputs": [],
   "source": [
    "plt.title('Some figure')\n",
    "plt.plot(x, y,\n",
    "         color='red', #color of the line\n",
    "         linestyle='--', #style of the line (dashed)\n",
    "         label=r'$x^4 + 5x^3$', #label of the line\n",
    "         marker='*', #marker style (stars)\n",
    "         mec='black', #edge color of the marker\n",
    "         mfc='yellow', #inner color of the marker\n",
    "         ms=20 #size of the marker\n",
    "         )\n",
    "plt.plot(x, x ** 4 + 5 * x, color='green', label=r'$x^4 + 5x$', marker='s', mec='blue', mfc='pink',  linestyle=':', ms=10)\n",
    "plt.xlabel('The x')\n",
    "plt.ylabel('The y')\n",
    "plt.grid()\n",
    "plt.legend()\n",
    "\n",
    "plt.show()"
   ]
  },
  {
   "cell_type": "markdown",
   "metadata": {
    "id": "ETpm8cwh_7oX"
   },
   "source": [
    "### Types of plots"
   ]
  },
  {
   "cell_type": "markdown",
   "metadata": {
    "id": "pVy_J0If9Xbk"
   },
   "source": [
    "Some other types of plots:"
   ]
  },
  {
   "cell_type": "code",
   "execution_count": null,
   "metadata": {
    "id": "dj7ca6KV9bIH"
   },
   "outputs": [],
   "source": [
    "#Points\n",
    "plt.scatter(x, y)"
   ]
  },
  {
   "cell_type": "code",
   "execution_count": null,
   "metadata": {
    "id": "8V2UbRcR-yAs"
   },
   "outputs": [],
   "source": [
    "#Each point has a color\n",
    "c = np.random.randint(2, size=len(x))\n",
    "plt.scatter(x, y, c=c)"
   ]
  },
  {
   "cell_type": "code",
   "execution_count": null,
   "metadata": {
    "id": "aG4JU-CQ_BFe"
   },
   "outputs": [],
   "source": [
    "#histograms\n",
    "t = np.random.normal(size=100_000)\n",
    "plt.hist(t, bins=50)\n",
    "plt.show()"
   ]
  },
  {
   "cell_type": "code",
   "execution_count": null,
   "metadata": {
    "id": "jbRAvDuM_Ppf"
   },
   "outputs": [],
   "source": [
    "#barplots\n",
    "x = [\"APPLES\", \"BANANAS\"]\n",
    "y = [400, 350]\n",
    "plt.bar(x, y)"
   ]
  },
  {
   "cell_type": "code",
   "execution_count": null,
   "metadata": {
    "id": "NVXre_TKACHa"
   },
   "outputs": [],
   "source": [
    "labels = 'Frogs', 'Hogs', 'Dogs', 'Logs'\n",
    "sizes = [15, 30, 45, 10]\n",
    "\n",
    "plt.pie(sizes, labels=labels)\n",
    "plt.show()"
   ]
  },
  {
   "cell_type": "code",
   "execution_count": null,
   "metadata": {
    "id": "Cg5NRLUAAa5Q"
   },
   "outputs": [],
   "source": [
    "# Make data.\n",
    "X = np.arange(-5, 5, 0.25)\n",
    "Y = np.arange(-5, 5, 0.25)\n",
    "X, Y = np.meshgrid(X, Y)\n",
    "Z = np.sin(np.sqrt(X**2 + Y**2))\n",
    "\n",
    "# Plot the surface\n",
    "fig, ax = plt.subplots(subplot_kw={\"projection\": \"3d\"})\n",
    "ax.plot_surface(X, Y, Z, vmin=Z.min() * 2)\n",
    "\n",
    "\n",
    "plt.show()"
   ]
  },
  {
   "cell_type": "markdown",
   "metadata": {
    "id": "Aztlc9YyAIII"
   },
   "source": [
    "### Subplots"
   ]
  },
  {
   "cell_type": "markdown",
   "metadata": {
    "id": "9j5ynhNb_Tny"
   },
   "source": [
    "It is also possible to create several plots near each other"
   ]
  },
  {
   "cell_type": "code",
   "execution_count": null,
   "metadata": {
    "id": "3n6qE8Fl_THB"
   },
   "outputs": [],
   "source": [
    "x1 = np.linspace(0, 2*np.pi, 400)\n",
    "y1 = np.sin(x1**2)\n",
    "x2 = np.linspace(-np.pi, np.pi, 500)\n",
    "y2 = np.cos(x2**2)\n",
    "\n",
    "\n",
    "fig, ax = plt.subplots(ncols=1, nrows=2)\n",
    "ax[0].plot(x1, y1)\n",
    "ax[1].plot(x2, y2)"
   ]
  },
  {
   "cell_type": "code",
   "execution_count": null,
   "metadata": {
    "id": "6aKt3F5F_cEs"
   },
   "outputs": [],
   "source": [
    "x1 = np.linspace(0, 2*np.pi, 400)\n",
    "y1 = np.sin(x1**2)\n",
    "x2 = np.linspace(-np.pi, np.pi, 500)\n",
    "y2 = np.cos(x2**2)\n",
    "\n",
    "#2 rows, 2 coluns\n",
    "fig, ax = plt.subplots(ncols=2, nrows=2)\n",
    "ax[0][0].plot(x1, y1)\n",
    "ax[1][0].plot(x2, y2)\n",
    "\n",
    "ax[0][1].scatter(x1, y1)\n",
    "ax[1][1].scatter(x2, y2)"
   ]
  },
  {
   "cell_type": "code",
   "execution_count": null,
   "metadata": {
    "id": "oaq5-UvR_gO9"
   },
   "outputs": [],
   "source": [
    "x1 = np.linspace(0, 2*np.pi, 400)\n",
    "y1 = np.sin(x1**2)\n",
    "x2 = np.linspace(-np.pi, np.pi, 500)\n",
    "y2 = np.cos(x2**2)\n",
    "\n",
    "#Here we add sharex=True\n",
    "fig, ax = plt.subplots(ncols=2, nrows=2, figsize=(10,10), sharex=True)\n",
    "fig.suptitle('4 plots')\n",
    "ax[0][0].plot(x1, y1)\n",
    "ax[0][0].set_title('sin, lineplot')\n",
    "ax[0][0].set_xlabel('this is x')\n",
    "ax[0][0].set_ylabel('this is y')\n",
    "\n",
    "ax[1][0].plot(x2, y2)\n",
    "\n",
    "ax[0][1].scatter(x1, y1)\n",
    "ax[1][1].scatter(x2, y2)"
   ]
  },
  {
   "cell_type": "markdown",
   "metadata": {
    "id": "CFkxOuVmAM0T"
   },
   "source": [
    "### Conclusion\n",
    "\n",
    "Matplotlib is a simple library for plots. Many other libraries are the extensions of it. Easy to use, but need to spend time to draw beautiful plots."
   ]
  },
  {
   "cell_type": "markdown",
   "metadata": {
    "id": "uLdzNTMJFsSN"
   },
   "source": [
    "## Pandas"
   ]
  },
  {
   "cell_type": "markdown",
   "metadata": {
    "id": "g42qM08yF8xQ"
   },
   "source": [
    "Pandas is a  library for working with tables (datasets)\n",
    "\n",
    "Why use pandas:\n",
    "\n",
    "\n",
    "\n",
    "*   Convenient table representation\n",
    "*   A lot of functions for tables (as in Excel)\n",
    "*   Visualization (embedded + some libraries are design for pandas DataFrames)\n",
    "\n",
    "\n",
    "\n",
    "\n",
    "Documentation - https://pandas.pydata.org/docs/"
   ]
  },
  {
   "cell_type": "markdown",
   "metadata": {
    "id": "1PAqOL5RHncp"
   },
   "source": [
    "Download `train.csv` file from https://www.kaggle.com/c/titanic/data?select=train.csv"
   ]
  },
  {
   "cell_type": "code",
   "execution_count": null,
   "metadata": {
    "id": "owbEwHUxA_Kz"
   },
   "outputs": [],
   "source": [
    "import matplotlib.pyplot as plt\n",
    "import numpy as np\n",
    "import pandas as pd"
   ]
  },
  {
   "cell_type": "markdown",
   "metadata": {
    "id": "DI-K4FUkKDvj"
   },
   "source": [
    "### Opening the dataset"
   ]
  },
  {
   "cell_type": "markdown",
   "metadata": {
    "id": "gzY6Q6rbHx0O"
   },
   "source": [
    "Pandas can read many types of files, for example, `.csv`, `.tsv` and `.xlsx`."
   ]
  },
  {
   "cell_type": "code",
   "execution_count": null,
   "metadata": {
    "id": "1jvI20xpHvo7"
   },
   "outputs": [],
   "source": [
    "df = pd.read_csv('train.csv')"
   ]
  },
  {
   "cell_type": "markdown",
   "metadata": {
    "id": "hXFzPGNKIDEs"
   },
   "source": [
    "The table object in pandas is called `DataFrame`:"
   ]
  },
  {
   "cell_type": "code",
   "execution_count": null,
   "metadata": {
    "id": "Bmpr_Dq9IAVq"
   },
   "outputs": [],
   "source": [
    "type(df)"
   ]
  },
  {
   "cell_type": "markdown",
   "metadata": {
    "id": "-VTQqI0bIK1T"
   },
   "source": [
    "We can look on the first rows:"
   ]
  },
  {
   "cell_type": "code",
   "execution_count": null,
   "metadata": {
    "id": "Pzw7wgtAIPeK"
   },
   "outputs": [],
   "source": [
    "df.head(4)"
   ]
  },
  {
   "cell_type": "markdown",
   "metadata": {
    "id": "nbsyUlc1ISJG"
   },
   "source": [
    "Bold numbers in first column are indices (like in lists and arrays), bold words in first row are column names."
   ]
  },
  {
   "cell_type": "code",
   "execution_count": null,
   "metadata": {
    "id": "8jn4h17YIfDZ"
   },
   "outputs": [],
   "source": [
    "#Last rows\n",
    "df.tail(4)"
   ]
  },
  {
   "cell_type": "code",
   "execution_count": null,
   "metadata": {
    "id": "1zIATILqIhoD"
   },
   "outputs": [],
   "source": [
    "#Random rows\n",
    "df.sample(6)"
   ]
  },
  {
   "cell_type": "markdown",
   "metadata": {
    "id": "BYKO8xm6Ilzr"
   },
   "source": [
    "What is this table? Information about passengers on the Titanic. Every row is a passenger.\n",
    "\n",
    "We need to know, what every column contains:\n",
    "\n",
    "*  **PassengerId** - The ID of the passenger\n",
    "*   **Survived** - \tSurvival of the passenger;\t0 = No, 1 = Yes\n",
    "* **Pclass**\t- Ticket class;\t1 = 1st, 2 = 2nd, 3 = 3rd\n",
    "* **Sex**\t- Sex of the passenger\n",
    "*   **Age** -\tAge in years\n",
    "*   **SibSp**\t- Number of siblings / spouses aboard the Titanic\n",
    "* **Parch**\t- Number of parents / children aboard the Titanic\n",
    "* **Ticket**\t- Ticket number\n",
    "* **Fare**\t- Passenger fare\n",
    "* **Cabin**\t- Cabin number\n",
    "* **Embarked**\t- Port of Embarkation;\tC = Cherbourg, Q = Queenstown, S = Southampton"
   ]
  },
  {
   "cell_type": "markdown",
   "metadata": {
    "id": "ChDzlnB8Jmx9"
   },
   "source": [
    "We can start by checking the basic information about the DataFrame"
   ]
  },
  {
   "cell_type": "code",
   "execution_count": null,
   "metadata": {
    "id": "4Fu8s4tTJs31"
   },
   "outputs": [],
   "source": [
    "#Types of columns\n",
    "df.dtypes"
   ]
  },
  {
   "cell_type": "code",
   "execution_count": null,
   "metadata": {
    "id": "IGhhfH_CJ2bo"
   },
   "outputs": [],
   "source": [
    "df.shape"
   ]
  },
  {
   "cell_type": "code",
   "execution_count": null,
   "metadata": {
    "id": "_DU7VHg0J3B9"
   },
   "outputs": [],
   "source": [
    "#number of rows\n",
    "len(df)"
   ]
  },
  {
   "cell_type": "code",
   "execution_count": null,
   "metadata": {
    "id": "xMvUoesMJ7lX"
   },
   "outputs": [],
   "source": [
    "df.columns"
   ]
  },
  {
   "cell_type": "markdown",
   "metadata": {
    "id": "77CMcHZwKIEv"
   },
   "source": [
    "### Indexing"
   ]
  },
  {
   "cell_type": "markdown",
   "metadata": {
    "id": "qJKtl53FKK2F"
   },
   "source": [
    "We can choose columns"
   ]
  },
  {
   "cell_type": "code",
   "execution_count": null,
   "metadata": {
    "id": "1MAQ2x7zKJQS"
   },
   "outputs": [],
   "source": [
    "df['Age']"
   ]
  },
  {
   "cell_type": "markdown",
   "metadata": {
    "id": "czyLJ0xzKPZW"
   },
   "source": [
    "The columns are `Series` - 1D array, with index labels."
   ]
  },
  {
   "cell_type": "code",
   "execution_count": null,
   "metadata": {
    "id": "uQBe2BoIKN-o"
   },
   "outputs": [],
   "source": [
    "type(df['Age'])"
   ]
  },
  {
   "cell_type": "markdown",
   "metadata": {
    "id": "RU-Px6LuKdMt"
   },
   "source": [
    "Why index labels matter? Why are they bold in DataFrame and why are they preserved in Series?\n",
    "\n",
    "\n",
    "Because they are ids of rows/elements and they are not always numbers 0, 1, ...\n",
    "\n",
    "\n",
    "Let's firstly look on how to choose rows: methods `loc` and `iloc`"
   ]
  },
  {
   "cell_type": "code",
   "execution_count": null,
   "metadata": {
    "id": "Re2vldL2K5ez"
   },
   "outputs": [],
   "source": [
    "#choose row with index = 1\n",
    "df.loc[1]"
   ]
  },
  {
   "cell_type": "code",
   "execution_count": null,
   "metadata": {
    "id": "W09U8uS5LIMQ"
   },
   "outputs": [],
   "source": [
    "#choose row, which relative position is 1\n",
    "df.iloc[1]"
   ]
  },
  {
   "cell_type": "markdown",
   "metadata": {
    "id": "9XK5i-uTLNn9"
   },
   "source": [
    "No difference? Let's check the following example:"
   ]
  },
  {
   "cell_type": "code",
   "execution_count": null,
   "metadata": {
    "id": "Z_EZT8ejK_pM"
   },
   "outputs": [],
   "source": [
    "np.random.seed(0)\n",
    "sample = df.sample(3)\n",
    "\n",
    "sample"
   ]
  },
  {
   "cell_type": "markdown",
   "metadata": {
    "id": "UKKZAGzbLm9j"
   },
   "source": [
    "The relative position 1 is occupied by Edward (648 index)"
   ]
  },
  {
   "cell_type": "code",
   "execution_count": null,
   "metadata": {
    "id": "74FoVy-nLbnV"
   },
   "outputs": [],
   "source": [
    "sample.iloc[1]"
   ]
  },
  {
   "cell_type": "markdown",
   "metadata": {
    "id": "tKKJHm4nLs5e"
   },
   "source": [
    "But there is no index 1, so `loc` will give an error:"
   ]
  },
  {
   "cell_type": "code",
   "execution_count": null,
   "metadata": {
    "id": "c0ICQumqLk1R"
   },
   "outputs": [],
   "source": [
    "#error\n",
    "sample.loc[1]"
   ]
  },
  {
   "cell_type": "markdown",
   "metadata": {
    "id": "8Rm0FNoYLzqI"
   },
   "source": [
    "When we take the column of our sample, the indices are perserved."
   ]
  },
  {
   "cell_type": "code",
   "execution_count": null,
   "metadata": {
    "id": "R46y9EIILxxn"
   },
   "outputs": [],
   "source": [
    "sample['Age']"
   ]
  },
  {
   "cell_type": "markdown",
   "metadata": {
    "id": "-MtL7OP-L9RV"
   },
   "source": [
    "It is possible to use masks for choosing rows (like in numpy)"
   ]
  },
  {
   "cell_type": "code",
   "execution_count": null,
   "metadata": {
    "id": "5vxnlc1aMNIG"
   },
   "outputs": [],
   "source": [
    "#Passengers who paid more than 300\n",
    "df[df['Fare'] > 300]"
   ]
  },
  {
   "cell_type": "code",
   "execution_count": null,
   "metadata": {
    "id": "RPG-_uD-Q1Zv"
   },
   "outputs": [],
   "source": [
    "#Women who paid more than 300\n",
    "df[(df['Fare'] > 300) & (df['Sex'] == 'female')]"
   ]
  },
  {
   "cell_type": "markdown",
   "metadata": {
    "id": "5B_7-pf1QCrE"
   },
   "source": [
    "### Some statistics"
   ]
  },
  {
   "cell_type": "code",
   "execution_count": null,
   "metadata": {
    "id": "yP1mgTUaQHUj"
   },
   "outputs": [],
   "source": [
    "df.describe()"
   ]
  },
  {
   "cell_type": "code",
   "execution_count": null,
   "metadata": {
    "id": "CwACbYaOQL5-"
   },
   "outputs": [],
   "source": [
    "#Correlation\n",
    "df.corr(numeric_only=True)"
   ]
  },
  {
   "cell_type": "markdown",
   "metadata": {
    "id": "2Mqy_YtzQfF8"
   },
   "source": [
    "It may be important to look into unique values (often categories) of columns.\n",
    "\n",
    "It is said that there are 3 classes. Is this true?"
   ]
  },
  {
   "cell_type": "code",
   "execution_count": null,
   "metadata": {
    "id": "HLq1F58MQwPo"
   },
   "outputs": [],
   "source": [
    "df['Pclass'].unique()"
   ]
  },
  {
   "cell_type": "code",
   "execution_count": null,
   "metadata": {
    "id": "H6RGpoJ1Qxdi"
   },
   "outputs": [],
   "source": [
    "df['Pclass'].nunique()"
   ]
  },
  {
   "cell_type": "code",
   "execution_count": null,
   "metadata": {
    "id": "riXOpNYuQyq4"
   },
   "outputs": [],
   "source": [
    "#Count how many passengers were in every class\n",
    "df['Pclass'].value_counts()"
   ]
  },
  {
   "cell_type": "markdown",
   "metadata": {
    "id": "B-T8aREJRKmV"
   },
   "source": [
    "We may assume that people in class 1 paid on average more than people in class 3.\n",
    "\n",
    "Let's check it:"
   ]
  },
  {
   "cell_type": "code",
   "execution_count": null,
   "metadata": {
    "id": "svmObtmHRUQo"
   },
   "outputs": [],
   "source": [
    "df.groupby('Pclass')['Fare'].mean()"
   ]
  },
  {
   "cell_type": "markdown",
   "metadata": {
    "id": "cUiS2JI4RWxa"
   },
   "source": [
    "`groupby` - method chooses rows with same value (1, 2 or 3) of the column (`'Pclass'`) and computes the  function (`mean`) for every same value."
   ]
  },
  {
   "cell_type": "markdown",
   "metadata": {
    "id": "l41k-Ao0Rrds"
   },
   "source": [
    "**Task:**\n",
    "\n",
    "What was the maximum age of male/female passengers?"
   ]
  },
  {
   "cell_type": "code",
   "execution_count": null,
   "metadata": {
    "id": "Rylftz0VR188"
   },
   "outputs": [],
   "source": [
    "#YOUR CODE"
   ]
  },
  {
   "cell_type": "markdown",
   "metadata": {
    "id": "meGBTjg1R9Xo"
   },
   "source": [
    "### Add/delete columns"
   ]
  },
  {
   "cell_type": "code",
   "execution_count": null,
   "metadata": {
    "id": "FVExuqwmR105"
   },
   "outputs": [],
   "source": [
    "df['Random'] = np.random.rand(len(df))\n",
    "df.sample(2)"
   ]
  },
  {
   "cell_type": "markdown",
   "metadata": {
    "id": "X-Amu_sdSBpC"
   },
   "source": [
    "There was no `'Random'` column, we have created it (like in python `dict`, just added a new key)\n",
    "\n",
    "We also can use old columns to create new"
   ]
  },
  {
   "cell_type": "code",
   "execution_count": null,
   "metadata": {
    "id": "ckb0xcgMSP6F"
   },
   "outputs": [],
   "source": [
    "df['Fare'] * 2"
   ]
  },
  {
   "cell_type": "code",
   "execution_count": null,
   "metadata": {
    "id": "wfJohayXSRpB"
   },
   "outputs": [],
   "source": [
    "df['Double_Fare'] =  df['Fare'] * 2\n",
    "df.sample(2)"
   ]
  },
  {
   "cell_type": "code",
   "execution_count": null,
   "metadata": {
    "id": "o9AGzEJZSV3B"
   },
   "outputs": [],
   "source": [
    "df['Fare_Random'] =  df['Fare'] + df['Random']\n",
    "df.sample(2)"
   ]
  },
  {
   "cell_type": "code",
   "execution_count": null,
   "metadata": {
    "id": "DQBqGy2PSYMI"
   },
   "outputs": [],
   "source": [
    "df['Big_Fare'] =  (df['Fare'] > 100).astype('int64')\n",
    "df.sample(2)"
   ]
  },
  {
   "cell_type": "markdown",
   "metadata": {
    "id": "yGNlQkOHSPh4"
   },
   "source": [
    "All the new columns were created using math or bool operations. What if we have some more complex function?\n",
    "\n",
    "For example, we want to have column 'name_length'"
   ]
  },
  {
   "cell_type": "code",
   "execution_count": null,
   "metadata": {
    "id": "7TxUChz-StYN"
   },
   "outputs": [],
   "source": [
    "len(df['Name'])"
   ]
  },
  {
   "cell_type": "markdown",
   "metadata": {
    "id": "8QRvjT77Svcs"
   },
   "source": [
    "The code does not compute `len` for every name, but for the Series itself.\n",
    "\n",
    "To apply function we can use `apply` (or `for`-loop, but it is slow)"
   ]
  },
  {
   "cell_type": "code",
   "execution_count": null,
   "metadata": {
    "id": "6yanFcC6S6GQ"
   },
   "outputs": [],
   "source": [
    "df['Name'].apply(len)"
   ]
  },
  {
   "cell_type": "markdown",
   "metadata": {
    "id": "IHghaswfTIfQ"
   },
   "source": [
    "**Task:**\n",
    "\n",
    "Every full name contains a title, let's extract it and put into new column."
   ]
  },
  {
   "cell_type": "code",
   "execution_count": null,
   "metadata": {
    "id": "KlqMEs9CTQsl"
   },
   "outputs": [],
   "source": [
    "def extract_title(s):\n",
    "  #YOUR CODE\n",
    "\n",
    "\n",
    "df['Title'] = df['Name'].apply(extract_title)\n",
    "\n",
    "df.sample(5)"
   ]
  },
  {
   "cell_type": "markdown",
   "metadata": {
    "id": "MiKnyNF1TiiH"
   },
   "source": [
    "To delete columns/rows we can use `drop` function"
   ]
  },
  {
   "cell_type": "code",
   "execution_count": null,
   "metadata": {
    "id": "Y4rz4gtVTmyw"
   },
   "outputs": [],
   "source": [
    "df.drop(columns=['Big_Fare', 'Fare_Random', 'Double_Fare', 'Random'])"
   ]
  },
  {
   "cell_type": "code",
   "execution_count": null,
   "metadata": {
    "id": "7-T5qNXvTqD-"
   },
   "outputs": [],
   "source": [
    "df.sample(3)"
   ]
  },
  {
   "cell_type": "markdown",
   "metadata": {
    "id": "GgcEW5gtTpXL"
   },
   "source": [
    "But the columns are still there ...\n",
    "\n",
    "Important: many functions that change the DataFrame are not inplace, they return a **copy**"
   ]
  },
  {
   "cell_type": "code",
   "execution_count": null,
   "metadata": {
    "id": "rV96Zh2HUBkq"
   },
   "outputs": [],
   "source": [
    "new_df = df.drop(columns=['Big_Fare', 'Fare_Random', 'Double_Fare', 'Random'])\n",
    "#change something in new_df\n",
    "new_df['Age'] = 0\n",
    "new_df['Parch'] = -12321\n",
    "new_df.head(2)"
   ]
  },
  {
   "cell_type": "code",
   "execution_count": null,
   "metadata": {
    "id": "-a7jEbUjUI3c"
   },
   "outputs": [],
   "source": [
    "#initial is untouched\n",
    "df.head(2)"
   ]
  },
  {
   "cell_type": "markdown",
   "metadata": {
    "id": "ztIX9vtHUQr3"
   },
   "source": [
    "We need to save the changes (use `inplace=True` or `df = df.drop(...)`)"
   ]
  },
  {
   "cell_type": "code",
   "execution_count": null,
   "metadata": {
    "id": "SVowfUfzUX9o"
   },
   "outputs": [],
   "source": [
    "#df = df.drop(columns=['Big_Fare', 'Fare_Random', 'Double_Fare', 'Random'])\n",
    "df.drop(columns=['Big_Fare', 'Fare_Random', 'Double_Fare', 'Random'], inplace=True)\n",
    "df.sample(2)"
   ]
  },
  {
   "cell_type": "markdown",
   "metadata": {
    "id": "ylNB3OXtUlaO"
   },
   "source": [
    "## Seaborn"
   ]
  },
  {
   "cell_type": "markdown",
   "metadata": {
    "id": "LIeDX8O7UzCa"
   },
   "source": [
    "Seaborn is a library for visualization, extension of matplotlib\n",
    "\n",
    "Why use seaborn:\n",
    "\n",
    "\n",
    "\n",
    "*   Simplier syntax\n",
    "*   Faster and easier to make beautiful plots (the default versions are alredy ok)\n",
    "*   Convenient for pandas\n",
    "*   More complex plots\n",
    "\n"
   ]
  },
  {
   "cell_type": "code",
   "execution_count": null,
   "metadata": {
    "id": "M97NPscZVXLC"
   },
   "outputs": [],
   "source": [
    "import seaborn as sns"
   ]
  },
  {
   "cell_type": "markdown",
   "metadata": {
    "id": "6ytQSteiWLEc"
   },
   "source": [
    "### Types of plots"
   ]
  },
  {
   "cell_type": "code",
   "execution_count": null,
   "metadata": {
    "id": "mtUwWbqTVZbp"
   },
   "outputs": [],
   "source": [
    "#The histogram\n",
    "sns.histplot(data=df, x='Age')"
   ]
  },
  {
   "cell_type": "code",
   "execution_count": null,
   "metadata": {
    "id": "miX16jK8Vb9P"
   },
   "outputs": [],
   "source": [
    "sns.histplot(data=df,\n",
    "             x='Age',\n",
    "             hue='Pclass' #different color, bars\n",
    "             )"
   ]
  },
  {
   "cell_type": "markdown",
   "metadata": {
    "id": "kT_1SrLyVto3"
   },
   "source": [
    "If we want to make a similar plot with matplotlib:"
   ]
  },
  {
   "cell_type": "code",
   "execution_count": null,
   "metadata": {
    "id": "qCResGQuVnVR"
   },
   "outputs": [],
   "source": [
    "plt.title(\"Age\")\n",
    "plt.hist(\n",
    "    [df[\"Age\"][df[\"Pclass\"] == 1],\n",
    "     df[\"Age\"][df[\"Pclass\"] == 2],\n",
    "     df[\"Age\"][df[\"Pclass\"] == 3]],\n",
    "    stacked=True,\n",
    "    bins=50\n",
    ");\n"
   ]
  },
  {
   "cell_type": "code",
   "execution_count": null,
   "metadata": {
    "id": "qoX4LBTEV86V"
   },
   "outputs": [],
   "source": [
    "sns.scatterplot(df,\n",
    "                x='Age',\n",
    "                y='Fare'\n",
    "                )"
   ]
  },
  {
   "cell_type": "code",
   "execution_count": null,
   "metadata": {
    "id": "Gcmg7H0mWEpB"
   },
   "outputs": [],
   "source": [
    "#boxplot\n",
    "sns.catplot(df, x=\"Pclass\", y=\"Age\",  kind=\"box\")"
   ]
  },
  {
   "cell_type": "markdown",
   "metadata": {
    "id": "SPjUkY7DWUH7"
   },
   "source": [
    "**Task**\n",
    "\n",
    "Draw boxplot, where color is Sex, every box is a port of embarkation and the values are the fare."
   ]
  },
  {
   "cell_type": "code",
   "execution_count": null,
   "metadata": {
    "id": "lQBYtTleWmrT"
   },
   "outputs": [],
   "source": [
    "#YOUR CODE"
   ]
  },
  {
   "cell_type": "markdown",
   "metadata": {
    "id": "lpZKc2TsWoAj"
   },
   "source": [
    "###Conclusion"
   ]
  },
  {
   "cell_type": "markdown",
   "metadata": {
    "id": "FGHeshPJWp5s"
   },
   "source": [
    "Seaborn is a library for drawing beautiful plots easily."
   ]
  }
 ],
 "metadata": {
  "colab": {
   "provenance": []
  },
  "kernelspec": {
   "display_name": "Python 3 (ipykernel)",
   "language": "python",
   "name": "python3"
  },
  "language_info": {
   "codemirror_mode": {
    "name": "ipython",
    "version": 3
   },
   "file_extension": ".py",
   "mimetype": "text/x-python",
   "name": "python",
   "nbconvert_exporter": "python",
   "pygments_lexer": "ipython3",
   "version": "3.10.9"
  }
 },
 "nbformat": 4,
 "nbformat_minor": 1
}
